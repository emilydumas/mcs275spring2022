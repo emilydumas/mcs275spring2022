{
 "cells": [
  {
   "cell_type": "markdown",
   "metadata": {},
   "source": [
    "# MCS 275 Spring 2022 Worksheet 9 Solutions\n",
    "\n",
    "* Course instructor: Emily Dumas\n",
    "* Solutions prepared by: Jennifer Vaccaro, Johnny Joyce"
   ]
  },
  {
   "cell_type": "markdown",
   "metadata": {},
   "source": [
    "## Topics\n",
    "\n",
    "The main topics of this worksheet are:\n",
    "* Tree traversals\n",
    "* Set and defaultdict\n",
    "* CSV and JSON\n",
    "\n",
    "## Resources\n",
    "\n",
    "These things might be helpful while working on the problems.  Remember that for worksheets,  we don't strictly limit what resources you can consult, so these are only suggestions.\n",
    "\n",
    "* [Lecture 21 - Traversals](http://dumas.io/teaching/2022/spring/mcs275/slides/lecture21.html)\n",
    "* [Lecture 22 - set and defaultdict](http://dumas.io/teaching/2022/spring/mcs275/slides/lecture22.html)\n",
    "* [Lecture 23 - CSV and JSON](http://dumas.io/teaching/2022/spring/mcs275/slides/lecture23.html)\n",
    "* [Chapter 7 of Miller and Ranum](https://runestone.academy/runestone/books/published/pythonds/Trees/toctree.html)\n",
    "* [Downey's book](https://greenteapress.com/thinkpython2/html/)\n",
    "\n",
    "The most useful files from the sample code repository are:\n",
    "* [The `io` folder (with CSV/JSON examples)](https://github.com/emilydumas/mcs275spring2022/tree/main/samplecode/io/)\n",
    "* [trees.py](https://github.com/emilydumas/mcs275spring2022/blob/main/samplecode/trees/trees.py)\n",
    "* [treevis.py](https://github.com/emilydumas/mcs275spring2022/blob/main/samplecode/trees/treevis.py)\n",
    "* [treeutil.py](https://github.com/emilydumas/mcs275spring2022/blob/main/samplecode/trees/treeutil.py)\n",
    "* [treeutil documentation](https://github.com/emilydumas/mcs275spring2022/blob/main/samplecode/trees/treeutil.md)"
   ]
  },
  {
   "cell_type": "markdown",
   "metadata": {},
   "source": [
    "## 1. Accidentally quadratic\n",
    "\n",
    "Here is a function that takes two strings and returns the set of characters that appear in both strings."
   ]
  },
  {
   "cell_type": "code",
   "execution_count": 118,
   "metadata": {},
   "outputs": [],
   "source": [
    "def common_chars(s1,s2):\n",
    "    \"\"\"Return a set of all characters that are present in both\n",
    "    strings `s1` and `s2`.\"\"\"\n",
    "    common = set()\n",
    "    for c1 in s1:\n",
    "        if c1 in s2:\n",
    "            common.add(c1)\n",
    "    return common"
   ]
  },
  {
   "cell_type": "markdown",
   "metadata": {},
   "source": [
    "It works.  Here's a simple example:"
   ]
  },
  {
   "cell_type": "code",
   "execution_count": 49,
   "metadata": {},
   "outputs": [
    {
     "data": {
      "text/plain": [
       "{'c', 'e', 'i', 'm', 's', 't'}"
      ]
     },
     "execution_count": 49,
     "metadata": {},
     "output_type": "execute_result"
    }
   ],
   "source": [
    "common_chars(\"mathematics\",\"computer science\")"
   ]
  },
  {
   "cell_type": "markdown",
   "metadata": {},
   "source": [
    "However, this function is actually **needlessly slow**.  Here's an example that generates two strings that each have `50,000` characters, runs `common_chars` on them, and prints the total time."
   ]
  },
  {
   "cell_type": "code",
   "execution_count": 50,
   "metadata": {},
   "outputs": [
    {
     "name": "stdout",
     "output_type": "stream",
     "text": [
      "Common characters:\n",
      "{'w', 'n', 't', 'f', 'r', 'm', 'z', 'q', 'p', 'e', 'i', 'u', 'l', 'o', 'k', 'd', 'g', 'h', 'v', 's', 'j'}\n",
      "\n",
      "Running time: 15.94 seconds\n"
     ]
    }
   ],
   "source": [
    "import random\n",
    "import time\n",
    "\n",
    "s1 = ''.join([ random.choice([\"edfghijklmnopqrstuvwxyzzzzzzzzzzzzzzzz\"]) for _ in range(50000) ])\n",
    "s2 = ''.join([ random.choice([\"abcedfghijklmnopqrstuvw\"]) for _ in range(50000) ]) + 'z'\n",
    "\n",
    "t_start = time.time()\n",
    "both = common_chars(s1,s2)\n",
    "t_end = time.time()\n",
    "\n",
    "print(\"Common characters:\")\n",
    "print(both)\n",
    "print(\"\\nRunning time: {:.2f} seconds\".format(t_end-t_start))"
   ]
  },
  {
   "cell_type": "markdown",
   "metadata": {},
   "source": [
    "If you try this yourself, you might get a slightly different time, but it will probably take more than 10 seconds.\n",
    "\n",
    "First, what is going on here?  It should be possible to compare millions of characters for equality per second, and there are only 100,000 characters you need to look at, right?\n",
    "\n",
    "Second, can you fix it?  (It is possible to make this function shorter, clearer, and so that it takes less than 0.05 seconds.)"
   ]
  },
  {
   "cell_type": "markdown",
   "metadata": {},
   "source": [
    "# Solution"
   ]
  },
  {
   "cell_type": "markdown",
   "metadata": {},
   "source": [
    "The problem with this function is that it has an implicit nested for loop that performs `len(s1)*len(s2)` equality checks.  The expression\n",
    "```\n",
    "c1 in s2\n",
    "```\n",
    "is equivalent to the return value of this function:\n",
    "```\n",
    "def c1_in_s2():\n",
    "    for c2 in s2:\n",
    "        if c1==c2:\n",
    "            return True\n",
    "    return False\n",
    "```\n",
    "In the worst case, this function performs `len(s2)` checks, and it runs for each character of `s1`.  If `s1` and `s2` are each of length 50,000, then this becomes 2,500,000,000 equality checks.\n",
    "\n",
    "However, most strings don't have that many distinct characters, so it would be faster to:\n",
    "* Find all of the distinct characters in `s1` (and make a set out of them)\n",
    "* Find all of the distinct characters in `s2` (and make a set out of them)\n",
    "* Check which characters lie in both of these sets\n",
    "\n",
    "The time it takes to do this would be roughly proportional to `len(s1) + len(s2) + n1*n2` where `n1` is the number of distinct characters in `s1` and `n2` is the number of distinct characters in `s2`.  In most cases `n1` and `n2` will be bounded by a fixed constant (like `26`, if the strings only contain lower case letters of the alphabet), so the main contribution to the running time is proportional to the lengths of `s1` and `s2` individually, rather than their product.\n",
    "\n",
    "Here is an alternative `common_chars` function that uses this strategy:"
   ]
  },
  {
   "cell_type": "code",
   "execution_count": 1,
   "metadata": {},
   "outputs": [],
   "source": [
    "def common_chars(s1,s2):\n",
    "    \"\"\"Return a set of all characters that are present in both\n",
    "    strings `s1` and `s2`.\"\"\"\n",
    "    # By first turning s1 and s2 into sets, we have fewer characters to compare.\n",
    "    # Then we can return the intersection\n",
    "    return set(s1) & set(s2)\n",
    "\n",
    "# Another syntax option would be 'return set(s1).intersection(s2)'"
   ]
  },
  {
   "cell_type": "markdown",
   "metadata": {},
   "source": [
    "Here is a timing study, showing it handles strings of length 50,000 with ease:"
   ]
  },
  {
   "cell_type": "code",
   "execution_count": 2,
   "metadata": {},
   "outputs": [
    {
     "name": "stdout",
     "output_type": "stream",
     "text": [
      "Common characters:\n",
      "{'z', 'k', 'e', 'r', 'n', 'd', 'l', 'q', 's', 'f', 't', 'p', 'o', 'g', 'j', 'm', 'i', 'h', 'u', 'w', 'v'}\n",
      "\n",
      "Running time: 0.02 seconds\n"
     ]
    }
   ],
   "source": [
    "import random\n",
    "import time\n",
    "\n",
    "s1 = ''.join([ random.choice([\"edfghijklmnopqrstuvwxyzzzzzzzzzzzzzzzz\"]) for _ in range(50000) ])\n",
    "s2 = ''.join([ random.choice([\"abcedfghijklmnopqrstuvw\"]) for _ in range(50000) ]) + 'z'\n",
    "\n",
    "t_start = time.time()\n",
    "both = common_chars(s1,s2)\n",
    "t_end = time.time()\n",
    "\n",
    "print(\"Common characters:\")\n",
    "print(both)\n",
    "print(\"\\nRunning time: {:.2f} seconds\".format(t_end-t_start))"
   ]
  },
  {
   "cell_type": "markdown",
   "metadata": {},
   "source": [
    "## 2. Save and load tree\n",
    "\n",
    "Recall that we have two classes for building trees:\n",
    "* `Node`, for generic binary trees\n",
    "* `BST`, a subclass for binary search trees\n",
    "\n",
    "Consider the following binary tree, made of `Node` objects:\n",
    "```\n",
    "          [True] \n",
    "          /    \\\n",
    "   [\"Alice\"]  [False]\n",
    "    /     \\\n",
    " [5.8]   [5.5]\n",
    "```\n",
    "If we wanted to save the tree to a file, JSON would be a natural choice as it allows nesting of data structures.  The tree above might be saved as:\n",
    "```json\n",
    "{\n",
    "    \"class\": \"Node\",\n",
    "    \"tree\": {\n",
    "        \"key\": true,\n",
    "        \"left\": {\n",
    "            \"key\": \"Alice\",\n",
    "            \"left\": {\n",
    "                \"key\": 5.8,\n",
    "                \"left\": null,\n",
    "                \"right\": null\n",
    "            },\n",
    "            \"right\": {\n",
    "                \"key\": 5.5,\n",
    "                \"left\": null,\n",
    "                \"right\": null\n",
    "            }\n",
    "        },\n",
    "        \"right\": {\n",
    "            \"key\": false,\n",
    "            \"left\": null,\n",
    "            \"right\": null\n",
    "        }\n",
    "    }\n",
    "}\n",
    "```\n",
    "Here, the top-level JSON object has just two keys: `\"class\"` indicates what kind of tree it is (BST or Node), and `\"tree\"` maps to a hierarchy of objects that represent the nodes of the tree.\n",
    "\n",
    "The same general approach could be applied to binary search trees, too.  This BST:\n",
    "```\n",
    "          [6] \n",
    "\n",
    "    [5]         [14]\n",
    "\n",
    " [4]         [10]  [16]\n",
    "```\n",
    "Could be saved as:\n",
    "```json\n",
    "{\n",
    "    \"class\": \"BST\",\n",
    "    \"tree\": {\n",
    "        \"key\": 6,\n",
    "        \"left\": {\n",
    "            \"key\": 5,\n",
    "            \"left\": {\n",
    "                \"key\": 4,\n",
    "                \"left\": null,\n",
    "                \"right\": null\n",
    "            },\n",
    "            \"right\": null\n",
    "        },\n",
    "        \"right\": {\n",
    "            \"key\": 14,\n",
    "            \"left\": {\n",
    "                \"key\": 10,\n",
    "                \"left\": null,\n",
    "                \"right\": null\n",
    "            },\n",
    "            \"right\": {\n",
    "                \"key\": 16,\n",
    "                \"left\": null,\n",
    "                \"right\": null\n",
    "            }\n",
    "        }\n",
    "    }\n",
    "}\n",
    "```\n",
    "\n",
    "Add a method `save(fp)` to class `Node` in `trees.py` that will save a tree as a JSON object, writing it to an open file object `fp`.\n",
    "\n",
    "Then, add a function to the module `trees.py` called `load(fp)` that takes an open file object, reads a JSON object from it, and then builds and returns the corresponding tree.  The return type should be either `Node` or `BST` depending on what is found in the JSON file.\n",
    "\n",
    "Suggestions / hints:\n",
    "* At first, ignore the BST case and build a version that works for `Node` objects\n",
    "* A key step is converting a tree to a collection of nested dictionaries.  I suggest making a separate method of `Node` called `as_dict_tree()` that handles this naturally recursive operation.  Then you can handle the top-level object creation (with `\"class\"` and `\"tree\"` keys) in the method `save` itself.\n",
    "* A dictionary like `{\"Node\": Node, \"BST\": BST}` can be used to map names of classes to actual classes.  That allows you to build a `Node` or `BST` object depending on a string, e.g."
   ]
  },
  {
   "cell_type": "code",
   "execution_count": null,
   "metadata": {},
   "outputs": [],
   "source": [
    "node_classes = {\"Node\": Node, \"BST\": BST}\n",
    "\n",
    "k = \"Node\"\n",
    "A = node_classes[k](key=5)\n",
    "# Now A is a Node object\n",
    "\n",
    "k = \"BST\"\n",
    "B = node_classes[k](key=11)\n",
    "# Now B is a BST object"
   ]
  },
  {
   "cell_type": "markdown",
   "metadata": {},
   "source": [
    "When you're done, the following code should build a BST, save it to a file, and load it back again."
   ]
  },
  {
   "cell_type": "code",
   "execution_count": null,
   "metadata": {},
   "outputs": [],
   "source": [
    "from trees import load, BST\n",
    "from treevis import treeprint\n",
    "\n",
    "T = BST()\n",
    "T.insert(8)\n",
    "T.insert(12)\n",
    "T.insert(2)\n",
    "T.insert(3)\n",
    "\n",
    "with open(\"tree.json\",\"w\",encoding=\"UTF-8\") as fp:\n",
    "    T.save(fp)\n",
    "    \n",
    "with open(\"tree.json\",\"r\",encoding=\"UTF-8\") as fp:\n",
    "    W = load(fp)\n",
    "    \n",
    "print(\"Tree that was saved:\")\n",
    "treevis.treeprint(T)\n",
    "\n",
    "print(\"Tree that was loaded:\")\n",
    "treevis.treeprint(W)"
   ]
  },
  {
   "cell_type": "markdown",
   "metadata": {},
   "source": [
    "# Solution"
   ]
  },
  {
   "cell_type": "markdown",
   "metadata": {},
   "source": [
    "Inside class `Node`: (note that this implicitly defines the function for class `BST` too)"
   ]
  },
  {
   "cell_type": "code",
   "execution_count": null,
   "metadata": {},
   "outputs": [],
   "source": [
    "    def as_dict_tree(self):\n",
    "        '''Returns representation of tree as a dictionary object so it can be saved'''\n",
    "        \n",
    "        # Initialize left and right keys as None so they can be overwritten if needed\n",
    "        D = {\"key\": self.key, \"left\": None, \"right\": None}\n",
    "\n",
    "        if self.left != None:\n",
    "            D[\"left\"] = self.left.as_dict_tree()\n",
    "\n",
    "        if self.right != None:\n",
    "            D[\"right\"] = self.right.as_dict_tree()\n",
    "\n",
    "        return D\n",
    "        "
   ]
  },
  {
   "cell_type": "markdown",
   "metadata": {},
   "source": [
    "Also inside class `Node` (be sure to `import json`):"
   ]
  },
  {
   "cell_type": "code",
   "execution_count": null,
   "metadata": {},
   "outputs": [],
   "source": [
    "    def save(self, fp):\n",
    "        '''Saves dictionary representation of tree as JSON file as `fp`.'''\n",
    "        tree = self.as_dict_tree()\n",
    "        json.dump({\"class\": self.__class__.__name__, \"tree\": tree}, file)"
   ]
  },
  {
   "cell_type": "markdown",
   "metadata": {},
   "source": [
    "In another file, define the `load` function (along with a recursive helper function called `dict_tree_to_nodes` to turn dictionaries into `Node`s or `BST`s)"
   ]
  },
  {
   "cell_type": "code",
   "execution_count": null,
   "metadata": {},
   "outputs": [],
   "source": [
    "def dict_tree_to_nodes(D, node_type):\n",
    "    '''Converts a dict object into a Node or BST.\n",
    "    Argument `node_type' can be either `Node` or `BST` \n",
    "    (acting as a reference to the class itself, not a string).'''\n",
    "\n",
    "    if D[\"left\"] != None: # Recursive call on left side if needed\n",
    "        left_node = dict_tree_to_nodes(D[\"left\"], node_type)\n",
    "    else:\n",
    "        left_node = None\n",
    "    \n",
    "    if D[\"right\"] != None: # Recursive call on right side if needed\n",
    "        right_node = dict_tree_to_nodes(D[\"right\"], node_type)\n",
    "    else:\n",
    "        right_node = None\n",
    "\n",
    "    # Call the `node_type` class to initialize a node with left and right children\n",
    "    return node_type(D[\"key\"], left = left_node, right = right_node)\n",
    "\n",
    "\n",
    "def load(fp):\n",
    "    '''Loads a tree from a JSON file `fp`'''\n",
    "    T = json.load(fp)\n",
    "    if T[\"class\"] == \"Node\":\n",
    "        node_type = trees.Node\n",
    "    else:\n",
    "        node_type = trees.BST\n",
    "    return dict_tree_to_nodes(T[\"tree\"], node_type)"
   ]
  },
  {
   "cell_type": "markdown",
   "metadata": {},
   "source": [
    "Running the example test code, we see that the tree is preserved after saving and loading (this block of code may need some small modifications depending on how you organized your `.py` files)"
   ]
  },
  {
   "cell_type": "code",
   "execution_count": 5,
   "metadata": {},
   "outputs": [
    {
     "name": "stdout",
     "output_type": "stream",
     "text": [
      "Tree that was saved:\n",
      "      [8]\n",
      "\n",
      "  [2]     [12]\n",
      "\n",
      " .  [3]  .   .\n",
      "\n",
      "Tree that was loaded:\n",
      "      [8]\n",
      "\n",
      "  [2]     [12]\n",
      "\n",
      " .  [3]  .   .\n",
      "\n"
     ]
    }
   ],
   "source": [
    "import trees\n",
    "import treevis\n",
    "import json\n",
    "\n",
    "T = trees.BST(8)\n",
    "T.insert(12)\n",
    "T.insert(2)\n",
    "T.insert(3)\n",
    "\n",
    "with open(\"tree.json\",\"w\",encoding=\"UTF-8\") as fp:\n",
    "    T.save(fp)\n",
    "    \n",
    "with open(\"tree.json\",\"r\",encoding=\"UTF-8\") as fp:\n",
    "    W = load(fp)\n",
    "    \n",
    "print(\"Tree that was saved:\")\n",
    "treevis.treeprint(T)\n",
    "\n",
    "print(\"Tree that was loaded:\")\n",
    "treevis.treeprint(W)"
   ]
  },
  {
   "cell_type": "markdown",
   "metadata": {},
   "source": [
    "## 3. CSV merge\n",
    "\n",
    "Write a program to merge any number of CSV files, so that each row in any of the input files becomes a row in the output file.  All of the input CSV files will have header rows.  If the CSV files have the same columns, this is of course easy.  But you should also handle the general case, where some columns may exist in multiple files, and others may be unique to a single file.  The output file should contain one column for each distinct column name that appears in any of the input files.\n",
    "\n",
    "Arrange it so your program `csvmerge.py` accepts all the input filenames as command line arguments.  The last command line argument is the name of the output file that should be created.\n",
    "\n",
    "For example, you might use a command like\n",
    "```\n",
    "python3 csvmerge.py a.csv b.csv c.csv out.csv\n",
    "```\n",
    "with `a.csv` containing:\n",
    "```\n",
    "name,age,favorite\n",
    "Melissa,52,vanilla\n",
    "Jonah,24,strawberry\n",
    "```\n",
    "and `b.csv` containing:\n",
    "```\n",
    "name,major\n",
    "Josefina,falconry\n",
    "David,phrenology\n",
    "```\n",
    "and `c.csv` containing:\n",
    "```\n",
    "age,major\n",
    "5,bubbles\n",
    "11,chess\n",
    "```\n",
    "In which case the program should create `out.csv` containing:\n",
    "```\n",
    "name,age,favorite,major\n",
    "Melissa,52,vanilla,\n",
    "Jonah,24,strawberry,\n",
    "Josefina,,,falconry\n",
    "David,,,phrenology\n",
    ",5,,bubbles\n",
    ",11,,chess\n",
    "```"
   ]
  },
  {
   "cell_type": "markdown",
   "metadata": {},
   "source": [
    "# Solution"
   ]
  },
  {
   "cell_type": "code",
   "execution_count": null,
   "metadata": {},
   "outputs": [],
   "source": [
    "import csv\n",
    "import sys\n",
    "\n",
    "# This code keeps me from accidentally emptying out this text file, \n",
    "# needs at least 2 command line args\n",
    "if len(sys.argv) < 3:\n",
    "    raise Exception(\"Usage: {} INPUTFILES OUTPUTFILE\".format(sys.argv[0]))\n",
    "\n",
    "# Iterate through the input files, adding the column names to a set.\n",
    "# At this point we don't look at any of the input data---only the header row.\n",
    "columns = set()\n",
    "for csv_fn in sys.argv[1:-1]:\n",
    "    with open(csv_fn,newline=\"\") as csv_file:\n",
    "        reader = csv.DictReader(csv_file)\n",
    "        for col in reader.fieldnames:\n",
    "            columns.add(col)\n",
    "            \n",
    "# Note: because we use a set to store the column names, the columns may appear in a different \n",
    "# order in the output file than they do in any input file. If order were important, we'd need\n",
    "# to use a data structure other than a set to store the column names.\n",
    "\n",
    "# Now, open the output file, and write the data from each input file into the output file.\n",
    "# Use the combined input fieldnames. This is the second time each input file is opened.\n",
    "out_fn = sys.argv[-1]\n",
    "with open(out_fn,\"w\") as out_file:\n",
    "    writer = csv.DictWriter(out_file, fieldnames=list(columns))  # fieldnames must be a list\n",
    "    writer.writeheader()\n",
    "    # Iterate through our input files again, and write each row of them to the output file.\n",
    "    for csv_fn in sys.argv[1:-1]:\n",
    "        with open(csv_fn,newline=\"\") as csv_file:\n",
    "            reader = csv.DictReader(csv_file)\n",
    "            for row in reader:\n",
    "                writer.writerow(row)  # row may not have all the keys that `writer` expects\n",
    "                                      # but that's ok; DictWriter allows missing keys and\n",
    "                                      # fills in an empty output field for them."
   ]
  },
  {
   "cell_type": "markdown",
   "metadata": {},
   "source": [
    "### Extra for self study: Two line tree\n",
    "\n",
    "This is an elaboration of a comment from lecture.  It doesn't ask you to do much except experiment with an interesting construction.\n",
    "\n",
    "The following one-line function lets you create hierarchies of dictionaries in Python using defaultdict:"
   ]
  },
  {
   "cell_type": "code",
   "execution_count": 124,
   "metadata": {},
   "outputs": [],
   "source": [
    "# Adapted from https://gist.github.com/hrldcpr/2012250 by Harold Cooper\n",
    "from collections import defaultdict\n",
    "\n",
    "def autohierarchy():\n",
    "    return defaultdict(autohierarchy)"
   ]
  },
  {
   "cell_type": "markdown",
   "metadata": {},
   "source": [
    "Here's an example of how you can use it.  Basically, you just attempt to access keys to create them!  You can even access a key of a nested dictionary, and all the surrounding dictionaries will be created."
   ]
  },
  {
   "cell_type": "code",
   "execution_count": 120,
   "metadata": {},
   "outputs": [
    {
     "name": "stdout",
     "output_type": "stream",
     "text": [
      "Adding stuff\n",
      "Ok, added the stuff\n"
     ]
    }
   ],
   "source": [
    "tasks = autohierarchy()\n",
    "print(\"Adding stuff\")\n",
    "tasks[\"home\"][\"maintenance\"][\"demagnetize rain gutters\"]\n",
    "tasks[\"home\"][\"maintenance\"][\"replace missing front door\"]\n",
    "tasks[\"home\"][\"cleaning\"][\"load dishwasher\"]\n",
    "tasks[\"home\"][\"cleaning\"][\"run dishwasher\"]\n",
    "tasks[\"home\"][\"cleaning\"][\"empty dishwasher\"]\n",
    "tasks[\"school\"][\"mcs 275\"][\"project 3\"]\n",
    "print(\"Ok, added the stuff\")"
   ]
  },
  {
   "cell_type": "markdown",
   "metadata": {},
   "source": [
    "Now if you print one of these objects, it looks ugly.  But if you convert it to JSON, it looks nice."
   ]
  },
  {
   "cell_type": "code",
   "execution_count": 121,
   "metadata": {},
   "outputs": [
    {
     "name": "stdout",
     "output_type": "stream",
     "text": [
      "Ugly, but has all the stuff we intended:\n",
      "defaultdict(<function autohierarchy at 0x7f7edc493e50>, {'home': defaultdict(<function autohierarchy at 0x7f7edc493e50>, {'maintenance': defaultdict(<function autohierarchy at 0x7f7edc493e50>, {'demagnetize rain gutters': defaultdict(<function autohierarchy at 0x7f7edc493e50>, {}), 'replace missing front door': defaultdict(<function autohierarchy at 0x7f7edc493e50>, {})}), 'cleaning': defaultdict(<function autohierarchy at 0x7f7edc493e50>, {'load dishwasher': defaultdict(<function autohierarchy at 0x7f7edc493e50>, {}), 'run dishwasher': defaultdict(<function autohierarchy at 0x7f7edc493e50>, {}), 'empty dishwasher': defaultdict(<function autohierarchy at 0x7f7edc493e50>, {})})}), 'school': defaultdict(<function autohierarchy at 0x7f7edc493e50>, {'mcs 275': defaultdict(<function autohierarchy at 0x7f7edc493e50>, {'project 3': defaultdict(<function autohierarchy at 0x7f7edc493e50>, {})})})})\n",
      "\n",
      "Nicer:\n",
      "{\n",
      "    \"home\": {\n",
      "        \"maintenance\": {\n",
      "            \"demagnetize rain gutters\": {},\n",
      "            \"replace missing front door\": {}\n",
      "        },\n",
      "        \"cleaning\": {\n",
      "            \"load dishwasher\": {},\n",
      "            \"run dishwasher\": {},\n",
      "            \"empty dishwasher\": {}\n",
      "        }\n",
      "    },\n",
      "    \"school\": {\n",
      "        \"mcs 275\": {\n",
      "            \"project 3\": {}\n",
      "        }\n",
      "    }\n",
      "}\n"
     ]
    }
   ],
   "source": [
    "import json\n",
    "\n",
    "print(\"Ugly, but has all the stuff we intended:\")\n",
    "print(tasks)\n",
    "print()\n",
    "print(\"Nicer:\")\n",
    "print(json.dumps(tasks, indent=4))"
   ]
  },
  {
   "cell_type": "markdown",
   "metadata": {},
   "source": [
    "Can you figure out how and why this works?"
   ]
  }
 ],
 "metadata": {
  "kernelspec": {
   "display_name": "Python 3 (ipykernel)",
   "language": "python",
   "name": "python3"
  },
  "language_info": {
   "codemirror_mode": {
    "name": "ipython",
    "version": 3
   },
   "file_extension": ".py",
   "mimetype": "text/x-python",
   "name": "python",
   "nbconvert_exporter": "python",
   "pygments_lexer": "ipython3",
   "version": "3.8.12"
  }
 },
 "nbformat": 4,
 "nbformat_minor": 4
}
