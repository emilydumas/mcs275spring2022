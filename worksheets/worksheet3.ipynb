{
 "cells": [
  {
   "cell_type": "markdown",
   "metadata": {},
   "source": [
    "# MCS 275 Spring 2022 Worksheet 3\n",
    "\n",
    "* Course instructor: Emily Dumas"
   ]
  },
  {
   "cell_type": "markdown",
   "metadata": {},
   "source": [
    "## Topics\n",
    "\n",
    "This worksheet focuses on object-oriented programming."
   ]
  },
  {
   "cell_type": "markdown",
   "metadata": {},
   "source": [
    "## Resources\n",
    "\n",
    "These things might be helpful while working on the problems.  Remember that for worksheets,  we don't strictly limit what resources you can consult, so these are only suggestions.\n",
    "\n",
    "* [Lecture 4 - Operator Overloading](https://www.dumas.io/teaching/2022/spring/mcs275/slides/lecture4.html)\n",
    "* [Lecture 5 - Inheritance](https://www.dumas.io/teaching/2022/spring/mcs275/slides/lecture5.html)\n",
    "* [Lecture 5 - Inheritance part 2](https://www.dumas.io/teaching/2022/spring/mcs275/slides/lecture6.html)\n",
    "* [MCS 275 Python Tour](https://www.dumas.io/teaching/2022/spring/mcs275/nbview/samplecode/python_tour.html)\n",
    "* [Downey's book](https://greenteapress.com/thinkpython2/html/)\n",
    "* MCS 260 course materials from Fall 2021:\n",
    "    * [Slides, homework, worksheets, and projects](https://www.dumas.io/teaching/2021/fall/mcs260/)\n",
    "    * [Sample programs](https://github.com/emilydumas/mcs260fall2021/tree/main/samplecode)"
   ]
  },
  {
   "cell_type": "markdown",
   "metadata": {},
   "source": [
    "## 1. Get the Project 1 starter pack\n",
    "\n",
    "\n",
    "[Project 1](https://www.dumas.io/teaching/2022/spring/mcs275/nbview/projects/project1.html) is due on 4 February.  To prepare for working on it, please download and extract ths starter pack, which is a ZIP file:\n",
    "\n",
    "* [MCS 275 Spring 2022 Project 1 Starter Pack](https://www.dumas.io/teaching/2022/spring/mcs275/project1/mcs275proj1starterpack.zip)\n",
    "\n",
    "You don't just want to view the contents of the ZIP file in Windows explorer; it's important to actually extract the files so they exist in a directory where you can do your project work.\n",
    "\n",
    "When you've extracted the starter pack, check that you know the location of `textsimulation.py` and that you can run it in the terminal.\n",
    "\n",
    "The point of asking you to do it during lab is to ensure the TA can help you if you run into any problems."
   ]
  },
  {
   "cell_type": "markdown",
   "metadata": {},
   "source": [
    "## 2. Additional bots\n",
    "\n",
    "Download these files related to the robot simulation from the course sample code repository and put them in a directory where you'll do your work for this problem.\n",
    "\n",
    "* [plane.py](https://raw.githubusercontent.com/emilydumas/mcs275spring2022/master/samplecode/plane.py)\n",
    "* [bots.py](https://raw.githubusercontent.com/emilydumas/mcs275spring2022/master/samplecode/bots.py)\n",
    "* [botsimulation.py](https://raw.githubusercontent.com/emilydumas/mcs275spring2022/master/samplecode/botsimulation.py)\n",
    "\n",
    "Then, build these new robots in `bots.py` that are subclasses of `Bot`:\n",
    "* class `DelayMarchBot()`\n",
    "  * A robot that waits for a specified number of time units, and thereafter marches in a direction (default is `Vector(1,0)`, but any direction can be specified in the constructor)\n",
    "\n",
    "* class `PauseMarchBot()`\n",
    "  * At each time step, the robot chooses one of these two things to do based on a coin flip (random choice):\n",
    "     * Take a step in a fixed direction that was set in the constructor\n",
    "     * Pause for a moment (do nothing)\n",
    "* class `TeleportBot()`\n",
    "  * Most of the time, this robot just stands still.  Buit at each time step there is a 10% chance that it will teleport to a random location.\n",
    "  \n",
    "Add these robots to the simulation and confirm they exhibit the expected behavior."
   ]
  },
  {
   "cell_type": "markdown",
   "metadata": {},
   "source": [
    "## 3. Cipher class hierarchy\n",
    "\n",
    "Build a module `encoders` (in `encoders.py`) containing classes for simple ciphers (or codes; ways of obscuring the contents of a string that can be undone later by the intended recipient).\n",
    "\n",
    "There should be a base class `BaseEncoder` that has two methods:\n",
    "* `encode(self,text)` : Returns the string `text` unchanged.  Subclasses will alter this behavior.\n",
    "* `decode(self,text)` : Returns the string `text` unchanged.  Subclasses will alter this behavior.\n",
    "\n",
    "It should be the case that\n",
    "```obj.decode(obj.encode(s)) == s```\n",
    "is true for any string `s`, and for any object `obj` that is an instance of `BaseEncoder` or subclass thereof.\n",
    "\n",
    "Then, build subclasses of `BaseEncoder` that implement encoding and decoding by different ciphers, including:\n",
    "\n",
    "* `RotateEncoder` : Encoding rotates letters in the alphabet forward by a certain number of steps, e.g. so rotation by 5 turns \"a\" into \"f\" and \"z\" into \"e\" (because we wrap around when we reach the end of the alphabet).  No transformation is applied to characters other than capital and lower case letters.  Constructor accepts an integer, specifying the number of steps to rotate.\n",
    "\n",
    "* `Rot13Encoder` : A subclass of `RotateEncoder` that fixes the steps at 13, so that encoding and decoding are the same operation.\n",
    "\n",
    "* `SubstitutionEncoder` : The constructor accepts two arguments, `pre` and `post`.  The string `pre` is a list of characters to be replaced when encoding, and string `post` indicates the things to replace them with.  For example, using `pre=\"abcd\"` and `post=\"1j4e\"` would mean that \"a\" is supposed to be replaced by \"1\", \"b\" by \"j\", \"c\" by \"4\", and so on.\n",
    "  * Be careful writing the encoder so that you don't replace things twice. For example `pre=\"abc\"` and `post=\"bca\"` should encode \"banana\" to \"cbnbnb\", and *not* \"ccncnc\".\n",
    "  * You can assume that `pre` and `post` contain the same characters but in a different order.  If that's not the case, then it would be impossible to ensure that decoding after encoding always gives the original text back again.\n",
    "  \n",
    "You can find some test code below.  The test code assumes all of the classes are in the global scope."
   ]
  },
  {
   "cell_type": "code",
   "execution_count": null,
   "metadata": {},
   "outputs": [],
   "source": [
    "E = RotateEncoder(5)\n",
    "s = E.encode(\"Hello world!\") # Mjqqt btwqi!\n",
    "print(s) # Mjqqt btwqi!\n",
    "print(E.decode(s)) # Hello world!\n",
    "\n",
    "F = SubstitutionEncoder(\"lmno\",\"nolm\")\n",
    "s = F.encode(\"Hello everyone!\")\n",
    "print(s) # Hennm everymle!\n",
    "print(F.decode(s)) # Hello everyone!"
   ]
  },
  {
   "cell_type": "markdown",
   "metadata": {},
   "source": [
    "## Bonus round\n",
    "\n",
    "Work on these open-ended problems if you finish the exercises above.  We don't plan to include solutions to these in the worksheet solutions, but we may do so if most people end up working on any of these.\n",
    "\n",
    "### WORM dictionary\n",
    "\n",
    "Write a subclass of `dict` that only lets you set the value associated with a key once.  If you try to change the value associated with an existing key, it raises `ValueError`.  You'll need to read up on the special method `__setitem__` to make this work.\n",
    "\n",
    "(WORM stands for *Write Once, Read Many times*.)\n",
    "\n",
    "### Sending a key\n",
    "\n",
    "The encoders in problem 3 don't handle the problem of communicating to your message recipient the information about what code you will use for future messages.\n",
    "\n",
    "Add `__str__` and `__repr__` methods to the ciphers that give enough information so that a message recipient who is given encoded text and the return value of `str(encoder_object)` would be able to instantiate an encoder and decode a message.\n",
    "\n",
    "### More interesting cipher\n",
    "\n",
    "Design and implement another cipher as a subclass of BaseEncoder which isn't as simple as substituting letters with specified replacements.  For example, you might make it so that the way a letter is handled depends on both the letter and the text that's been encoded so far.  Confirm that your cipher\n",
    "\n",
    "### DelayedActionBot\n",
    "\n",
    "Make a robot class (a subclass of `DestructBot`) that stands still for a specified number of steps and then self-destructs.  But before it does so, this class calls a user-specified function.  The function is given as an argument to the constructor.  So, for example:\n",
    "\n",
    "```\n",
    "def bye():\n",
    "    \"\"\"Robot says goodbye\"\"\"\n",
    "    print(\"Thanks for including me in this simulation.  I was glad to be written in Python.  Goodbye.\")\n",
    "    \n",
    "R = bots.DelayedActionBot(position=Point(3,3),lifetime=10,action=bye)\n",
    "\n",
    "# ... code to run the simulation ...\n",
    "```\n",
    "should make a robot that sits at position (3,3) for 10 steps, prints a message, and then self-destructs.\n",
    "\n",
    "The `action` argument of the constructor should default to `None`, and the class should know to not do anything if `action==None`.  That way, any code that works with `DestructBot` will also work with `DelayedActionBot`."
   ]
  }
 ],
 "metadata": {
  "kernelspec": {
   "display_name": "Python 3",
   "language": "python",
   "name": "python3"
  },
  "language_info": {
   "codemirror_mode": {
    "name": "ipython",
    "version": 3
   },
   "file_extension": ".py",
   "mimetype": "text/x-python",
   "name": "python",
   "nbconvert_exporter": "python",
   "pygments_lexer": "ipython3",
   "version": "3.8.10"
  }
 },
 "nbformat": 4,
 "nbformat_minor": 4
}
