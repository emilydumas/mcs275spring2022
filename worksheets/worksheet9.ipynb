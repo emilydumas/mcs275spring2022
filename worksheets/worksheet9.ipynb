{
 "cells": [
  {
   "cell_type": "markdown",
   "metadata": {},
   "source": [
    "# MCS 275 Spring 2022 Worksheet 9\n",
    "\n",
    "* Course instructor: Emily Dumas"
   ]
  },
  {
   "cell_type": "markdown",
   "metadata": {},
   "source": [
    "## Topics\n",
    "\n",
    "The main topics of this worksheet are:\n",
    "* Tree traversals\n",
    "* Set and defaultdict\n",
    "* CSV and JSON\n",
    "\n",
    "## Resources\n",
    "\n",
    "These things might be helpful while working on the problems.  Remember that for worksheets,  we don't strictly limit what resources you can consult, so these are only suggestions.\n",
    "\n",
    "* [Lecture 21 - Traversals](http://dumas.io/teaching/2022/spring/mcs275/slides/lecture21.html)\n",
    "* [Lecture 22 - set and defaultdict](http://dumas.io/teaching/2022/spring/mcs275/slides/lecture22.html)\n",
    "* [Lecture 23 - CSV and JSON](http://dumas.io/teaching/2022/spring/mcs275/slides/lecture23.html)\n",
    "* [Chapter 7 of Miller and Ranum](https://runestone.academy/runestone/books/published/pythonds/Trees/toctree.html)\n",
    "* [Downey's book](https://greenteapress.com/thinkpython2/html/)\n",
    "\n",
    "The most useful files from the sample code repository are:\n",
    "* [The `io` folder (with CSV/JSON examples)](https://github.com/emilydumas/mcs275spring2022/tree/main/samplecode/io/)\n",
    "* [trees.py](https://github.com/emilydumas/mcs275spring2022/blob/main/samplecode/trees/trees.py)\n",
    "* [treevis.py](https://github.com/emilydumas/mcs275spring2022/blob/main/samplecode/trees/treevis.py)\n",
    "* [treeutil.py](https://github.com/emilydumas/mcs275spring2022/blob/main/samplecode/trees/treeutil.py)\n",
    "* [treeutil documentation](https://github.com/emilydumas/mcs275spring2022/blob/main/samplecode/trees/treeutil.md)"
   ]
  },
  {
   "cell_type": "markdown",
   "metadata": {},
   "source": [
    "## 1. Accidentally quadratic\n",
    "\n",
    "Here is a function that takes two strings and returns the set of characters that appear in both strings."
   ]
  },
  {
   "cell_type": "code",
   "execution_count": 118,
   "metadata": {},
   "outputs": [],
   "source": [
    "def common_chars(s1,s2):\n",
    "    \"\"\"Return a set of all characters that are present in both\n",
    "    strings `s1` and `s2`.\"\"\"\n",
    "    common = set()\n",
    "    for c1 in s1:\n",
    "        if c1 in s2:\n",
    "            common.add(c1)\n",
    "    return common"
   ]
  },
  {
   "cell_type": "markdown",
   "metadata": {},
   "source": [
    "It works.  Here's a simple example:"
   ]
  },
  {
   "cell_type": "code",
   "execution_count": 49,
   "metadata": {},
   "outputs": [
    {
     "data": {
      "text/plain": [
       "{'c', 'e', 'i', 'm', 's', 't'}"
      ]
     },
     "execution_count": 49,
     "metadata": {},
     "output_type": "execute_result"
    }
   ],
   "source": [
    "common_chars(\"mathematics\",\"computer science\")"
   ]
  },
  {
   "cell_type": "markdown",
   "metadata": {},
   "source": [
    "However, this function is actually **needlessly slow**.  Here's an example that generates two strings that each have `50,000` characters, runs `common_chars` on them, and prints the total time."
   ]
  },
  {
   "cell_type": "code",
   "execution_count": 50,
   "metadata": {},
   "outputs": [
    {
     "name": "stdout",
     "output_type": "stream",
     "text": [
      "Common characters:\n",
      "{'w', 'n', 't', 'f', 'r', 'm', 'z', 'q', 'p', 'e', 'i', 'u', 'l', 'o', 'k', 'd', 'g', 'h', 'v', 's', 'j'}\n",
      "\n",
      "Running time: 15.94 seconds\n"
     ]
    }
   ],
   "source": [
    "import random\n",
    "import time\n",
    "\n",
    "s1 = ''.join([ random.choice([\"edfghijklmnopqrstuvwxyzzzzzzzzzzzzzzzz\"]) for _ in range(50000) ])\n",
    "s2 = ''.join([ random.choice([\"abcedfghijklmnopqrstuvw\"]) for _ in range(50000) ]) + 'z'\n",
    "\n",
    "t_start = time.time()\n",
    "both = common_chars(s1,s2)\n",
    "t_end = time.time()\n",
    "\n",
    "print(\"Common characters:\")\n",
    "print(both)\n",
    "print(\"\\nRunning time: {:.2f} seconds\".format(t_end-t_start))"
   ]
  },
  {
   "cell_type": "markdown",
   "metadata": {},
   "source": [
    "If you try this yourself, you might get a slightly different time, but it will probably take more than 10 seconds.\n",
    "\n",
    "First, what is going on here?  It should be possible to compare millions of characters for equality per second, and there are only 100,000 characters you need to look at, right?\n",
    "\n",
    "Second, can you fix it?  (It is possible to make this function shorter, clearer, and so that it takes less than 0.05 seconds.)"
   ]
  },
  {
   "cell_type": "markdown",
   "metadata": {},
   "source": [
    "## 2. Save and load tree\n",
    "\n",
    "Recall that we have two classes for building trees:\n",
    "* `Node`, for generic binary trees\n",
    "* `BST`, a subclass for binary search trees\n",
    "\n",
    "Consider the following binary tree, made of `Node` objects:\n",
    "```\n",
    "          [True] \n",
    "          /    \\\n",
    "   [\"Alice\"]  [False]\n",
    "    /     \\\n",
    " [5.8]   [5.5]\n",
    "```\n",
    "If we wanted to save the tree to a file, JSON would be a natural choice as it allows nesting of data structures.  The tree above might be saved as:\n",
    "```json\n",
    "{\n",
    "    \"class\": \"Node\",\n",
    "    \"tree\": {\n",
    "        \"key\": true,\n",
    "        \"left\": {\n",
    "            \"key\": \"Alice\",\n",
    "            \"left\": {\n",
    "                \"key\": 5.8,\n",
    "                \"left\": null,\n",
    "                \"right\": null\n",
    "            },\n",
    "            \"right\": {\n",
    "                \"key\": 5.5,\n",
    "                \"left\": null,\n",
    "                \"right\": null\n",
    "            }\n",
    "        },\n",
    "        \"right\": {\n",
    "            \"key\": false,\n",
    "            \"left\": null,\n",
    "            \"right\": null\n",
    "        }\n",
    "    }\n",
    "}\n",
    "```\n",
    "Here, the top-level JSON object has just two keys: `\"class\"` indicates what kind of tree it is (BST or Node), and `\"tree\"` maps to a hierarchy of objects that represent the nodes of the tree.\n",
    "\n",
    "The same general approach could be applied to binary search trees, too.  This BST:\n",
    "```\n",
    "          [6] \n",
    "\n",
    "    [5]         [14]\n",
    "\n",
    " [4]         [10]  [16]\n",
    "```\n",
    "Could be saved as:\n",
    "```json\n",
    "{\n",
    "    \"class\": \"BST\",\n",
    "    \"tree\": {\n",
    "        \"key\": 6,\n",
    "        \"left\": {\n",
    "            \"key\": 5,\n",
    "            \"left\": {\n",
    "                \"key\": 4,\n",
    "                \"left\": null,\n",
    "                \"right\": null\n",
    "            },\n",
    "            \"right\": null\n",
    "        },\n",
    "        \"right\": {\n",
    "            \"key\": 14,\n",
    "            \"left\": {\n",
    "                \"key\": 10,\n",
    "                \"left\": null,\n",
    "                \"right\": null\n",
    "            },\n",
    "            \"right\": {\n",
    "                \"key\": 16,\n",
    "                \"left\": null,\n",
    "                \"right\": null\n",
    "            }\n",
    "        }\n",
    "    }\n",
    "}\n",
    "```\n",
    "\n",
    "Add a method `save(fp)` to class `Node` in `trees.py` that will save a tree as a JSON object, writing it to an open file object `fp`.\n",
    "\n",
    "Then, add a function to the module `trees.py` called `load(fp)` that takes an open file object, reads a JSON object from it, and then builds and returns the corresponding tree.  The return type should be either `Node` or `BST` depending on what is found in the JSON file.\n",
    "\n",
    "Suggestions / hints:\n",
    "* At first, ignore the BST case and build a version that works for `Node` objects\n",
    "* A key step is converting a tree to a collection of nested dictionaries.  I suggest making a separate method of `Node` called `as_dict_tree()` that handles this naturally recursive operation.  Then you can handle the top-level object creation (with `\"class\"` and `\"tree\"` keys) in the method `save` itself.\n",
    "* A dictionary like `{\"Node\": Node, \"BST\": BST}` can be used to map names of classes to actual classes.  That allows you to build a `Node` or `BST` object depending on a string, e.g."
   ]
  },
  {
   "cell_type": "code",
   "execution_count": null,
   "metadata": {},
   "outputs": [],
   "source": [
    "node_classes = {\"Node\": Node, \"BST\": BST}\n",
    "\n",
    "k = \"Node\"\n",
    "A = node_classes[k](key=5)\n",
    "# Now A is a Node object\n",
    "\n",
    "k = \"BST\"\n",
    "B = node_classes[k](key=11)\n",
    "# Now B is a BST object"
   ]
  },
  {
   "cell_type": "markdown",
   "metadata": {},
   "source": [
    "When you're done, the following code should build a BST, save it to a file, and load it back again."
   ]
  },
  {
   "cell_type": "code",
   "execution_count": null,
   "metadata": {},
   "outputs": [],
   "source": [
    "from trees import load, BST\n",
    "from treevis import treeprint\n",
    "\n",
    "T = BST()\n",
    "T.insert(8)\n",
    "T.insert(12)\n",
    "T.insert(2)\n",
    "T.insert(3)\n",
    "\n",
    "with open(\"tree.json\",\"w\",encoding=\"UTF-8\") as fp:\n",
    "    T.save(fp)\n",
    "    \n",
    "with open(\"tree.json\",\"r\",encoding=\"UTF-8\") as fp:\n",
    "    W = load(fp)\n",
    "    \n",
    "print(\"Tree that was saved:\")\n",
    "treevis.treeprint(T)\n",
    "\n",
    "print(\"Tree that was loaded:\")\n",
    "treevis.treeprint(W)"
   ]
  },
  {
   "cell_type": "markdown",
   "metadata": {},
   "source": [
    "## 3. CSV merge\n",
    "\n",
    "Write a program to merge any number of CSV files, so that each row in any of the input files becomes a row in the output file.  All of the input CSV files will have header rows.  If the CSV files have the same columns, this is of course easy.  But you should also handle the general case, where some columns may exist in multiple files, and others may be unique to a single file.  The output file should contain one column for each distinct column name that appears in any of the input files.\n",
    "\n",
    "Arrange it so your program `csvmerge.py` accepts all the input filenames as command line arguments.  The last command line argument is the name of the output file that should be created.\n",
    "\n",
    "For example, you might use a command like\n",
    "```\n",
    "python3 csvmerge.py a.csv b.csv c.csv out.csv\n",
    "```\n",
    "with `a.csv` containing:\n",
    "```\n",
    "name,age,favorite\n",
    "Melissa,52,vanilla\n",
    "Jonah,24,strawberry\n",
    "```\n",
    "and `b.csv` containing:\n",
    "```\n",
    "name,major\n",
    "Josefina,falconry\n",
    "David,phrenology\n",
    "```\n",
    "and `c.csv` containing:\n",
    "```\n",
    "age,major\n",
    "5,bubbles\n",
    "11,chess\n",
    "```\n",
    "In which case the program should create `out.csv` containing:\n",
    "```\n",
    "name,age,favorite,major\n",
    "Melissa,52,vanilla,\n",
    "Jonah,24,strawberry,\n",
    "Josefina,,,falconry\n",
    "David,,,phrenology\n",
    ",5,,bubbles\n",
    ",11,,chess\n",
    "```"
   ]
  },
  {
   "cell_type": "markdown",
   "metadata": {},
   "source": [
    "### Extra for self study: Two line tree\n",
    "\n",
    "This is an elaboration of a comment from lecture.  It doesn't ask you to do much except experiment with an interesting construction.\n",
    "\n",
    "The following one-line function lets you create hierarchies of dictionaries in Python using defaultdict:"
   ]
  },
  {
   "cell_type": "code",
   "execution_count": 124,
   "metadata": {},
   "outputs": [],
   "source": [
    "# Adapted from https://gist.github.com/hrldcpr/2012250 by Harold Cooper\n",
    "from collections import defaultdict\n",
    "\n",
    "def autohierarchy():\n",
    "    return defaultdict(autohierarchy)"
   ]
  },
  {
   "cell_type": "markdown",
   "metadata": {},
   "source": [
    "Here's an example of how you can use it.  Basically, you just attempt to access keys to create them!  You can even access a key of a nested dictionary, and all the surrounding dictionaries will be created."
   ]
  },
  {
   "cell_type": "code",
   "execution_count": 120,
   "metadata": {},
   "outputs": [
    {
     "name": "stdout",
     "output_type": "stream",
     "text": [
      "Adding stuff\n",
      "Ok, added the stuff\n"
     ]
    }
   ],
   "source": [
    "tasks = autohierarchy()\n",
    "print(\"Adding stuff\")\n",
    "tasks[\"home\"][\"maintenance\"][\"demagnetize rain gutters\"]\n",
    "tasks[\"home\"][\"maintenance\"][\"replace missing front door\"]\n",
    "tasks[\"home\"][\"cleaning\"][\"load dishwasher\"]\n",
    "tasks[\"home\"][\"cleaning\"][\"run dishwasher\"]\n",
    "tasks[\"home\"][\"cleaning\"][\"empty dishwasher\"]\n",
    "tasks[\"school\"][\"mcs 275\"][\"project 3\"]\n",
    "print(\"Ok, added the stuff\")"
   ]
  },
  {
   "cell_type": "markdown",
   "metadata": {},
   "source": [
    "Now if you print one of these objects, it looks ugly.  But if you convert it to JSON, it looks nice."
   ]
  },
  {
   "cell_type": "code",
   "execution_count": 121,
   "metadata": {},
   "outputs": [
    {
     "name": "stdout",
     "output_type": "stream",
     "text": [
      "Ugly, but has all the stuff we intended:\n",
      "defaultdict(<function autohierarchy at 0x7f7edc493e50>, {'home': defaultdict(<function autohierarchy at 0x7f7edc493e50>, {'maintenance': defaultdict(<function autohierarchy at 0x7f7edc493e50>, {'demagnetize rain gutters': defaultdict(<function autohierarchy at 0x7f7edc493e50>, {}), 'replace missing front door': defaultdict(<function autohierarchy at 0x7f7edc493e50>, {})}), 'cleaning': defaultdict(<function autohierarchy at 0x7f7edc493e50>, {'load dishwasher': defaultdict(<function autohierarchy at 0x7f7edc493e50>, {}), 'run dishwasher': defaultdict(<function autohierarchy at 0x7f7edc493e50>, {}), 'empty dishwasher': defaultdict(<function autohierarchy at 0x7f7edc493e50>, {})})}), 'school': defaultdict(<function autohierarchy at 0x7f7edc493e50>, {'mcs 275': defaultdict(<function autohierarchy at 0x7f7edc493e50>, {'project 3': defaultdict(<function autohierarchy at 0x7f7edc493e50>, {})})})})\n",
      "\n",
      "Nicer:\n",
      "{\n",
      "    \"home\": {\n",
      "        \"maintenance\": {\n",
      "            \"demagnetize rain gutters\": {},\n",
      "            \"replace missing front door\": {}\n",
      "        },\n",
      "        \"cleaning\": {\n",
      "            \"load dishwasher\": {},\n",
      "            \"run dishwasher\": {},\n",
      "            \"empty dishwasher\": {}\n",
      "        }\n",
      "    },\n",
      "    \"school\": {\n",
      "        \"mcs 275\": {\n",
      "            \"project 3\": {}\n",
      "        }\n",
      "    }\n",
      "}\n"
     ]
    }
   ],
   "source": [
    "import json\n",
    "\n",
    "print(\"Ugly, but has all the stuff we intended:\")\n",
    "print(tasks)\n",
    "print()\n",
    "print(\"Nicer:\")\n",
    "print(json.dumps(tasks, indent=4))"
   ]
  },
  {
   "cell_type": "markdown",
   "metadata": {},
   "source": [
    "Can you figure out how and why this works?"
   ]
  }
 ],
 "metadata": {
  "kernelspec": {
   "display_name": "Python 3",
   "language": "python",
   "name": "python3"
  },
  "language_info": {
   "codemirror_mode": {
    "name": "ipython",
    "version": 3
   },
   "file_extension": ".py",
   "mimetype": "text/x-python",
   "name": "python",
   "nbconvert_exporter": "python",
   "pygments_lexer": "ipython3",
   "version": "3.8.10"
  }
 },
 "nbformat": 4,
 "nbformat_minor": 4
}
