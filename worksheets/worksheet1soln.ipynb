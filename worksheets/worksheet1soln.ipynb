{
 "cells": [
  {
   "cell_type": "markdown",
   "metadata": {},
   "source": [
    "# MCS 275 Spring 2022 Worksheet 1 Solutions\n",
    "\n",
    "* Course instructor: Emily Dumas\n",
    "* Solutions prepared by: Jennifer Vaccaro, Johnny Joyce"
   ]
  },
  {
   "cell_type": "markdown",
   "metadata": {},
   "source": [
    "## Topics\n",
    "\n",
    "This worksheet covers some initial setup and installation of software, followed by some coding exercises that use material from prerequisite courses."
   ]
  },
  {
   "cell_type": "markdown",
   "metadata": {},
   "source": [
    "## Instructions\n",
    "* This isn't collected or graded.\n",
    "* If you took MCS 260 recently, perhaps even with me in Fall 2021, you may have some or all of the necessary tools installed already.  That's fine.  Be sure to test them out and read through the worksheet carefully to be sure you know what is assumed from now on."
   ]
  },
  {
   "cell_type": "markdown",
   "metadata": {},
   "source": [
    "## Part I: Setting up a development enviroment"
   ]
  },
  {
   "cell_type": "markdown",
   "metadata": {},
   "source": [
    "The tasks in this part of the worksheet expand on the Getting Started steps listed in the course web page.\n",
    "\n",
    "We're starting out online, so you should complete these steps on whatever device you plan to use for writing programs while classes are online.  It's best if that is also the device you use for zoom.\n",
    "\n",
    "In case you need to attend class using a computer where you can't install things, it *is* possible to use  [UIC Technology Solutions' Virtual Computer Lab service](https://accc.uic.edu/services/teaching-learning/learning-environments/virtual-computer-lab/) instead.  It provides a Windows 10 computer that you can control through a web browser.  However, remote desktop systems like this don't feel as fast, responsive, or natural as using things installed locally.  I think you will have a better experience if you can install the software necessary to develop programs on your own device.  (For example, many common keyboard shortcuts don't work in the virtual lab.)\n",
    "\n",
    "When we return to in person instruction, the computers in the labs will have the necessary software installed on them, and you can log in to those computers with your UIC netid and password.  I guess that many students will still prefer to work on their own devices (e.g. by bringing a laptop to lab), and we support that.\n",
    "\n",
    "The steps below guide you through the process of installing the necessary software on your computer.  Work on them in today's lab so that the TA can offer assistance if you encounter problems."
   ]
  },
  {
   "cell_type": "markdown",
   "metadata": {},
   "source": [
    "## Part II: Python Calisthenics\n",
    "\n",
    "This section gives a series of exercises (of roughly increasing complexity) in which you'll write programs that are based on things you are expected to have seen in a prerequisite course.  We'll talk about these in Lectures 2-3 as well, and the first quiz will cover the same kind of review material.\n",
    "\n",
    "These start very easy and build up."
   ]
  },
  {
   "cell_type": "markdown",
   "metadata": {},
   "source": [
    "### 7. Squares\n",
    "\n",
    "Create a simple program `squares.py` that prints the squares of the first 10 positive integers, so its output should look like\n",
    "```\n",
    "1\n",
    "4\n",
    "9\n",
    "...\n",
    "100\n",
    "```\n",
    "\n",
    "Then, add a feature to this program where it accepts an optional command line argument which is the largest integer whose square should be printed (while 10 remains the default if no argument is given).  Recall that command line arguments appear in the list `sys.argv` which is accessible after you import the `sys` module.\n",
    "\n",
    "Thus, for example, your modified program would print just\n",
    "```\n",
    "1\n",
    "4\n",
    "9\n",
    "```\n",
    "if run with the command\n",
    "```\n",
    "python squares.py 3\n",
    "```"
   ]
  },
  {
   "cell_type": "markdown",
   "metadata": {},
   "source": [
    "# Solution"
   ]
  },
  {
   "cell_type": "code",
   "execution_count": 1,
   "metadata": {
    "scrolled": true
   },
   "outputs": [
    {
     "name": "stdout",
     "output_type": "stream",
     "text": [
      "1\n",
      "4\n",
      "9\n",
      "16\n",
      "25\n",
      "36\n",
      "49\n",
      "64\n",
      "81\n",
      "100\n"
     ]
    }
   ],
   "source": [
    "# range(1,11) for integers starting at 1 and ending at 10 (i.e. before 11)\n",
    "for i in range(1,11):\n",
    "    print(i**2)"
   ]
  },
  {
   "cell_type": "markdown",
   "metadata": {},
   "source": [
    "# Solution (modified version)"
   ]
  },
  {
   "cell_type": "code",
   "execution_count": null,
   "metadata": {},
   "outputs": [],
   "source": [
    "import sys\n",
    "\n",
    "n = 10 # Largest integer which should be squared and printed\n",
    "\n",
    "if len(sys.argv) > 1: # If an optional command line argument was given\n",
    "    n = int(sys.argv[1]) # Get the command line argument & convert to int\n",
    "    \n",
    "for i in range(1,n+1):\n",
    "    print(i**2)"
   ]
  },
  {
   "cell_type": "markdown",
   "metadata": {},
   "source": [
    "### 8. Getting to know our coding standards\n",
    "\n",
    "Now that you've written a simple program from scratch, and have a full Python setup working, it's time to get acquainted with some code style rules.\n",
    "\n",
    "All code you submit for credit needs to follow the rules described in the \n",
    "* [MCS 275 Spring 2022 Coding Standards](https://www.dumas.io/teaching/2022/spring/mcs275/doc/codestd.pdf)\n",
    "These rules enforce good coding practices and ensure your programs are readable to both humans and computers.\n",
    "\n",
    "**Read that document now.**  Take your time, and ask the TA for help if you are unsure about any part of it.\n",
    "\n",
    "Then, take the program below (which works!) and fix it so that it does the same thing but complies with the MCS 275 rules.  (Note: The rules say you need to add a declaration stating that the program is your own work, or that it is derived solely from a template provided by the instructor.  That's because all graded work in MCS 275 is done individually.  Since this is a worksheet, collaboration is allowed, and in this case your declaration should instead list your collaborators.)\n",
    "\n",
    "```\n",
    "# I am a program that doesn't follow MCS 275 coding guidelines\n",
    "# Please fix me.\n",
    "def thing(x):\n",
    " return \"{} is one greater than {}\".format(x,x-1)\n",
    "\n",
    "def thing2(x):\n",
    "  return \"{} is one less than {}\".format(x,x+1)\n",
    "\n",
    "s = str(input(\"Please enter your name\"))\n",
    "print(\"Hello\",s,\", this is a sample Python program.\")\n",
    "\n",
    "ss = list(range(5))\n",
    "sss = [ x+5 for x in ss ]\n",
    "ssss = [ 10*x for x in sss ]\n",
    "\n",
    "for i in range(len(ssss)):\n",
    "      sssss = 'Some things that are true:\\n' + thing(ssss[i]) + \"\\n\" + thing2(ssss[i]) + '\\n\\n'\n",
    "      print(sssss)\n",
    "```"
   ]
  },
  {
   "cell_type": "markdown",
   "metadata": {},
   "source": [
    "# Solution"
   ]
  },
  {
   "cell_type": "code",
   "execution_count": null,
   "metadata": {},
   "outputs": [],
   "source": [
    "# MCS 275 Spring 2022 Worksheet 1 problem 7\n",
    "# Jennifer Vaccaro\n",
    "# I declare that I changed this code given from a problem in \n",
    "# accordance with course policy.\n",
    "\n",
    "def string_less_one(n):\n",
    "    '''Given an input number n, returns a statement like\n",
    "    $n is one greater than $n+1'''\n",
    "    return \"{} is one greater than {}\".format(n,n-1)\n",
    "\n",
    "def string_plus_one(n):\n",
    "    '''Given an input number n, returns a statement like\n",
    "    $n is one less than $n-1'''\n",
    "    return \"{} is one less than {}\".format(n,n+1)\n",
    "\n",
    "# Create an integer list 50, 60, ..., 90\n",
    "int_list_size = list(range(5))\n",
    "int_list_shifted = [ x+5 for x in int_list_size ]\n",
    "int_list = [ 10*x for x in int_list_shifted ]\n",
    "\n",
    "# Print out the corresponding strings with line spacing\n",
    "for x in int_list:\n",
    "    print('Some things that are true:')\n",
    "    print(string_less_one(x))\n",
    "    print(string_plus_one(x),\"\\n\")"
   ]
  },
  {
   "cell_type": "markdown",
   "metadata": {},
   "source": [
    "### 8. First two digits of squares\n",
    "\n",
    "Let's write a slightly more complex program now that uses more Python concepts.\n",
    "\n",
    "Consider the squares of all the 4-digit positive integers (the numbers 1000, 1001, ..., 9999).\n",
    "\n",
    "What pairs of digits can appear as the first two digits in one of these numbers?  For example, since `2187*2187=4782969`, we know that `47` is one of the possibilites.  What are the others?  Do you get all two-digit combinations this way?\n",
    "\n",
    "Write a program that answers this question, and which also determines how many times each two-digit combination arises in the list of squares of 1000...9999.\n",
    "\n",
    "Have it print the result in a format like this:\n",
    "```\n",
    "There are NN two-digits combinations that appear as the first two digits of squares of the integers from 1000 to 9999.  Here is a table of them, with the number of times each one occurs:\n",
    "\n",
    "Digits  Number of times\n",
    "-----------------------\n",
    "10      XXX\n",
    "11      YYY\n",
    "...\n",
    "```\n",
    "\n",
    "Here is the recommended structure for your program:\n",
    "* Make a dictionary that has all the two-character strings corresponding to pairs of digits as keys, and the integer 0 as each value.\n",
    "\n",
    "* Use a for loop to iterate over integers from 1000 to 9999. In the body of the loop, square the integer, convert it to a string, and extract the first two characters into a string.  Then use this as a key in the dictionary, and increment the associated value.\n",
    "\n",
    "(You are welcome---even encouraged---to think about a purely theoretical solution to this problem, but I also want you to get the coding practice that will come from exhaustively enumerating the squares and checking the digits.)\n"
   ]
  },
  {
   "cell_type": "markdown",
   "metadata": {},
   "source": [
    "# Solution 1"
   ]
  },
  {
   "cell_type": "code",
   "execution_count": 1,
   "metadata": {
    "scrolled": true
   },
   "outputs": [
    {
     "name": "stdout",
     "output_type": "stream",
     "text": [
      "There are 90 two-digits combinations that appear as the first two \n",
      "digits of squares of the integers from 1000 to 9999.  \n",
      "Here is a table of them, with the number of times each one occurs:\n",
      "\n",
      "Digits  Number of times\n",
      "-----------------------\n",
      "10          203\n",
      "11          195\n",
      "12          186\n",
      "13          179\n",
      "14          172\n",
      "15          167\n",
      "16          163\n",
      "17          157\n",
      "18          153\n",
      "19          150\n",
      "20          145\n",
      "21          142\n",
      "22          138\n",
      "23          136\n",
      "24          133\n",
      "25          131\n",
      "26          128\n",
      "27          125\n",
      "28          123\n",
      "29          122\n",
      "30          118\n",
      "31          117\n",
      "32          116\n",
      "33          113\n",
      "34          113\n",
      "35          110\n",
      "36          109\n",
      "37          108\n",
      "38          105\n",
      "39          105\n",
      "40          104\n",
      "41          102\n",
      "42          101\n",
      "43          100\n",
      "44          99\n",
      "45          97\n",
      "46          96\n",
      "47          96\n",
      "48          94\n",
      "49          95\n",
      "50          92\n",
      "51          92\n",
      "52          91\n",
      "53          89\n",
      "54          90\n",
      "55          88\n",
      "56          87\n",
      "57          87\n",
      "58          86\n",
      "59          85\n",
      "60          85\n",
      "61          84\n",
      "62          83\n",
      "63          82\n",
      "64          83\n",
      "65          82\n",
      "66          80\n",
      "67          80\n",
      "68          79\n",
      "69          79\n",
      "70          79\n",
      "71          78\n",
      "72          77\n",
      "73          77\n",
      "74          76\n",
      "75          75\n",
      "76          75\n",
      "77          75\n",
      "78          75\n",
      "79          74\n",
      "80          73\n",
      "81          73\n",
      "82          72\n",
      "83          73\n",
      "84          71\n",
      "85          71\n",
      "86          71\n",
      "87          70\n",
      "88          70\n",
      "89          69\n",
      "90          70\n",
      "91          69\n",
      "92          68\n",
      "93          68\n",
      "94          68\n",
      "95          67\n",
      "96          67\n",
      "97          67\n",
      "98          66\n",
      "99          66\n"
     ]
    }
   ],
   "source": [
    "# Start off with a dictionary comprehension containing the number of times\n",
    "# each two-digit combination occurs (count starts at 0 for each combination)\n",
    "# (Try printing this dictionary out to see what it contains!)\n",
    "first_two_digits_dict = {str(x):0 for x in range(10,100)}\n",
    "\n",
    "\n",
    "# Check each number from 1000 to 9999\n",
    "for i in range(1000, 10000):\n",
    "    \n",
    "    # String representation of i^2\n",
    "    i_squared_str = str(i**2)\n",
    "    \n",
    "    # We can use the \"+\" operator here because we are looking at a string\n",
    "    first_two = i_squared_str[0] + i_squared_str[1]\n",
    "    \n",
    "    # Add 1 to the count of the corresponding combination in the dictionary\n",
    "    first_two_digits_dict[first_two] += 1\n",
    "    \n",
    "\n",
    "# Use a list comprehension to find out how many of the \n",
    "num_combinations = len([n for n in first_two_digits_dict.values() if n > 0])\n",
    "    \n",
    "print(f'''There are {num_combinations} two-digits combinations that appear as the first two \n",
    "digits of squares of the integers from 1000 to 9999.  \n",
    "Here is a table of them, with the number of times each one occurs:\n",
    "\n",
    "Digits  Number of times\n",
    "-----------------------''')\n",
    "\n",
    "for key, value in first_two_digits_dict.items():\n",
    "    print(f\"{key}          {value}\")"
   ]
  },
  {
   "cell_type": "markdown",
   "metadata": {},
   "source": [
    "# Solution 2"
   ]
  },
  {
   "cell_type": "code",
   "execution_count": null,
   "metadata": {
    "scrolled": true
   },
   "outputs": [],
   "source": [
    "# Create a dictionary where\n",
    "# the keys are 10-99 as strings\n",
    "# the values are all 0\n",
    "num_str_dict = {}\n",
    "for i in range(10,100):\n",
    "    num_str = str(i)\n",
    "    num_str_dict[num_str] = 0\n",
    "\n",
    "# iterate through the four-digit numbers 1000-9999\n",
    "total_combos = 0\n",
    "for i in range(1000,10000):\n",
    "    # square i, and convert it to a string\n",
    "    i_squared = i**2\n",
    "    i_squared_str = str(i_squared)\n",
    "\n",
    "    # extract the key (first two digits) and\n",
    "    # add one to the corresponding value\n",
    "    i_key = i_squared_str[0:2]\n",
    "    num_str_dict[i_key] += 1\n",
    "    # If the first one, add to the total num of combos\n",
    "    if num_str_dict[i_key] == 1:\n",
    "        total_combos += 1\n",
    "\n",
    "# Print out a table of all of the keys/values\n",
    "print(\"There are {} two-digits combinations that appear as the first two digits of squares of the integers from 1000 to 9999.\".format(total_combos))\n",
    "print(\"Here is a table of them, with the number of times each one occurs:\")\n",
    "print(\"Digits  Number of times\")\n",
    "print(\"-----------------------\")\n",
    "for i in range(10,100):\n",
    "    num_str = str(i)\n",
    "    if num_str_dict[num_str] > 0:\n",
    "        print(\"{} {}\".format(num_str, num_str_dict[num_str]))"
   ]
  },
  {
   "cell_type": "markdown",
   "metadata": {},
   "source": [
    "### 9. Box in a text file\n",
    "\n",
    "One of the nice things about Python is that strings can contain any Unicode character (as opposed to strings in some other programming languages where the set of available characters is much more limited).\n",
    "\n",
    "Some Unicode characters are made for drawing \"text graphics\" boxes, like this:\n",
    "```\n",
    "╔══════════╗ \n",
    "║  Look,   ║\n",
    "║  a box!  ║\n",
    "╚══════════╝ \n",
    "```\n",
    "The box drawing characters used above are:\n",
    "* `\\u2550`  or `═`\n",
    "* `\\u2551`  or `║`\n",
    "* `\\u2554` or `╔`\n",
    "* `\\u2557` or `╗`\n",
    "* `\\u255a`  or `╚`\n",
    "* `\\u255d`  or `╝`\n",
    "\n",
    "Write a program `box.py` that prints a unicode text box of specified width and height to an output text file.  It should expect three command line arguments.  The first, `sys.argv[1]`, will be the the output filename.  The other arguments are integers giving the width and height of the box.\n",
    "\n",
    "The program should open the output file for writing, and then write lines of text to that file that create the desired box.\n",
    "\n",
    "So, for example, the command\n",
    "```\n",
    "python box.py boxtest1.txt 3 4\n",
    "```\n",
    "should result in a file `boxtest1.txt` being created that contains the following text, exactly:\n",
    "```\n",
    "╔═╗\n",
    "║ ║\n",
    "║ ║\n",
    "╚═╝\n",
    "```\n",
    "(This box has a width of 3 characters and a height of 4 lines).\n",
    "Similarly, the command\n",
    "```\n",
    "python box.py boxtest2.txt 12 2\n",
    "```\n",
    "should result in a file `boxtest2.txt` being created that contains the following text, exactly:\n",
    "```\n",
    "╔══════════╗\n",
    "╚══════════╝\n",
    "```\n",
    "\n",
    "Recommended structure of your program:\n",
    "\n",
    "There are three different lines in the output file: The top of the box, the line that repeats some number of times to make the middle of the box, and the bottom of the box.\n",
    "\n",
    "I suggest you generate these three lines and store them in strings, and then use a loop to print the middle-of-box line the right number of times.\n",
    "\n",
    "To generate these strings, you can use the fact that multiplication of a string by an integer will repeat the string a certain number of times.  For example, `\"foo\"*3` evaluates to `\"foofoofoo\"`.\n",
    "\n",
    "It would be a good idea to put the part of the program that writes the boxto a file into a function which accepts a file object as its only argument.  That function should expect the file to already be opened for writing.\n",
    "\n",
    "Then, the main program would parse the command line arguments, open the output file, and call the function that saves the box."
   ]
  },
  {
   "cell_type": "markdown",
   "metadata": {},
   "source": [
    "# Solution"
   ]
  },
  {
   "cell_type": "code",
   "execution_count": 29,
   "metadata": {},
   "outputs": [],
   "source": [
    "import sys\n",
    "\n",
    "outfile = sys.argv[1]\n",
    "width = int(sys.argv[2])\n",
    "height = int(sys.argv[3])\n",
    "\n",
    "\n",
    "def write_box_to_file(f):\n",
    "    '''Given an already-opened file f, writes the box to the file'''\n",
    "    \n",
    "    # Create the top of the box\n",
    "    # We subtract 2 from the width to account for the corners\n",
    "    f.write(\"╔\" + \"═\"*(width-2) + \"╗\")     # Looks like e.g.: ╔═════╗\n",
    "    f.write(\"\\n\") # Move to a new line\n",
    "    \n",
    "    # Create the left and right sides of the box\n",
    "    for i in range(height-2):\n",
    "        f.write(\"║\" + \" \"*(width-2) + \"║\") # Looks like e.g.: ║     ║\n",
    "        f.write(\"\\n\") # Move to a new line\n",
    "    \n",
    "    \n",
    "    # Create the bottom of the box\n",
    "    f.write(\"╚\" + \"═\"*(width-2) + \"╝\")     # Looks like e.g.: ╚═════╝\n",
    "    f.write(\"\\n\") # Move to a new line\n",
    "    \n",
    "    \n",
    "    \n",
    "# By setting encoding to UTF-8, we can use the Unicode characters as specified\n",
    "with open(outfile, \"w\", encoding=\"UTF-8\") as f:\n",
    "    write_box_to_file(f)"
   ]
  },
  {
   "cell_type": "markdown",
   "metadata": {},
   "source": [
    "## Bonus round"
   ]
  },
  {
   "cell_type": "markdown",
   "metadata": {},
   "source": [
    "Work on this more challenging exercise if you finish the rest of the worksheet before discussion ends."
   ]
  },
  {
   "cell_type": "markdown",
   "metadata": {},
   "source": [
    "### 10. Parse grade statements\n",
    "\n",
    "Write a program that reads a text file specified as a command line argument which contains statements written in the following format\n",
    "```\n",
    "Student ddumas scored 1 out of 23 on CoordinationTest.\n",
    "Student ncomaneci scored 23 out of 23 on CoordinationTest.\n",
    "Student enoether scored 11 out of 10 on AlgebraQuiz.\n",
    "```\n",
    "That is, the lines are all of the form\n",
    "```\n",
    "Student NAME scored POINTS out of MAXPOINTS on NAME_OF_ASSESSMENT.\n",
    "```\n",
    "where the all-caps items are placeholders that in the actual lines will be replaced by an integer (for POINTS or MAXPOINTS) or a string with no spaces (for NAME or NAME_OF_ASSESSMENT).\n",
    "\n",
    "The program should compute the percentage score for each student on each assessment and store them in a dictionary (with the name of the assessment as a key).  Then, it should print the scores for each assessment in increasing order, as percentages.\n",
    "\n",
    "For example, the input above would give output:\n",
    "```\n",
    "Scores on CoordinationTest:\n",
    "ddumas 4.3%\n",
    "ncomaneci 100.0%\n",
    "\n",
    "Scores on AlgebraQuiz:\n",
    "enoether 110.0%\n",
    "```"
   ]
  },
  {
   "cell_type": "markdown",
   "metadata": {},
   "source": [
    "# Solution"
   ]
  },
  {
   "cell_type": "code",
   "execution_count": 32,
   "metadata": {},
   "outputs": [
    {
     "name": "stdout",
     "output_type": "stream",
     "text": [
      "Scores on CoordinationTest\n",
      "ddumas 4.3%\n",
      "ncomaneci 100.0%\n",
      "\n",
      "Scores on AlgebraQuiz\n",
      "enoether 110.0%\n",
      "\n"
     ]
    }
   ],
   "source": [
    "import sys\n",
    "\n",
    "input_fn = sys.argv[1]\n",
    "input_fin = open(input_fn, \"r\")\n",
    "\n",
    "# Create a dictionary of dictionaries\n",
    "# key: assignment\n",
    "# value: dict with keys students, values percentages\n",
    "assignments_dict = {}\n",
    "for line in input_fin:\n",
    "    words = line.split()\n",
    "    if len(words) != 9:\n",
    "        continue\n",
    "    student = words[1]\n",
    "    assignment = words[8][:-1] # Take out the last character, which is a period\n",
    "    grade = int(words[3])\n",
    "    out_of = int(words[6])\n",
    "    if assignment in assignments_dict:\n",
    "        assignments_dict[assignment][student] = grade/out_of\n",
    "    else:\n",
    "        new_dict = {student: grade/out_of}\n",
    "        assignments_dict[assignment] = new_dict\n",
    "\n",
    "for assignment in assignments_dict:\n",
    "    print(\"Scores on {}\".format(assignment))\n",
    "    for student in assignments_dict[assignment]:\n",
    "        print(\"{} {:.1f}%\".format(student, assignments_dict[assignment][student]*100.0))\n",
    "    print(\"\")"
   ]
  },
  {
   "cell_type": "markdown",
   "metadata": {},
   "source": [
    "### 11. Robust grade statement parser\n",
    "\n",
    "Modify the solution to problem 10 to be tolerant of lines in the input text file that don't follow the specified format.  In particular, it should be able to determine if a given line is in the correct format.\n",
    "\n",
    "If a malformed line is found, it should print an error message and proceed.\n",
    "\n",
    "This requires several stages of error checking; for example, required parts of the input line might be missing, or the integer point values might be invalid integer literals, or the total number of points on the assignment might be zero (preventing the computation of a percentage)."
   ]
  },
  {
   "cell_type": "markdown",
   "metadata": {},
   "source": [
    "# Solution"
   ]
  },
  {
   "cell_type": "code",
   "execution_count": null,
   "metadata": {},
   "outputs": [],
   "source": [
    "import sys\n",
    "\n",
    "try:\n",
    "    input_fn = sys.argv[1]\n",
    "    input_fin = open(input_fn, \"r\")\n",
    "except IndexError:\n",
    "    print(\"IndexError: Please enter a command line argument.\")\n",
    "    exit()\n",
    "except FileNotFoundError:\n",
    "    print(\"FileNotFoundError: File name specified in command line argument was not found.\")\n",
    "\n",
    "# Create a dictionary of dictionaries\n",
    "# key: assignment\n",
    "# value: dict with keys students, values percentages\n",
    "assignments_dict = {}\n",
    "for line in input_fin:\n",
    "    words = line.split()\n",
    "    if len(words) != 9:\n",
    "        print(\"Error: one or more lines does not have the correct number of words.\")\n",
    "        exit()\n",
    "    student = words[1]\n",
    "    assignment = words[8][:-1] # Take out the last character, which is a period\n",
    "    try:\n",
    "        grade = int(words[3])\n",
    "    except ValueError:\n",
    "        print(f\"Error: score for {student} is not an integer\")\n",
    "        exit()\n",
    "    try:\n",
    "        out_of = int(words[6])\n",
    "    except ValueError:\n",
    "        print(f\"Error: maximum possible score for {student} is not an integer\")\n",
    "        exit()\n",
    "    if assignment in assignments_dict:\n",
    "        assignments_dict[assignment][student] = grade/out_of\n",
    "    else:\n",
    "        try:\n",
    "            new_dict = {student: grade/out_of}\n",
    "        except ZeroDivisionError:\n",
    "            print(\"Error: The maximum possible score for one or more students is 0. Cannot compute percentage.\")\n",
    "            exit()\n",
    "        assignments_dict[assignment] = new_dict\n",
    "\n",
    "for assignment in assignments_dict:\n",
    "    print(\"Scores on {}\".format(assignment))\n",
    "    for student in assignments_dict[assignment]:\n",
    "        print(\"{} {:.1f}%\".format(student, assignments_dict[assignment][student]*100.0))\n",
    "    print(\"\")"
   ]
  }
 ],
 "metadata": {
  "kernelspec": {
   "display_name": "Python 3 (ipykernel)",
   "language": "python",
   "name": "python3"
  },
  "language_info": {
   "codemirror_mode": {
    "name": "ipython",
    "version": 3
   },
   "file_extension": ".py",
   "mimetype": "text/x-python",
   "name": "python",
   "nbconvert_exporter": "python",
   "pygments_lexer": "ipython3",
   "version": "3.9.6"
  }
 },
 "nbformat": 4,
 "nbformat_minor": 4
}
