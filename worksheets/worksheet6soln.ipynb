{
 "cells": [
  {
   "cell_type": "markdown",
   "metadata": {},
   "source": [
    "# MCS 275 Spring 2022 Worksheet 6 Solutions\n",
    "\n",
    "* Course instructor: Emily Dumas\n",
    "* Solutions prepared by: Johnny Joyce, Jennifer Vaccaro"
   ]
  },
  {
   "cell_type": "markdown",
   "metadata": {},
   "source": [
    "## Topics\n",
    "\n",
    "The main topics of this worksheet is **recursion**.\n",
    "\n",
    "The other worksheet from this course that focuses on recursion is [here](https://www.dumas.io/teaching/2022/spring/mcs275/nbview/worksheets/worksheet6.html).\n",
    "\n",
    "## Resources\n",
    "\n",
    "These things might be helpful while working on the problems.  Remember that for worksheets,  we don't strictly limit what resources you can consult, so these are only suggestions.\n",
    "\n",
    "* [Lecture 12 - Recursion](https://www.dumas.io/teaching/2022/spring/mcs275/slides/lecture12.html)\n",
    "* [Lecture 13 - Recursion vs iteration](https://www.dumas.io/teaching/2022/spring/mcs275/slides/lecture13.html)\n",
    "* [Lecture 14 - Recursion vs iteration and backtracking](https://www.dumas.io/teaching/2022/spring/mcs275/slides/lecture14.html)\n",
    "* [MCS 275 Python Tour](https://www.dumas.io/teaching/2022/spring/mcs275/nbview/samplecode/python_tour.html)\n",
    "* [Downey's book](https://greenteapress.com/thinkpython2/html/)\n",
    "* MCS 260 course materials from Fall 2021:\n",
    "    * [Slides, homework, worksheets, and projects](https://www.dumas.io/teaching/2021/fall/mcs260/)\n",
    "    * [Sample programs](https://github.com/emilydumas/mcs260fall2021/tree/main/samplecode)\n"
   ]
  },
  {
   "cell_type": "markdown",
   "metadata": {},
   "source": [
    "## 1. Order three Fibonacci\n",
    "\n",
    "There is a sequence of integers $T_n$ defined by the conditions\n",
    "\n",
    "$$\\begin{split}\n",
    "T_0 &= 0\\\\\n",
    "T_1 &= 1\\\\\n",
    "T_2 &= 2\\\\\n",
    "T_{n} &= T_{n-1} + T_{n-2} + T_{n-3} \\text{ if } n \\geq 3\\end{split}$$\n",
    "\n",
    "This sequence begins $0, 1, 2, 3, 6, 11, 20, 37, 68, 125, 230, 423, 778, 1431, 2632, \\ldots$.\n",
    "\n",
    "Write a recursive function that calculates $T_n$.\n",
    "\n",
    "Then, determine the rule that describes the sequence whose $n^{\\text{th}}$ term is the number of function calls that occur in calculating $T_n$."
   ]
  },
  {
   "cell_type": "markdown",
   "metadata": {},
   "source": [
    "# Solution"
   ]
  },
  {
   "cell_type": "code",
   "execution_count": 2,
   "metadata": {},
   "outputs": [],
   "source": [
    "import decs # decs.py module from MCS 275 Github in folder: /samplecode/recursion/\n",
    "\n",
    "@decs.count_calls\n",
    "def T(n):\n",
    "    '''Calculates T_n recursively'''\n",
    "    if n <= 2:\n",
    "        return n\n",
    "    else:\n",
    "        return T(n-1) + T(n-2) + T(n-3)"
   ]
  },
  {
   "cell_type": "code",
   "execution_count": 2,
   "metadata": {},
   "outputs": [
    {
     "name": "stdout",
     "output_type": "stream",
     "text": [
      "T(20)=101902\n",
      "128287 calls were made when calculating T(20)\n"
     ]
    }
   ],
   "source": [
    "print(\"T(20)={}\".format(T(20)))\n",
    "print(\"{} calls were made when calculating T(20)\".format(decs.get_call_count(\"T\")))"
   ]
  },
  {
   "cell_type": "code",
   "execution_count": 3,
   "metadata": {},
   "outputs": [
    {
     "name": "stdout",
     "output_type": "stream",
     "text": [
      "128287 calls were made when calculating T(20)\n"
     ]
    }
   ],
   "source": [
    "def num_calls_to_T(n):\n",
    "    '''Returns number of calls made to function T when calculating T(n)'''\n",
    "    if n <= 2:\n",
    "        return 1 # The base cases always make 1 additional call to T(n)\n",
    "    else:\n",
    "        # When making a recursive call, add 1 to account for the current call to T\n",
    "        # (Note that the calls from T(n-1), T(n-2), T(n-3) are already counted)\n",
    "        return num_calls_to_T(n-1) + num_calls_to_T(n-2) + num_calls_to_T(n-3) + 1\n",
    "    \n",
    "print(\"{} calls were made when calculating T(20)\".format(num_calls_to_T(20)))"
   ]
  },
  {
   "cell_type": "markdown",
   "metadata": {},
   "source": [
    "## 2. Prime factorization\n",
    "\n",
    "An integer greater than 1 is called **prime** if its only divisors are 1 and itself.\n",
    "\n",
    "The Fundamental Theorem of Algebra states that every positive integer other than 1 is a product of primes, and that the description as a product of primes is unique up to reordering the factors.  For example, $275$ can be expressed as $5\\times5\\times11$.\n",
    "\n",
    "Write a recursive function `factor(n)` that takes an integer `n` greater than 1 and returns a list of primes whose product is equal to `n`.  That is, `factor(n)` returns the *prime factorization* of `n`.\n",
    "\n",
    "I recommend the following strategy: Try to find a way to express `n` as a product of two other integers greater than 1.  If you fail, you know that `n` is prime.  If you succeed, you the have `n = k * m` and so it would be enough to know the prime factorization of `k` and of `m`.\n",
    "\n",
    "Hint: One way to check whether `k` divides `n`, is to check whether the remainder `n%k` is zero.\n",
    "\n",
    "*Acknowledgement: This problem is based in part on a problem on a 2021 MCS 275 worksheet by Jennifer Vaccaro.*\n"
   ]
  },
  {
   "cell_type": "markdown",
   "metadata": {},
   "source": [
    "# Solution"
   ]
  },
  {
   "cell_type": "markdown",
   "metadata": {},
   "source": [
    "The `count_calls` decorator from the `decs`module <a href=\"https://github.com/emilydumas/mcs275spring2022/blob/main/samplecode/recursion/decs.py\">(Github link)</a> is used here so that we can compare the number of calls in Question 4 later in the worksheet.\n",
    "\n",
    "**Note:** When running on a notebook (e.g. Jupyter or Colab), the number of calls made to a specific function won't reset when running cells multiple times. One way to reset this is to reset the kernel."
   ]
  },
  {
   "cell_type": "code",
   "execution_count": 4,
   "metadata": {},
   "outputs": [],
   "source": [
    "@decs.count_calls\n",
    "def factor(n):\n",
    "    '''Returns list of prime factors of `n`'''\n",
    "    if n==0 or n==1:\n",
    "        return [] # If n < 2, then n has no prime factors.\n",
    "    \n",
    "    for k in range(2,n): # Check each integer from 2 to n-1\n",
    "\n",
    "        if n % k == 0: # In this case, we have n = k * m for some other integer m\n",
    "            \n",
    "            m = int(n / k)\n",
    "            \n",
    "            # Here, `+` is used to add two lists (i.e. append one list to the other)\n",
    "            return factor(k) + factor(m)\n",
    "            \n",
    "    return [n] # If no factors of `n` are found, then it is prime, so it cannot be factored"
   ]
  },
  {
   "cell_type": "code",
   "execution_count": 5,
   "metadata": {},
   "outputs": [
    {
     "name": "stdout",
     "output_type": "stream",
     "text": [
      "The prime factors of 32768 are: [2, 2, 2, 2, 2, 2, 2, 2, 2, 2, 2, 2, 2, 2, 2]\n",
      "29 calls were made when calculating factors of 32768\n",
      "The prime factors of 275 are: [5, 5, 11]\n"
     ]
    }
   ],
   "source": [
    "print(\"The prime factors of 32768 are: {}\".format(factor(32768))) # 1024 is 2^15\n",
    "\n",
    "print(\"{} calls were made when calculating factors of 32768\".format(decs.get_call_count(\"factor\")))\n",
    "\n",
    "print(\"The prime factors of 275 are: {}\".format(factor(275)))"
   ]
  },
  {
   "cell_type": "markdown",
   "metadata": {},
   "source": [
    "## 3. Parentheses\n",
    "\n",
    "There are lots of ways to put parentheses in the algebraic expression `a+b+c+d` so that every application of `+` becomes a binary operation.  For example:\n",
    "* `((a+b)+(c+d))`\n",
    "* `(a+(b+(c+d)))`\n",
    "* and more\n",
    "\n",
    "Write a Python function that takes a list of variables or numbers to be summed, and returns all possible ways of parenthesizing the sum fully.\n",
    "\n",
    "This requires a choice of how to represent the input sum and output parenthesized sums.  Instead of using strings, make your function so it expects a list of summands as input and returns a list of possible parenthesized versions that use nested Python lists to represent the parentheses."
   ]
  },
  {
   "cell_type": "markdown",
   "metadata": {},
   "source": [
    "The return value is a list of length 5, which means there are five ways, described by the nested list structure of one of the items in the return value.  These represent:\n",
    "```\n",
    "(2+(1+(5+8)))\n",
    "(2+((1+5)+8))\n",
    "(2+1)+(5+8)\n",
    "((2+(1+5))+8)\n",
    "(((2+1)+5)+8)\n",
    "```"
   ]
  },
  {
   "cell_type": "markdown",
   "metadata": {},
   "source": [
    "# Solution"
   ]
  },
  {
   "cell_type": "code",
   "execution_count": 6,
   "metadata": {},
   "outputs": [],
   "source": [
    "def put_parens(summands):\n",
    "    '''Takes a list `summands` and recursively places parentheses in all possible configurations'''\n",
    "    \n",
    "    if len(summands) == 1: # No way to put parentheses\n",
    "        return summands\n",
    "    elif len(summands) == 2: # Only one way to put parentheses\n",
    "        return [summands]\n",
    "    \n",
    "    else:\n",
    "        L = []\n",
    "        for i in range(1,len(summands)):\n",
    "            for first in put_parens(summands[:i]): # Find all places to open a parenthesis\n",
    "                for second in put_parens(summands[i:]): # Find all places to close a parenthesis\n",
    "                    L.append([first,second])\n",
    "        return L"
   ]
  },
  {
   "cell_type": "code",
   "execution_count": 7,
   "metadata": {},
   "outputs": [
    {
     "data": {
      "text/plain": [
       "[[2, [1, [5, 8]]],\n",
       " [2, [[1, 5], 8]],\n",
       " [[2, 1], [5, 8]],\n",
       " [[2, [1, 5]], 8],\n",
       " [[[2, 1], 5], 8]]"
      ]
     },
     "execution_count": 7,
     "metadata": {},
     "output_type": "execute_result"
    }
   ],
   "source": [
    "put_parens([2,1,5,8]) # find all ways to put parentheses in the expression 2+1+5+8"
   ]
  },
  {
   "cell_type": "markdown",
   "metadata": {},
   "source": [
    "## 4. Rote memoization \n",
    "\n",
    "Make versions of the recursive functions from problems 1 and 2 that use memoization to attempt to improve their efficiency.\n",
    "\n",
    "Do they benefit significantly from this modification?  Does one benefit more than the other?"
   ]
  },
  {
   "cell_type": "markdown",
   "metadata": {},
   "source": [
    "# Solution"
   ]
  },
  {
   "cell_type": "markdown",
   "metadata": {},
   "source": [
    "### Code for memoizing `T`:"
   ]
  },
  {
   "cell_type": "code",
   "execution_count": 3,
   "metadata": {},
   "outputs": [],
   "source": [
    "cache = {0: 0, \n",
    "         1: 1, \n",
    "         2: 2} # Save the base cases in the cache\n",
    "\n",
    "@decs.count_calls\n",
    "def T_memoized(n):\n",
    "    '''Calculates T_n recursively'''\n",
    "\n",
    "    # We don't need the base cases anymore since we put them in the cache\n",
    "    \n",
    "    # This list will be filled with 3 entries: T(n-1), T(n-2), T(n-3)\n",
    "    results = []\n",
    "    \n",
    "    # For each of [n-1, n-2, n-3], try to check if we've already found its corresponding T value\n",
    "    for potential_arg in [n-1, n-2, n-3]: \n",
    "        \n",
    "        if potential_arg in cache: # If we've already found the T value\n",
    "            results.append(cache[potential_arg]) # No need to call the function again\n",
    "        else:\n",
    "            result_from_call = T_memoized(potential_arg)\n",
    "            results.append(result_from_call)\n",
    "            cache[potential_arg] = result_from_call # Save result in the cache\n",
    "    \n",
    "    return sum(results) # I.e. return results[0] + results[1] + results[2]"
   ]
  },
  {
   "cell_type": "markdown",
   "metadata": {},
   "source": [
    "### Slightly different but equivalent way:"
   ]
  },
  {
   "cell_type": "code",
   "execution_count": null,
   "metadata": {},
   "outputs": [],
   "source": [
    "cache = {0: 0, \n",
    "         1: 1, \n",
    "         2: 2} # Save the base cases in the cache\n",
    "\n",
    "@decs.count_calls\n",
    "def T_memoized(n):\n",
    "    '''Calculates T_n recursively'''\n",
    "\n",
    "    # We don't need the base cases anymore since we put them in the cache\n",
    "    \n",
    "    # Check n-1\n",
    "    if n-1 in cache:\n",
    "        first = cache[n-1]\n",
    "    else:\n",
    "        first = T_memoized(n-1)\n",
    "        results[n-1] = first\n",
    "        \n",
    "    # Check n-2\n",
    "    if n-2 in cache:\n",
    "        second = cache[n-2]\n",
    "    else:\n",
    "        second = T_memoized(n-2)\n",
    "        results[n-2] = second\n",
    "        \n",
    "    # Check n-3\n",
    "    if n-3 in cache:\n",
    "        third = cache[n-3]\n",
    "    else:\n",
    "        third = T_memoized(n-3)\n",
    "        results[n-3] = third\n",
    "        \n",
    "    return first + second + third"
   ]
  },
  {
   "cell_type": "markdown",
   "metadata": {},
   "source": [
    "#### Result:"
   ]
  },
  {
   "cell_type": "code",
   "execution_count": 9,
   "metadata": {
    "scrolled": true
   },
   "outputs": [
    {
     "name": "stdout",
     "output_type": "stream",
     "text": [
      "T_memoized(20)=101902\n",
      "18 calls were made when calculating T_memoized(20)\n"
     ]
    }
   ],
   "source": [
    "print(\"T_memoized(20)={}\".format(T_memoized(20)))\n",
    "print(\"{} calls were made when calculating T_memoized(20)\".format(decs.get_call_count(\"T_memoized\")))"
   ]
  },
  {
   "cell_type": "markdown",
   "metadata": {},
   "source": [
    "Note that calculating `T(20)` required 128287 calls without memoization. But with memoization it only required `18` calls.\n",
    "\n",
    "### Code for memoizing `factor`:"
   ]
  },
  {
   "cell_type": "code",
   "execution_count": 4,
   "metadata": {},
   "outputs": [],
   "source": [
    "factor_cache = {0: [], \n",
    "                1: []} \n",
    "# Save the base cases in the cache (prime factorizations of 0 or 1 are empty lists)\n",
    "\n",
    "\n",
    "@decs.count_calls\n",
    "def factor_memoized(n):\n",
    "    '''Returns list of prime factors of `n`'''\n",
    "    \n",
    "    # We don't need the base cases anymore since we put them in the cache\n",
    "    \n",
    "    for k in range(2,n): # Check each integer from 2 to n-1\n",
    "                         # NOTE: could reduce to 2...int(sqrt(n)) for more efficiency\n",
    "\n",
    "        if n % k == 0: # In this case, we have n = k * m for some integer m\n",
    "            \n",
    "            m = int(n / k)\n",
    "            \n",
    "            # Check if we've already found the prime factorization of k\n",
    "            if k in factor_cache:\n",
    "                first = factor_cache[k]\n",
    "            else: # Compute with recursion and save in cache\n",
    "                first = factor_memoized(k)\n",
    "                factor_cache[k] = first\n",
    "            \n",
    "            # Check if we've already found the prime factorization of m\n",
    "            if m in factor_cache:\n",
    "                second = factor_cache[m]\n",
    "            else: # Compute with recursion and save in cache\n",
    "                second = factor_memoized(m)\n",
    "                factor_cache[m] = second\n",
    "            \n",
    "            # Here, `+` is used to add two lists (i.e. append one list to the other)\n",
    "            return first + second\n",
    "          \n",
    "    # If no factors of `n` are found, then it is prime, so it cannot be factored\n",
    "    factor_cache[n] = [n]\n",
    "    return [n]"
   ]
  },
  {
   "cell_type": "markdown",
   "metadata": {},
   "source": [
    "#### Result:"
   ]
  },
  {
   "cell_type": "code",
   "execution_count": 5,
   "metadata": {},
   "outputs": [
    {
     "name": "stdout",
     "output_type": "stream",
     "text": [
      "The prime factors of 32768 are: [2, 2, 2, 2, 2, 2, 2, 2, 2, 2, 2, 2, 2, 2, 2]\n",
      "15 calls were made when calculating factors of 32768 with memoization\n"
     ]
    }
   ],
   "source": [
    "print(\"The prime factors of 32768 are: {}\".format(factor_memoized(32768))) # 1024 is 2^15\n",
    "\n",
    "print(\"{} calls were made when calculating factors of 32768 with memoization\".format(decs.get_call_count(\"factor_memoized\")))\n"
   ]
  },
  {
   "cell_type": "markdown",
   "metadata": {},
   "source": [
    "Without memoization, finding the prime factors of 32 768 took 29 calls. With memoization, it took 15 calls.\n",
    "\n",
    "For large inputs, `factor` doesn't need to make as many calls to itself as `T` does. After memoization, both functions make fewer calls, but one could say that `T` benefits more from memoization because there is a bigger reduction in the number of calls compared to `factor`."
   ]
  }
 ],
 "metadata": {
  "kernelspec": {
   "display_name": "Python 3",
   "language": "python",
   "name": "python3"
  },
  "language_info": {
   "codemirror_mode": {
    "name": "ipython",
    "version": 3
   },
   "file_extension": ".py",
   "mimetype": "text/x-python",
   "name": "python",
   "nbconvert_exporter": "python",
   "pygments_lexer": "ipython3",
   "version": "3.8.10"
  }
 },
 "nbformat": 4,
 "nbformat_minor": 4
}
