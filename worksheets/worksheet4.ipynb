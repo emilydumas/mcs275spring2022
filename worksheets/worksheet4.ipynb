{
 "cells": [
  {
   "cell_type": "markdown",
   "metadata": {},
   "source": [
    "# MCS 275 Spring 2022 Worksheet 4\n",
    "\n",
    "* Course instructor: Emily Dumas"
   ]
  },
  {
   "cell_type": "markdown",
   "metadata": {},
   "source": [
    "## Topics\n",
    "\n",
    "This worksheet focuses on variadic functions, argument unpacking, and decorators."
   ]
  },
  {
   "cell_type": "markdown",
   "metadata": {},
   "source": [
    "## Resources\n",
    "\n",
    "These things might be helpful while working on the problems.  Remember that for worksheets,  we don't strictly limit what resources you can consult, so these are only suggestions.\n",
    "\n",
    "* [Lecture 7 - Notebooks](https://www.dumas.io/teaching/2022/spring/mcs275/slides/lecture7.html)\n",
    "* [Lecture 8 - Variadic functions and decorators](https://www.dumas.io/teaching/2022/spring/mcs275/slides/lecture8.html)\n",
    "* [Lecture 9 - More on decorators; context managers](https://www.dumas.io/teaching/2022/spring/mcs275/slides/lecture9.html)\n",
    "* [MCS 275 Python Tour](https://www.dumas.io/teaching/2022/spring/mcs275/nbview/samplecode/python_tour.html)\n",
    "* [Downey's book](https://greenteapress.com/thinkpython2/html/)\n",
    "* MCS 260 course materials from Fall 2021:\n",
    "    * [Slides, homework, worksheets, and projects](https://www.dumas.io/teaching/2021/fall/mcs260/)\n",
    "    * [Sample programs](https://github.com/emilydumas/mcs260fall2021/tree/main/samplecode)"
   ]
  },
  {
   "cell_type": "markdown",
   "metadata": {},
   "source": [
    "## Please consider working on this in a notebook\n",
    "\n",
    "We recently learned about the Python notebook interface.  You aren't required to use it in MCS 275, but I think it would be a good idea to use this week's lab to try it out, i.e. either\n",
    "1. Work on this assignment in [Google Colab](https://colab.research.google.com/) (Google account required; you can log in with your netid@uic.edu account, for example) \n",
    "1. Install Jupyter notebook on your computer and work on the assignment that way.  The recommended steps are:\n",
    "    1. In a terminal, run `python3 -m pip install notebook` (or adjust for another interpreter name if needed, e.g. `python` instead of `python3`)\n",
    "    1. Then, in the directory where you want to work, run `python3 -m notebook` and a browser window should open.  You can click \"New\" in the upper right to make a new notebook.\n",
    "    1. When you're done working and have saved your notebook, go back to the terminal and press control-C to stop Jupyter."
   ]
  },
  {
   "cell_type": "markdown",
   "metadata": {},
   "source": [
    "## 1. Most bits set\n",
    "\n",
    "Here is a function that takes an integer and determines how many of the bits in its binary expansion are equal to 1 (such a bit is also called \"set\").  There are other ways to do this; the one shown below was chosen for its code simplicity."
   ]
  },
  {
   "cell_type": "code",
   "execution_count": 4,
   "metadata": {},
   "outputs": [],
   "source": [
    "def bits_set(n):\n",
    "    \"\"\"Return the number of 1 bits when `n` is represented in binary\"\"\"\n",
    "    return bin(n).count(\"1\")\n",
    "\n",
    "# Example: bits_set(9) returns 2 because 9 = 0b1001 which has two bits set to 1.\n",
    "# We haven't covered the function bin() in class, but you can check the help to see what it does!"
   ]
  },
  {
   "cell_type": "markdown",
   "metadata": {},
   "source": [
    "Write a function `most_bits_set(...)` that accepts any number of integers as positional arguments.  The function should determine which of the arguments have the most bits equal to 1.  Among arguments that have this maximum number of bits equal to 1, the function should return the one that appears earliest in the argument list.  \n",
    "\n",
    "In creating this function, you are encouraged to use the function `bits_set` given above.\n",
    "\n",
    "Examples of the expected behavior of `most_bits_set`:"
   ]
  },
  {
   "cell_type": "code",
   "execution_count": 3,
   "metadata": {},
   "outputs": [
    {
     "data": {
      "text/plain": [
       "0"
      ]
     },
     "execution_count": 3,
     "metadata": {},
     "output_type": "execute_result"
    }
   ],
   "source": [
    "most_bits_set(0)"
   ]
  },
  {
   "cell_type": "code",
   "execution_count": 9,
   "metadata": {},
   "outputs": [
    {
     "data": {
      "text/plain": [
       "9"
      ]
     },
     "execution_count": 9,
     "metadata": {},
     "output_type": "execute_result"
    }
   ],
   "source": [
    "# 9 is the only one with 2 bits set, so it is returned\n",
    "most_bits_set(8,9,0,4)"
   ]
  },
  {
   "cell_type": "code",
   "execution_count": 12,
   "metadata": {},
   "outputs": [
    {
     "data": {
      "text/plain": [
       "7"
      ]
     },
     "execution_count": 12,
     "metadata": {},
     "output_type": "execute_result"
    }
   ],
   "source": [
    "# 7,14,13 all have 3 bits set, which is the maximum seen here\n",
    "# (9 has only 2 bits set, and 2 has only 1 bit set)\n",
    "# Therefore 7 is returned\n",
    "most_bits_set(2,7,14,9,13)"
   ]
  },
  {
   "cell_type": "markdown",
   "metadata": {},
   "source": [
    "## 2. kwarg name with longest value\n",
    "\n",
    "Write a function `kwarg_name_with_longest_value(...)` which accepts any number of keyword arguments (a.k.a. kwargs).  Every value passed as a keyword argument is expected to be a sequence, such as a string, list, or tuple.  Note that sequences allow computation of length using len().  The function should determine which argument has the maximum length, and return the name of that argument.  If several keyword arguments share the maximum length, it is acceptable to return any one of their names.\n",
    "\n",
    "Example:"
   ]
  },
  {
   "cell_type": "code",
   "execution_count": 17,
   "metadata": {
    "scrolled": true
   },
   "outputs": [
    {
     "data": {
      "text/plain": [
       "'b'"
      ]
     },
     "execution_count": 17,
     "metadata": {},
     "output_type": "execute_result"
    }
   ],
   "source": [
    "kwarg_name_with_longest_value(alpha=\"air\",b=\"Tornado\",c=\"shark\")"
   ]
  },
  {
   "cell_type": "code",
   "execution_count": 18,
   "metadata": {},
   "outputs": [
    {
     "data": {
      "text/plain": [
       "'a'"
      ]
     },
     "execution_count": 18,
     "metadata": {},
     "output_type": "execute_result"
    }
   ],
   "source": [
    "# It is acceptable for this to return 'a' or 'b'\n",
    "kwarg_name_with_longest_value(a=\"finite\",b=\"robots\",c=[2,3,4])"
   ]
  },
  {
   "cell_type": "markdown",
   "metadata": {},
   "source": [
    "## 3. Prepared print\n",
    "\n",
    "Write a function `prepared_print` that accepts any number of arguments and keyword arguments.  This function should return a function that takes no arguments, but which will call `print()` with the supplied arguments when called.  That is, `prepared_print` gets a print statement ready but doesn't call it.  Here's an example of its use:"
   ]
  },
  {
   "cell_type": "code",
   "execution_count": 8,
   "metadata": {},
   "outputs": [],
   "source": [
    "f = prepared_print(\"hello\",\"mcs\",260,\"students\",sep=\"_\") # Get \"ready\" to call print(\"hello\",...)\n",
    "g = prepared_print(\"goodbye\")"
   ]
  },
  {
   "cell_type": "code",
   "execution_count": 9,
   "metadata": {},
   "outputs": [
    {
     "name": "stdout",
     "output_type": "stream",
     "text": [
      "hello_mcs_260_students\n"
     ]
    }
   ],
   "source": [
    "f() # call the print function we've prepared"
   ]
  },
  {
   "cell_type": "code",
   "execution_count": 10,
   "metadata": {},
   "outputs": [
    {
     "name": "stdout",
     "output_type": "stream",
     "text": [
      "goodbye\n"
     ]
    }
   ],
   "source": [
    "g()"
   ]
  },
  {
   "cell_type": "markdown",
   "metadata": {},
   "source": [
    "### Hint\n",
    "You'll want to define a function inside `prepared_print` and return it."
   ]
  },
  {
   "cell_type": "markdown",
   "metadata": {},
   "source": [
    "## 4. Timing decorator\n",
    "\n",
    "Here is a short program that computes the squares of the integers 1...1_000_000 and then prints how long the calculation took."
   ]
  },
  {
   "cell_type": "code",
   "execution_count": 47,
   "metadata": {},
   "outputs": [
    {
     "name": "stdout",
     "output_type": "stream",
     "text": [
      "Running time: 0.2264 seconds\n"
     ]
    }
   ],
   "source": [
    "import time\n",
    "\n",
    "t_start = time.time() # Time since 0:00 Jan 1 1970 UTC, in seconds\n",
    "million_squares = [ (x+1)**2 for x in range(1_000_000) ]\n",
    "t_end = time.time()\n",
    "print(\"Running time: {:.4f} seconds\".format(t_end - t_start))"
   ]
  },
  {
   "cell_type": "markdown",
   "metadata": {},
   "source": [
    "Using the code above as a reference, write a decorator called `timing` that, when applied to a function, makes every call to that function print how long it took for the function to complete.  The function's return value, if any, should still be returned.  And the decorator should work with functions that take arguments.\n",
    "\n",
    "Examples of how this should work:"
   ]
  },
  {
   "cell_type": "code",
   "execution_count": 49,
   "metadata": {},
   "outputs": [],
   "source": [
    "@timing\n",
    "def squares_of_first(n):\n",
    "    \"\"\"Return a list of the squares of 1, 2, ...,n\"\"\"\n",
    "    return [ (x+1)**2 for x in range(n) ]\n",
    "\n",
    "@timing\n",
    "def print_greeting(name=\"friend\",salutation=\"Hello\"):\n",
    "    \"\"\"Print a customizable greeting\"\"\"\n",
    "    print(\"{}, {}.  It is nice to see you.\".format(salutation,name))"
   ]
  },
  {
   "cell_type": "code",
   "execution_count": 50,
   "metadata": {},
   "outputs": [
    {
     "name": "stdout",
     "output_type": "stream",
     "text": [
      "Running time: 0.0000 seconds\n"
     ]
    },
    {
     "data": {
      "text/plain": [
       "[1, 4, 9, 16, 25, 36, 49, 64, 81, 100]"
      ]
     },
     "execution_count": 50,
     "metadata": {},
     "output_type": "execute_result"
    }
   ],
   "source": [
    "squares_of_first(10)"
   ]
  },
  {
   "cell_type": "code",
   "execution_count": 51,
   "metadata": {},
   "outputs": [
    {
     "name": "stdout",
     "output_type": "stream",
     "text": [
      "Running time: 0.0493 seconds\n"
     ]
    }
   ],
   "source": [
    "# Let's make a much bigger list so the running time is nonzero\n",
    "x=squares_of_first(100_000) # assign so the value is not printed!"
   ]
  },
  {
   "cell_type": "code",
   "execution_count": 53,
   "metadata": {},
   "outputs": [
    {
     "name": "stdout",
     "output_type": "stream",
     "text": [
      "Howdy, Anushka.  It is nice to see you.\n",
      "Running time: 0.0001 seconds\n"
     ]
    }
   ],
   "source": [
    "print_greeting(name=\"Anushka\",salutation=\"Howdy\")"
   ]
  },
  {
   "cell_type": "code",
   "execution_count": 54,
   "metadata": {},
   "outputs": [
    {
     "name": "stdout",
     "output_type": "stream",
     "text": [
      "Greetings, friend.  It is nice to see you.\n",
      "Running time: 0.0003 seconds\n"
     ]
    }
   ],
   "source": [
    "print_greeting(salutation=\"Greetings\")"
   ]
  },
  {
   "cell_type": "markdown",
   "metadata": {},
   "source": [
    "### Hint\n",
    "As a first step, I suggest you make a decorator that would work with functions that take no arguments and have no return value, i.e. one which would work in this case:"
   ]
  },
  {
   "cell_type": "code",
   "execution_count": null,
   "metadata": {},
   "outputs": [],
   "source": [
    "import time\n",
    "\n",
    "@timing\n",
    "def I_have_no_args():\n",
    "    print(\"Doing something for 2 seconds\")\n",
    "    time.sleep(2)"
   ]
  },
  {
   "cell_type": "markdown",
   "metadata": {},
   "source": [
    "Then, refine the decorator so it can handle arguments and return values."
   ]
  },
  {
   "cell_type": "markdown",
   "metadata": {},
   "source": [
    "## 5. One argument limit decorator\n",
    "\n",
    "Write a decorator `unary` that ensures a function only ever receives one positional argument, and never receives any keyword arguments.  Any extra arguments (positional arguments after the first, or any keyword arguments at all) should simply be ignored.  If no arguments are given, then the decorator is allowed to do anything (e.g. raise an exception)."
   ]
  },
  {
   "cell_type": "code",
   "execution_count": 56,
   "metadata": {},
   "outputs": [],
   "source": [
    "@unary\n",
    "def show(x):\n",
    "    \"\"\"Display a single value\"\"\"\n",
    "    print(\"Value:\",x)\n",
    "\n",
    "@unary\n",
    "def square(x):\n",
    "    \"\"\"Return the square of x\"\"\"\n",
    "    return x*x"
   ]
  },
  {
   "cell_type": "code",
   "execution_count": 57,
   "metadata": {},
   "outputs": [
    {
     "name": "stdout",
     "output_type": "stream",
     "text": [
      "Value: 50\n"
     ]
    }
   ],
   "source": [
    "show(50)"
   ]
  },
  {
   "cell_type": "code",
   "execution_count": 58,
   "metadata": {},
   "outputs": [
    {
     "name": "stdout",
     "output_type": "stream",
     "text": [
      "Value: Hello everyone\n"
     ]
    }
   ],
   "source": [
    "show(\"Hello everyone\")"
   ]
  },
  {
   "cell_type": "code",
   "execution_count": 59,
   "metadata": {},
   "outputs": [
    {
     "name": "stdout",
     "output_type": "stream",
     "text": [
      "Value: 3\n"
     ]
    }
   ],
   "source": [
    "show(3,4,5,6,7)"
   ]
  },
  {
   "cell_type": "code",
   "execution_count": 60,
   "metadata": {},
   "outputs": [
    {
     "name": "stdout",
     "output_type": "stream",
     "text": [
      "Value: 5\n"
     ]
    }
   ],
   "source": [
    "show(5,6,7,8,appreciated=\"GvR\")"
   ]
  },
  {
   "cell_type": "code",
   "execution_count": 63,
   "metadata": {},
   "outputs": [
    {
     "data": {
      "text/plain": [
       "25"
      ]
     },
     "execution_count": 63,
     "metadata": {},
     "output_type": "execute_result"
    }
   ],
   "source": [
    "square(5,x=0)"
   ]
  },
  {
   "cell_type": "code",
   "execution_count": 61,
   "metadata": {},
   "outputs": [
    {
     "data": {
      "text/plain": [
       "144"
      ]
     },
     "execution_count": 61,
     "metadata": {},
     "output_type": "execute_result"
    }
   ],
   "source": [
    "square(12,20)"
   ]
  }
 ],
 "metadata": {
  "kernelspec": {
   "display_name": "Python 3",
   "language": "python",
   "name": "python3"
  },
  "language_info": {
   "codemirror_mode": {
    "name": "ipython",
    "version": 3
   },
   "file_extension": ".py",
   "mimetype": "text/x-python",
   "name": "python",
   "nbconvert_exporter": "python",
   "pygments_lexer": "ipython3",
   "version": "3.8.10"
  }
 },
 "nbformat": 4,
 "nbformat_minor": 4
}
