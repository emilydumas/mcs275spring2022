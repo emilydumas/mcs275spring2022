{
 "cells": [
  {
   "cell_type": "markdown",
   "metadata": {},
   "source": [
    "# MCS 275 Spring 2022 Worksheet 10 Solutions\n",
    "\n",
    "* Course instructor: Emily Dumas\n",
    "* Solutions prepared by: Jennifer Vaccaro, Johnny Joyce"
   ]
  },
  {
   "cell_type": "markdown",
   "metadata": {},
   "source": [
    "## Topics\n",
    "\n",
    "The main topics of this worksheet are:\n",
    "* Pillow\n",
    "* numpy\n",
    "\n",
    "The problems are labeled according to which of these topics they cover.  Make sure to get some practice with each topic.\n",
    "\n",
    "## Resources\n",
    "\n",
    "These things might be helpful while working on the problems.  Remember that for worksheets,  we don't strictly limit what resources you can consult, so these are only suggestions.\n",
    "\n",
    "* [Lecture 24](http://dumas.io/teaching/2022/spring/mcs275/slides/lecture24.html)\n",
    "* [Lecture 25](http://dumas.io/teaching/2022/spring/mcs275/slides/lecture25.html)\n",
    "* [Lecture 26](http://dumas.io/teaching/2022/spring/mcs275/slides/lecture26.html)\n",
    "* [Chapter 2 of VanderPlas](https://jakevdp.github.io/PythonDataScienceHandbook/index.html)\n",
    "* [Downey's book](https://greenteapress.com/thinkpython2/html/)\n"
   ]
  },
  {
   "cell_type": "markdown",
   "metadata": {},
   "source": [
    "### 1.  Made to order (Pillow and numpy)\n",
    "\n",
    "#### A. Here is a 256x256 PNG image:\n",
    "\n",
    "![colorful image](images/ws10prob1goal.png)\n",
    "\n",
    "Make a Python script that uses Pillow to create an image that is identical to this one (or as close as you can get).  There are lots of ways to do this, and the problem is testing your ability to see a pattern in the image and express it in a Python program that uses the Pillow API.\n",
    "\n",
    "#### B. Here is a 16x16 numpy matrix of integers (dtype int64):\n",
    "\n",
    "```\n",
    "array([[-1, -1, -1, -1, -1, -1, -1, -1, -1, -1, -1, -1, -1, -1, -1, -1],\n",
    "       [20, -1, 30, -1, 40, -1, 50, -1, 60, -1, 70, -1, 80, -1, 90, -1],\n",
    "       [-1, -1, -1, -1, -1, -1, -1, -1, -1, -1, -1, -1, -1, -1, -1, -1],\n",
    "       [-1, -1, -1, -1, -1, -1, -1, -1, -1, -1, -1, -1, -1, -1, -1, -1],\n",
    "       [-1, 10, -1, -1, 10, -1, -1, 10, -1, -1, 10, -1, -1, 10, -1, -1],\n",
    "       [20, 10, 30, -1, 40, -1, 50, 10, 60, -1, 70, -1, 80, 10, 90, -1],\n",
    "       [-1, 10, -1, -1, 10, -1, -1, 10, -1, -1, 10, -1, -1, 10, -1, -1],\n",
    "       [-1, 10, -1, -1, 10, -1, -1, 10, -1, -1, 10, -1, -1, 10, -1, -1],\n",
    "       [-1, 10, -1, -1, 10, -1, -1, 10, -1, -1, 10, -1, -1, 10, -1, -1],\n",
    "       [20, 10, 30, -1, 40, -1, 50, 10, 60, -1, 70, -1, 80, 10, 90, -1],\n",
    "       [-1, 10, -1, -1, 10, -1, -1, 10, -1, -1, 10, -1, -1, 10, -1, -1],\n",
    "       [-1, 10, -1, -1, 10, -1, -1, 10, -1, -1, 10, -1, -1, 10, -1, -1],\n",
    "       [-1, -1, -1, -1, -1, -1, -1, -1, -1, -1, -1, -1, -1, -1, -1, -1],\n",
    "       [20, -1, 30, -1, 40, -1, 50, -1, 60, -1, 70, -1, 80, -1, 90, -1],\n",
    "       [-1, -1, -1, -1, -1, -1, -1, -1, -1, -1, -1, -1, -1, -1, -1, -1],\n",
    "       [-1, -1, -1, -1, -1, -1, -1, -1, -1, -1, -1, -1, -1, -1, -1, -1]])\n",
    "```\n",
    "Find a way to produce this matrix and store it in a variable named `A`. \n",
    "\n",
    "This is easy to do if you just copy the matrix into your source code.  But you can do it with much less code using `numpy` indexing.  (You'll want to examine the matrix carefully to spot all the patterns!) What's the shortest way to do it?  I was able to do it in 3 lines, 70 characters total, including newline characters (but not counting the line that imports `numpy`).  Can you do better?"
   ]
  },
  {
   "cell_type": "markdown",
   "metadata": {},
   "source": [
    "# Solution"
   ]
  },
  {
   "cell_type": "markdown",
   "metadata": {},
   "source": [
    "### A:"
   ]
  },
  {
   "cell_type": "code",
   "execution_count": 2,
   "metadata": {},
   "outputs": [],
   "source": [
    "from PIL import Image\n",
    "\n",
    "# Create a white image\n",
    "img = Image.new(\"RGB\",(8,8),(255,255,255))\n",
    "\n",
    "for i in range(8):\n",
    "    for j in range(8):\n",
    "        # --- light blue ---\n",
    "        # Occurs on main diagonal and when we are a multiple of 4px away from main diagonal\n",
    "        if i%4 == j%4:\n",
    "            img.putpixel((i,j),(0,255,255))\n",
    "        # --- Magenta ---\n",
    "        # Same as light blue, but shifted by 2 pixels\n",
    "        if (i+2)%4 == j%4:\n",
    "            img.putpixel((i,j),(255,0,255))\n",
    "        # --- Dark blue ---\n",
    "        # Similar to light blue, but reflected (hence `-1`)\n",
    "        if i%4 == (-j-1)%4:\n",
    "            img.putpixel((i,j),(0,0,255))\n",
    "\n",
    "# Resize the image without smoothing between pixels\n",
    "img = img.resize((255,255),Image.NEAREST)\n",
    "img.save(\"images/worksheet10_q1a_soln2.png\")"
   ]
  },
  {
   "cell_type": "markdown",
   "metadata": {},
   "source": [
    "### B:"
   ]
  },
  {
   "cell_type": "markdown",
   "metadata": {},
   "source": [
    "Solution in 3 lines:"
   ]
  },
  {
   "cell_type": "code",
   "execution_count": 10,
   "metadata": {},
   "outputs": [
    {
     "name": "stdout",
     "output_type": "stream",
     "text": [
      "[[-1. -1. -1. -1. -1. -1. -1. -1. -1. -1. -1. -1. -1. -1. -1. -1.]\n",
      " [20. -1. 30. -1. 40. -1. 50. -1. 60. -1. 70. -1. 80. -1. 90. -1.]\n",
      " [-1. -1. -1. -1. -1. -1. -1. -1. -1. -1. -1. -1. -1. -1. -1. -1.]\n",
      " [-1. -1. -1. -1. -1. -1. -1. -1. -1. -1. -1. -1. -1. -1. -1. -1.]\n",
      " [-1. 10. -1. -1. 10. -1. -1. 10. -1. -1. 10. -1. -1. 10. -1. -1.]\n",
      " [20. 10. 30. -1. 40. -1. 50. 10. 60. -1. 70. -1. 80. 10. 90. -1.]\n",
      " [-1. 10. -1. -1. 10. -1. -1. 10. -1. -1. 10. -1. -1. 10. -1. -1.]\n",
      " [-1. 10. -1. -1. 10. -1. -1. 10. -1. -1. 10. -1. -1. 10. -1. -1.]\n",
      " [-1. 10. -1. -1. 10. -1. -1. 10. -1. -1. 10. -1. -1. 10. -1. -1.]\n",
      " [20. 10. 30. -1. 40. -1. 50. 10. 60. -1. 70. -1. 80. 10. 90. -1.]\n",
      " [-1. 10. -1. -1. 10. -1. -1. 10. -1. -1. 10. -1. -1. 10. -1. -1.]\n",
      " [-1. 10. -1. -1. 10. -1. -1. 10. -1. -1. 10. -1. -1. 10. -1. -1.]\n",
      " [-1. -1. -1. -1. -1. -1. -1. -1. -1. -1. -1. -1. -1. -1. -1. -1.]\n",
      " [20. -1. 30. -1. 40. -1. 50. -1. 60. -1. 70. -1. 80. -1. 90. -1.]\n",
      " [-1. -1. -1. -1. -1. -1. -1. -1. -1. -1. -1. -1. -1. -1. -1. -1.]\n",
      " [-1. -1. -1. -1. -1. -1. -1. -1. -1. -1. -1. -1. -1. -1. -1. -1.]]\n"
     ]
    }
   ],
   "source": [
    "import numpy as np\n",
    "\n",
    "# First, fill up the matrix with `-1`\n",
    "A = -1 * np.ones((16,16))\n",
    "\n",
    "# Then the 10's appear in all rows except the first 4 and last 4 (hence `4:-4`)\n",
    "# And they start in the second column (index 1) and appear in every third column (hence `1::3`) \n",
    "A[4:-4, 1::3] = 10\n",
    "\n",
    "# np.arange(20,100,10) starts at 20 and goes to 100 with gaps of 10 between each number.\n",
    "# We use this on every fourth row starting at row 1 (hence `1::4`) ...\n",
    "# ... and on every second column (hence `::2`)\n",
    "A[1::4, ::2] = np.arange(20, 100, 10)\n",
    "\n",
    "print(A)\n"
   ]
  },
  {
   "cell_type": "markdown",
   "metadata": {},
   "source": [
    "## 2. Needle in a haystack, part 1 (Pillow)\n",
    "\n",
    "Download and extract this zip file:\n",
    "* [haystacks.zip](https://dumas.io/teaching/2022/spring/mcs275/data/haystacks.zip)\n",
    "\n",
    "It contains 1024 image files in two directories (`haystack1` and `haystack2`).  If you look at them, they all appear to contain black and white \"static\".  These files are used in this problem and the next one.\n",
    "\n",
    "Let's say that a pixel is **bluish** if its blue component is larger than its red or green components.  So, for example, (62,30,62) is not bluish, but (5,6,7) is bluish.\n",
    "\n",
    "The files in directory `haystack1` are numbered `000` to `511`.  They are PNG image files, all of the same size.  Among all of these image files, there is only a single bluish pixel.  Which file is it in, and at what coordinates?"
   ]
  },
  {
   "cell_type": "markdown",
   "metadata": {},
   "source": [
    "# Solution"
   ]
  },
  {
   "cell_type": "code",
   "execution_count": 1,
   "metadata": {},
   "outputs": [
    {
     "name": "stdout",
     "output_type": "stream",
     "text": [
      "Bluish pixel found at (20,22) in file haystacks/haystack1/img275.png\n"
     ]
    }
   ],
   "source": [
    "from PIL import Image\n",
    "\n",
    "for i in range(512):\n",
    "    \n",
    "    # Find filename corresponding to current value of i (`:03d` pads with zeros when needed)\n",
    "    iname = \"haystacks/haystack1/img{:03d}.png\".format(i) # Open the image file\n",
    "    img = Image.open(iname)\n",
    "    w, h = img.size\n",
    "    \n",
    "    # Iterate over each pixel\n",
    "    for x in range(w):\n",
    "        for y in range(h):\n",
    "            r,g,b = img.getpixel((x,y))\n",
    "            if r<b and g<b: # If blue is the highest value\n",
    "                print(\"Bluish pixel found at ({},{}) in file {}\".format(x,y,iname))\n",
    "                # There's only one bluish pixel, so now we are done\n",
    "                exit()"
   ]
  },
  {
   "cell_type": "markdown",
   "metadata": {},
   "source": [
    "## 3. Needle in a haystack, part 2 (Pillow)\n",
    "\n",
    "This is a more complex version of the previous problem.  Only work on it if you will still have enough time to do the numpy problems below.  (If unsure, skip ahead for now and come back to this later.)\n",
    "\n",
    "The files in directory `haystack2` have 36-character filenames (plus an extension \".png\"), and have varying sizes.  They contain a secret message, which you can decode as follows:\n",
    "\n",
    "Examine all of the image files in alphabetical order.  In each one, look for bluish pixels.  There may be no bluish pixels at all, or a single one, or many of them.  Whenever a bluish pixel is found, let (x,y) be its position and let r be the remainder of dividing x+y by 36.  Take the character in the filename that appears at index r.  If that character is a digit, ignore it.  Otherwise, add that character to the end of the message.\n",
    "\n",
    "*Hint: It may be helpful to use `os.listdir` from the `os` module.  It takes a directory name and returns a list of filenames in that directory.*"
   ]
  },
  {
   "cell_type": "markdown",
   "metadata": {},
   "source": [
    "# Solution"
   ]
  },
  {
   "cell_type": "code",
   "execution_count": 1,
   "metadata": {},
   "outputs": [
    {
     "name": "stdout",
     "output_type": "stream",
     "text": [
      "Secret message!\n",
      "rosebud\n"
     ]
    }
   ],
   "source": [
    "import os\n",
    "from PIL import Image\n",
    "\n",
    "# Create empty string to store the secret message\n",
    "message = \"\"\n",
    "# Navigate to the correct directory\n",
    "os.chdir(\"haystacks/haystack2/\")\n",
    "\n",
    "# Iterate through the pngs in the directory\n",
    "for f in os.listdir():\n",
    "    img = Image.open(f)\n",
    "    w, h = img.size\n",
    "\n",
    "    # Iterate through the pixels and check whether any is bluish\n",
    "    for x in range(w):\n",
    "        for y in range(h):\n",
    "            r,g,b = img.getpixel((x,y))\n",
    "\n",
    "            # If pixel is bluish, get the associated character.\n",
    "            if r<b and g<b:\n",
    "                remainder = (x+y) % 36\n",
    "                # Only add to the message if the character isnt a digit\n",
    "                if not f[remainder].isdigit():\n",
    "                    message += f[remainder]\n",
    "# Print out the secret message\n",
    "print(\"Secret message!\")\n",
    "print(message)"
   ]
  },
  {
   "cell_type": "markdown",
   "metadata": {},
   "source": [
    "### 4. Max, Min, Mean and RMS (numpy)\n",
    "\n",
    "Download and unzip this file to obtain a single CSV file:\n",
    "\n",
    "* [widecsv.zip](https://dumas.io/teaching/2022/spring/mcs275/data/widecsv.zip)\n",
    "\n",
    "It has no header row.  There are 30 rows of data, each of which has 10,000 fields which are floating-point numbers.\n",
    "\n",
    "Read the file and put each line into a numpy vector. Then, compute the following four quantities related to the entries in that vector:\n",
    "* The maximum of the entries\n",
    "* The minimum of the entries\n",
    "* The average (arithmetic mean) of the entries\n",
    "* The square root of the sum of the squares of the entries (sometimes called the *norm* or the *$\\ell^2$ norm*)\n",
    "\n",
    "Write these rowwise summary statistics to an output CSV file that has the following header row:\n",
    "```\n",
    "max,min,mean,norm\n",
    "```\n",
    "which is then followed by 30 lines, one for each line in the input file.\n",
    "\n",
    "Once you have a row of the input file converted to a numpy array, there shouldn't be any need for explicit iteration over its entries.  \n",
    "\n",
    "#### IMPORTANT NOTES\n",
    "\n",
    "Remember that the CSV module always gives you individual items from a row as strings, and so you'll need to convert them to floats.\n",
    "\n",
    "Also, in our in-class use of the CSV module we used `csv.DictReader` to read data from CSV files, and that class requires a header row to be present.  For this problem you need to instead use `csv.reader`.  It operates similarly but returns a list for each row (rather than a dictionary).  Here's a sample of its use:"
   ]
  },
  {
   "cell_type": "code",
   "execution_count": null,
   "metadata": {},
   "outputs": [],
   "source": [
    "import csv\n",
    "\n",
    "with open(\"series.csv\",\"r\",encoding=\"UTF-8\",newline=\"\") as fp:\n",
    "    rdr = csv.reader(fp)\n",
    "    for row in rdr:\n",
    "        print(\"Got a row with {} items in it.\".format(len(row)))\n",
    "        print(\"The item at index 8 in this row is:\",row[8])"
   ]
  },
  {
   "cell_type": "markdown",
   "metadata": {},
   "source": [
    "# Solution"
   ]
  },
  {
   "cell_type": "code",
   "execution_count": 3,
   "metadata": {},
   "outputs": [],
   "source": [
    "import csv\n",
    "import numpy as np\n",
    "\n",
    "      \n",
    "# Open the in_file and create a csv reader object\n",
    "with open(\"series.csv\", \"rt\", newline=\"\") as fp:\n",
    "    rdr = csv.reader(fp)\n",
    "    \n",
    "    # Create a file for the output and create a csv DictWriter object\n",
    "    with open(\"summary.csv\", \"w\", newline=\"\") as fout:\n",
    "        \n",
    "        writer = csv.DictWriter(fout,fieldnames=[\"max\",\"min\",\"mean\",\"norm\"])\n",
    "        writer.writeheader() # Use the given `fieldnames` for header row\n",
    "        \n",
    "        # Read through the input csv reader\n",
    "        for row in rdr:\n",
    "            \n",
    "            # Convert to numpy array of floats\n",
    "            v = np.array(row).astype(float)\n",
    "            \n",
    "            # Calculate all of the summary statistics and store in a dict\n",
    "            d = {\"max\": np.max(v),\n",
    "                 \"min\": np.min(v),\n",
    "                 \"mean\": np.mean(v),\n",
    "                 \"norm\": np.linalg.norm(v)}\n",
    "            \n",
    "            writer.writerow(d) # Write dict to output file"
   ]
  },
  {
   "cell_type": "markdown",
   "metadata": {},
   "source": [
    "\n",
    "## 5. Impact crater (numpy)\n",
    "\n",
    "Write a function `crater(n)` that takes a single argument, an integer `n`, and returns a numpy array of shape (n,n) whose entry at position (i,j) is equal to\n",
    "$$ \\sin \\left ( \\frac{\\pi i}{n-1} \\right ) \\sin \\left ( \\frac{\\pi j}{n-1} \\right ) $$\n",
    "unless that quantity is larger than 0.7, in which case the entry should instead have the value 0.\n",
    "\n",
    "Use numpy arrays, and try to avoid loops.\n",
    "\n",
    "**Hint: numpy as the constant $\\pi$ built in as `np.pi`**"
   ]
  },
  {
   "cell_type": "markdown",
   "metadata": {},
   "source": [
    "Here's an example of the expected result for n=8."
   ]
  },
  {
   "cell_type": "code",
   "execution_count": 40,
   "metadata": {},
   "outputs": [
    {
     "name": "stdout",
     "output_type": "stream",
     "text": [
      "[[0.    0.    0.    0.    0.    0.    0.    0.   ]\n",
      " [0.    0.188 0.339 0.423 0.423 0.339 0.188 0.   ]\n",
      " [0.    0.339 0.611 0.    0.    0.611 0.339 0.   ]\n",
      " [0.    0.423 0.    0.    0.    0.    0.423 0.   ]\n",
      " [0.    0.423 0.    0.    0.    0.    0.423 0.   ]\n",
      " [0.    0.339 0.611 0.    0.    0.611 0.339 0.   ]\n",
      " [0.    0.188 0.339 0.423 0.423 0.339 0.188 0.   ]\n",
      " [0.    0.    0.    0.    0.    0.    0.    0.   ]]\n"
     ]
    }
   ],
   "source": [
    "# The next line asks numpy to alter the way it prints arrays\n",
    "# so only three decimal digits are shown, without scientific\n",
    "# notation.  That will make the next test result easier to\n",
    "# read.\n",
    "np.set_printoptions(precision=3,suppress=True)\n",
    "\n",
    "# Show the 8x8 return value\n",
    "print(crater(8))"
   ]
  },
  {
   "cell_type": "markdown",
   "metadata": {},
   "source": [
    "Also, can you explain the name of this problem?"
   ]
  },
  {
   "cell_type": "markdown",
   "metadata": {},
   "source": [
    "# Solution"
   ]
  },
  {
   "cell_type": "markdown",
   "metadata": {},
   "source": [
    "Code to produce a crater:"
   ]
  },
  {
   "cell_type": "code",
   "execution_count": 25,
   "metadata": {},
   "outputs": [
    {
     "name": "stdout",
     "output_type": "stream",
     "text": [
      "[[0.    0.    0.    0.    0.    0.    0.    0.    0.    0.    0.    0.   ]\n",
      " [0.    0.079 0.152 0.213 0.256 0.279 0.279 0.256 0.213 0.152 0.079 0.   ]\n",
      " [0.    0.152 0.292 0.409 0.492 0.535 0.535 0.492 0.409 0.292 0.152 0.   ]\n",
      " [0.    0.213 0.409 0.571 0.687 0.    0.    0.687 0.571 0.409 0.213 0.   ]\n",
      " [0.    0.256 0.492 0.687 0.    0.    0.    0.    0.687 0.492 0.256 0.   ]\n",
      " [0.    0.279 0.535 0.    0.    0.    0.    0.    0.    0.535 0.279 0.   ]\n",
      " [0.    0.279 0.535 0.    0.    0.    0.    0.    0.    0.535 0.279 0.   ]\n",
      " [0.    0.256 0.492 0.687 0.    0.    0.    0.    0.687 0.492 0.256 0.   ]\n",
      " [0.    0.213 0.409 0.571 0.687 0.    0.    0.687 0.571 0.409 0.213 0.   ]\n",
      " [0.    0.152 0.292 0.409 0.492 0.535 0.535 0.492 0.409 0.292 0.152 0.   ]\n",
      " [0.    0.079 0.152 0.213 0.256 0.279 0.279 0.256 0.213 0.152 0.079 0.   ]\n",
      " [0.    0.    0.    0.    0.    0.    0.    0.    0.    0.    0.    0.   ]]\n"
     ]
    }
   ],
   "source": [
    "import numpy as np\n",
    "\n",
    "def sinsin(n,i,j):\n",
    "    \"\"\"Calls the product sine function defined on the worksheet, \n",
    "    either on a scalar or on a numpy array\n",
    "    n: the size of the crater\n",
    "    i: the x coordinate(s)\n",
    "    j: the y coordinate(s)\"\"\"\n",
    "    return np.sin(np.pi*i/(n-1))*np.sin(np.pi*j/(n-1))\n",
    "\n",
    "def crater(n):\n",
    "    \"\"\"Returns a crater numpy array of size n\"\"\"\n",
    "    # Create an n-by-n numpy array of coordinates\n",
    "    x = np.arange(0,n)\n",
    "    y = np.arange(0,n)\n",
    "    xx,yy = np.meshgrid(x,y)\n",
    "    # Create a new numpy array which calls the function\n",
    "    arr = sinsin(n,xx,yy)\n",
    "    arr[arr>0.7] = 0 # Mask any values >0.7 with zeros\n",
    "    return arr\n",
    "\n",
    "# Make the crater numpy array print nicely\n",
    "np.set_printoptions(precision=3,suppress=True)\n",
    "print(crater(12))"
   ]
  },
  {
   "cell_type": "markdown",
   "metadata": {},
   "source": [
    "### Why is the problem called \"impact crater\"?\n",
    "\n",
    "If we visualize the crater we produced using the following `PIL` code, we get an image of a crater!\n",
    "\n",
    "The double sine function causes pixels nearer the center of the image to have a higher value, creating the light-colored pixels. When we eliminate all values greater than `0.7`, this blots out all pixels near the center, creating the black circle in the middle."
   ]
  },
  {
   "cell_type": "code",
   "execution_count": 31,
   "metadata": {},
   "outputs": [
    {
     "data": {
      "image/png": "[encoded data removed]",
      "text/plain": [
       "<PIL.Image.Image image mode=L size=255x255 at 0x244FA1ECA90>"
      ]
     },
     "metadata": {},
     "output_type": "display_data"
    }
   ],
   "source": [
    "from PIL import Image\n",
    "\n",
    "# Make a 50x50 crater.\n",
    "# Multiply by 255 since `.fromarray` on the next line does not handle floats well\n",
    "output_crater = crater(12) * 255\n",
    "\n",
    "# \"uint8\" means \"unsigned 8 bit integer\" (i.e. an int between 0 and 255)\n",
    "img_crater = Image.fromarray(output_crater.astype(\"uint8\"))\n",
    "\n",
    "# Resize to 255x255 and save\n",
    "img_crater = img_crater.resize((255,255),Image.NEAREST)\n",
    "img_crater.save(\"images/worksheet10_crater.png\")"
   ]
  },
  {
   "cell_type": "markdown",
   "metadata": {},
   "source": [
    "We can also produce larger craters to get a \"smoother\" looking image:"
   ]
  },
  {
   "cell_type": "code",
   "execution_count": 23,
   "metadata": {},
   "outputs": [
    {
     "data": {
      "image/png": "[encoded data removed]",
      "text/plain": [
       "<PIL.Image.Image image mode=L size=500x500 at 0x244F82D2A90>"
      ]
     },
     "metadata": {},
     "output_type": "display_data"
    }
   ],
   "source": [
    "from PIL import Image\n",
    "\n",
    "# Make a 500x500 crater.\n",
    "# Multiply by 255 since `.fromarray` on the next line does not handle floats well\n",
    "output_crater = crater(500) * 255\n",
    "\n",
    "\n",
    "# \"uint8\" means \"unsigned 8 bit integer\" (i.e. an int between 0 and 255)\n",
    "img_crater = Image.fromarray(output_crater.astype(\"uint8\"))\n",
    "img_crater.save(\"images/worksheet10_crater_highres.png\")"
   ]
  }
 ],
 "metadata": {
  "kernelspec": {
   "display_name": "Python 3 (ipykernel)",
   "language": "python",
   "name": "python3"
  },
  "language_info": {
   "codemirror_mode": {
    "name": "ipython",
    "version": 3
   },
   "file_extension": ".py",
   "mimetype": "text/x-python",
   "name": "python",
   "nbconvert_exporter": "python",
   "pygments_lexer": "ipython3",
   "version": "3.8.12"
  }
 },
 "nbformat": 4,
 "nbformat_minor": 4
}
