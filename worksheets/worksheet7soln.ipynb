{
 "cells": [
  {
   "cell_type": "markdown",
   "metadata": {},
   "source": [
    "# MCS 275 Spring 2022 Worksheet 7 Solutions\n",
    "\n",
    "* Course instructor: Emily Dumas\n",
    "* Solutions prepared by: Jennifer Vaccaro, Johnny Joyce"
   ]
  },
  {
   "cell_type": "markdown",
   "metadata": {},
   "source": [
    "## Topics\n",
    "\n",
    "The main topics of this worksheet are **recursion with backtracking** and **sorting**.\n",
    "\n",
    "The problems about the maze module allow variations and extensions that could probably occupy an entire discussion.  However, please make sure to get some practice with the sorting material, too.\n",
    "\n",
    "## Resources\n",
    "\n",
    "These things might be helpful while working on the problems.  Remember that for worksheets,  we don't strictly limit what resources you can consult, so these are only suggestions.\n",
    "\n",
    "* [Lecture 15 - Recursion with backtracking](http://dumas.io/teaching/2022/spring/mcs275/slides/lecture15.html)\n",
    "* [Lecture 16 - Mergesort](http://dumas.io/teaching/2022/spring/mcs275/slides/lecture16.html)\n",
    "* [Lecture 17 - Quicksort](http://dumas.io/teaching/2022/spring/mcs275/slides/lecture17.html)\n",
    "* [maze.py](https://github.com/emilydumas/mcs275spring2022/blob/main/samplecode/recursion/maze.py)\n",
    "* [solvemaze.py](https://github.com/emilydumas/mcs275spring2022/blob/main/samplecode/recursion/solvemaze.py)\n",
    "* [sorts.py](https://github.com/emilydumas/mcs275spring2022/blob/main/samplecode/recursion/sorts.py)\n",
    "* [Downey's book](https://greenteapress.com/thinkpython2/html/)\n",
    "* MCS 260 course materials from Fall 2021:\n",
    "    * [Slides, homework, worksheets, and projects](https://www.dumas.io/teaching/2021/fall/mcs260/)\n",
    "    * [Sample programs](https://github.com/emilydumas/mcs260fall2021/tree/main/samplecode)"
   ]
  },
  {
   "cell_type": "markdown",
   "metadata": {},
   "source": [
    "## I. Mazes"
   ]
  },
  {
   "cell_type": "markdown",
   "metadata": {},
   "source": [
    "### 1. Learn a little more about `maze.py`\n",
    "\n",
    "This problem involves reading and learning more about the module `maze` we discussed in Lecture 15.  You'll use the things you learn about here in subsequent problems.\n",
    "\n",
    "In Lecture 15 we discussed a minimal way of using the module:\n",
    "* Create a `Maze` object (e.g. with `M = maze.Maze(xsize=7,ysize=7)`\n",
    "* Set some squares to blocked (using `M.set_blocked` for individual squares, and/or `M.apply_border` which makes all of the edge squares blocked)\n",
    "* Set the start and goal (`M.start` and `M.goal`) locations\n",
    "* Use a recursive backtracking function to find a path from the start to the goal\n",
    "The function created in the last step can be found in [solvemaze.py](https://github.com/emilydumas/mcs275spring2021/blob/master/samplecode/recursion/solvemaze.py).\n",
    "\n",
    "The module `maze` has several other features:\n",
    "\n",
    "#### Saving a maze as SVG file\n",
    "\n",
    "`Maze` objects have a method `save_svg(filename)` that writes a graphical representation of the maze to a file in the SVG format.  This is a vector graphics format (scalable, not pixel-based) that can be viewed in most web browsers.\n",
    "\n",
    "This method also accepts an optional argument `highlight`, which if given should be a list of `(x,y)` pairs that indicate squares in the maze that should be higlighted in light blue.  For example,\n",
    "```\n",
    "mymaze.save_svg(\"cool.svg\",highlight=[ (2,1), (3,1), (4,1) ])\n",
    "```\n",
    "will save the maze to `cool.svg`, and highlight three squares in blue.\n",
    "\n",
    "The `highlight` argument is provided as a way to indicate the solution of a maze, or any other feature you might choose to display.\n",
    "\n",
    "#### Saving a maze as a PNG file\n",
    "\n",
    "For this feature, you need to install a module that isn't in Python's standard library.  The module `PIL` is from a package called *Pillow*, and is used to work with image files.  The following command should install it:\n",
    "```\n",
    "python3 -m pip install pillow\n",
    "```\n",
    "\n",
    "After installing Pillow, you can save a maze object as a PNG file (a bitmap graphics format supported by nearly every program that deals with images) using the `save_png` method.  Its arguments are:\n",
    "```\n",
    "save_png(filename,scale=1,highlight=[])\n",
    "```\n",
    "The argument `scale` is a positive integer controlling the width of each maze square in pixels.  The default, `scale=1`, will result in a tiny image file where each pixel is a maze square.  To get a reasonable size output image, try `scale=10` or `scale=30`.\n",
    "\n",
    "#### Random Mazes\n",
    "\n",
    "The class `PrimRandomMaze` inherits from `Maze` and automatically generates a random maze that has exactly one path from the start to the goal.  Its constructor takes only two arguments\n",
    "\n",
    "```\n",
    "PrimRandomMaze(xsize,ysize)\n",
    "```\n",
    "and both `xsize` and `ysize` must be **odd** numbers.  This random maze generator uses [Prim's algorithm](https://en.wikipedia.org/wiki/Prim%27s_algorithm), which is known for producing mazes of moderate difficulty, with many short dead ends."
   ]
  },
  {
   "cell_type": "markdown",
   "metadata": {},
   "source": [
    "### 2. Basic solved maze image\n",
    "\n",
    "Make a Python script that imports `maze` and `solvemaze` and uses them to do the following:\n",
    "\n",
    "* Accept one command line argument, an odd integer `n`\n",
    "* Generate a random maze of size `n` by `n`\n",
    "* Solve the maze by recursize backtracking\n",
    "* Write the solved maze (with solution highlighted) to a SVG file\n",
    "\n",
    "Test the program, loading the SVG file it produces in a web browser.\n",
    "\n",
    "Also try the same but with a PNG file as the output image type.\n",
    "\n",
    "If everything works, your images should look a bit like [this](https://dumas.io/teaching/2022/spring/mcs275/slides/images/example-maze-solved.png)."
   ]
  },
  {
   "cell_type": "code",
   "execution_count": 5,
   "metadata": {},
   "outputs": [
    {
     "name": "stdout",
     "output_type": "stream",
     "text": [
      "Path under consideration: [(1, 1)]\n",
      "Path under consideration: [(1, 1), (2, 1)]\n",
      "Path under consideration: [(1, 1), (2, 1), (3, 1)]\n",
      "Path under consideration: [(1, 1), (2, 1), (3, 1), (4, 1)]\n",
      "Path under consideration: [(1, 1), (2, 1), (3, 1), (4, 1), (5, 1)]\n",
      "Path under consideration: [(1, 1), (2, 1), (3, 1), (4, 1), (5, 1), (5, 2)]\n",
      "Path under consideration: [(1, 1), (2, 1), (3, 1), (4, 1), (5, 1), (5, 2), (5, 3)]\n",
      "Path under consideration: [(1, 1), (2, 1), (3, 1), (4, 1), (5, 1), (5, 2), (5, 3), (4, 3)]\n",
      "Path under consideration: [(1, 1), (2, 1), (3, 1), (4, 1), (5, 1), (5, 2), (5, 3), (4, 3), (3, 3)]\n",
      "Path under consideration: [(1, 1), (2, 1), (3, 1), (4, 1), (5, 1), (5, 2), (5, 3), (4, 3), (3, 3), (2, 3)]\n",
      "Path under consideration: [(1, 1), (2, 1), (3, 1), (4, 1), (5, 1), (5, 2), (5, 3), (4, 3), (3, 3), (2, 3), (1, 3)]\n",
      "Path under consideration: [(1, 1), (2, 1), (3, 1), (4, 1), (5, 1), (5, 2), (5, 3), (4, 3), (3, 3), (3, 4)]\n",
      "Path under consideration: [(1, 1), (2, 1), (3, 1), (4, 1), (5, 1), (5, 2), (5, 3), (4, 3), (3, 3), (3, 4), (3, 5)]\n",
      "Path under consideration: [(1, 1), (2, 1), (3, 1), (4, 1), (5, 1), (5, 2), (5, 3), (6, 3)]\n",
      "Path under consideration: [(1, 1), (2, 1), (3, 1), (4, 1), (5, 1), (5, 2), (5, 3), (6, 3), (7, 3)]\n",
      "Path under consideration: [(1, 1), (2, 1), (3, 1), (4, 1), (5, 1), (5, 2), (5, 3), (6, 3), (7, 3), (7, 2)]\n",
      "Path under consideration: [(1, 1), (2, 1), (3, 1), (4, 1), (5, 1), (5, 2), (5, 3), (6, 3), (7, 3), (7, 2), (7, 1)]\n",
      "Path under consideration: [(1, 1), (2, 1), (3, 1), (4, 1), (5, 1), (5, 2), (5, 3), (6, 3), (7, 3), (7, 2), (7, 1), (8, 1)]\n",
      "Path under consideration: [(1, 1), (2, 1), (3, 1), (4, 1), (5, 1), (5, 2), (5, 3), (6, 3), (7, 3), (7, 2), (7, 1), (8, 1), (9, 1)]\n",
      "Path under consideration: [(1, 1), (2, 1), (3, 1), (4, 1), (5, 1), (5, 2), (5, 3), (6, 3), (7, 3), (7, 2), (7, 1), (8, 1), (9, 1), (10, 1)]\n",
      "Path under consideration: [(1, 1), (2, 1), (3, 1), (4, 1), (5, 1), (5, 2), (5, 3), (6, 3), (7, 3), (7, 2), (7, 1), (8, 1), (9, 1), (10, 1), (11, 1)]\n",
      "Path under consideration: [(1, 1), (2, 1), (3, 1), (4, 1), (5, 1), (5, 2), (5, 3), (6, 3), (7, 3), (7, 4)]\n",
      "Path under consideration: [(1, 1), (2, 1), (3, 1), (4, 1), (5, 1), (5, 2), (5, 3), (6, 3), (7, 3), (7, 4), (7, 5)]\n",
      "Path under consideration: [(1, 1), (2, 1), (3, 1), (4, 1), (5, 1), (5, 2), (5, 3), (6, 3), (7, 3), (7, 4), (7, 5), (6, 5)]\n",
      "Path under consideration: [(1, 1), (2, 1), (3, 1), (4, 1), (5, 1), (5, 2), (5, 3), (6, 3), (7, 3), (7, 4), (7, 5), (6, 5), (5, 5)]\n",
      "Path under consideration: [(1, 1), (2, 1), (3, 1), (4, 1), (5, 1), (5, 2), (5, 3), (6, 3), (7, 3), (7, 4), (7, 5), (8, 5)]\n",
      "Path under consideration: [(1, 1), (2, 1), (3, 1), (4, 1), (5, 1), (5, 2), (5, 3), (6, 3), (7, 3), (7, 4), (7, 5), (8, 5), (9, 5)]\n",
      "Path under consideration: [(1, 1), (2, 1), (3, 1), (4, 1), (5, 1), (5, 2), (5, 3), (6, 3), (7, 3), (7, 4), (7, 5), (8, 5), (9, 5), (10, 5)]\n",
      "Path under consideration: [(1, 1), (2, 1), (3, 1), (4, 1), (5, 1), (5, 2), (5, 3), (6, 3), (7, 3), (7, 4), (7, 5), (8, 5), (9, 5), (10, 5), (11, 5)]\n",
      "Path under consideration: [(1, 1), (2, 1), (3, 1), (4, 1), (5, 1), (5, 2), (5, 3), (6, 3), (7, 3), (7, 4), (7, 5), (8, 5), (9, 5), (10, 5), (11, 5), (11, 4)]\n",
      "Path under consideration: [(1, 1), (2, 1), (3, 1), (4, 1), (5, 1), (5, 2), (5, 3), (6, 3), (7, 3), (7, 4), (7, 5), (8, 5), (9, 5), (10, 5), (11, 5), (11, 4), (11, 3)]\n",
      "Path under consideration: [(1, 1), (2, 1), (3, 1), (4, 1), (5, 1), (5, 2), (5, 3), (6, 3), (7, 3), (7, 4), (7, 5), (8, 5), (9, 5), (10, 5), (11, 5), (11, 4), (11, 3), (10, 3)]\n",
      "Path under consideration: [(1, 1), (2, 1), (3, 1), (4, 1), (5, 1), (5, 2), (5, 3), (6, 3), (7, 3), (7, 4), (7, 5), (8, 5), (9, 5), (10, 5), (11, 5), (11, 4), (11, 3), (10, 3), (9, 3)]\n",
      "Path under consideration: [(1, 1), (2, 1), (3, 1), (4, 1), (5, 1), (5, 2), (5, 3), (6, 3), (7, 3), (7, 4), (7, 5), (8, 5), (9, 5), (10, 5), (11, 5), (11, 4), (11, 3), (12, 3)]\n",
      "Path under consideration: [(1, 1), (2, 1), (3, 1), (4, 1), (5, 1), (5, 2), (5, 3), (6, 3), (7, 3), (7, 4), (7, 5), (8, 5), (9, 5), (10, 5), (11, 5), (11, 4), (11, 3), (12, 3), (13, 3)]\n",
      "Path under consideration: [(1, 1), (2, 1), (3, 1), (4, 1), (5, 1), (5, 2), (5, 3), (6, 3), (7, 3), (7, 4), (7, 5), (8, 5), (9, 5), (10, 5), (11, 5), (11, 4), (11, 3), (12, 3), (13, 3), (13, 2)]\n",
      "Path under consideration: [(1, 1), (2, 1), (3, 1), (4, 1), (5, 1), (5, 2), (5, 3), (6, 3), (7, 3), (7, 4), (7, 5), (8, 5), (9, 5), (10, 5), (11, 5), (11, 4), (11, 3), (12, 3), (13, 3), (13, 2), (13, 1)]\n",
      "Path under consideration: [(1, 1), (2, 1), (3, 1), (4, 1), (5, 1), (5, 2), (5, 3), (6, 3), (7, 3), (7, 4), (7, 5), (8, 5), (9, 5), (10, 5), (11, 5), (11, 4), (11, 3), (12, 3), (13, 3), (13, 4)]\n",
      "Path under consideration: [(1, 1), (2, 1), (3, 1), (4, 1), (5, 1), (5, 2), (5, 3), (6, 3), (7, 3), (7, 4), (7, 5), (8, 5), (9, 5), (10, 5), (11, 5), (11, 4), (11, 3), (12, 3), (13, 3), (13, 4), (13, 5)]\n",
      "Path under consideration: [(1, 1), (2, 1), (3, 1), (4, 1), (5, 1), (5, 2), (5, 3), (6, 3), (7, 3), (7, 4), (7, 5), (8, 5), (9, 5), (10, 5), (11, 5), (11, 4), (11, 3), (12, 3), (13, 3), (13, 4), (13, 5), (13, 6)]\n",
      "Path under consideration: [(1, 1), (2, 1), (3, 1), (4, 1), (5, 1), (5, 2), (5, 3), (6, 3), (7, 3), (7, 4), (7, 5), (8, 5), (9, 5), (10, 5), (11, 5), (11, 4), (11, 3), (12, 3), (13, 3), (13, 4), (13, 5), (13, 6), (13, 7)]\n",
      "Path under consideration: [(1, 1), (2, 1), (3, 1), (4, 1), (5, 1), (5, 2), (5, 3), (6, 3), (7, 3), (7, 4), (7, 5), (8, 5), (9, 5), (9, 6)]\n",
      "Path under consideration: [(1, 1), (2, 1), (3, 1), (4, 1), (5, 1), (5, 2), (5, 3), (6, 3), (7, 3), (7, 4), (7, 5), (8, 5), (9, 5), (9, 6), (9, 7)]\n",
      "Path under consideration: [(1, 1), (2, 1), (3, 1), (4, 1), (5, 1), (5, 2), (5, 3), (6, 3), (7, 3), (7, 4), (7, 5), (8, 5), (9, 5), (9, 6), (9, 7), (8, 7)]\n",
      "Path under consideration: [(1, 1), (2, 1), (3, 1), (4, 1), (5, 1), (5, 2), (5, 3), (6, 3), (7, 3), (7, 4), (7, 5), (8, 5), (9, 5), (9, 6), (9, 7), (8, 7), (7, 7)]\n",
      "Path under consideration: [(1, 1), (2, 1), (3, 1), (4, 1), (5, 1), (5, 2), (5, 3), (6, 3), (7, 3), (7, 4), (7, 5), (8, 5), (9, 5), (9, 6), (9, 7), (8, 7), (7, 7), (6, 7)]\n",
      "Path under consideration: [(1, 1), (2, 1), (3, 1), (4, 1), (5, 1), (5, 2), (5, 3), (6, 3), (7, 3), (7, 4), (7, 5), (8, 5), (9, 5), (9, 6), (9, 7), (8, 7), (7, 7), (6, 7), (5, 7)]\n",
      "Path under consideration: [(1, 1), (2, 1), (3, 1), (4, 1), (5, 1), (5, 2), (5, 3), (6, 3), (7, 3), (7, 4), (7, 5), (8, 5), (9, 5), (9, 6), (9, 7), (8, 7), (7, 7), (7, 8)]\n",
      "Path under consideration: [(1, 1), (2, 1), (3, 1), (4, 1), (5, 1), (5, 2), (5, 3), (6, 3), (7, 3), (7, 4), (7, 5), (8, 5), (9, 5), (9, 6), (9, 7), (8, 7), (7, 7), (7, 8), (7, 9)]\n",
      "Path under consideration: [(1, 1), (2, 1), (3, 1), (4, 1), (5, 1), (5, 2), (5, 3), (6, 3), (7, 3), (7, 4), (7, 5), (8, 5), (9, 5), (9, 6), (9, 7), (8, 7), (7, 7), (7, 8), (7, 9), (7, 10)]\n",
      "Path under consideration: [(1, 1), (2, 1), (3, 1), (4, 1), (5, 1), (5, 2), (5, 3), (6, 3), (7, 3), (7, 4), (7, 5), (8, 5), (9, 5), (9, 6), (9, 7), (8, 7), (7, 7), (7, 8), (7, 9), (7, 10), (7, 11)]\n",
      "Path under consideration: [(1, 1), (2, 1), (3, 1), (4, 1), (5, 1), (5, 2), (5, 3), (6, 3), (7, 3), (7, 4), (7, 5), (8, 5), (9, 5), (9, 6), (9, 7), (8, 7), (7, 7), (7, 8), (7, 9), (7, 10), (7, 11), (6, 11)]\n",
      "Path under consideration: [(1, 1), (2, 1), (3, 1), (4, 1), (5, 1), (5, 2), (5, 3), (6, 3), (7, 3), (7, 4), (7, 5), (8, 5), (9, 5), (9, 6), (9, 7), (8, 7), (7, 7), (7, 8), (7, 9), (7, 10), (7, 11), (6, 11), (5, 11)]\n",
      "Path under consideration: [(1, 1), (2, 1), (3, 1), (4, 1), (5, 1), (5, 2), (5, 3), (6, 3), (7, 3), (7, 4), (7, 5), (8, 5), (9, 5), (9, 6), (9, 7), (8, 7), (7, 7), (7, 8), (7, 9), (7, 10), (7, 11), (6, 11), (5, 11), (4, 11)]\n",
      "Path under consideration: [(1, 1), (2, 1), (3, 1), (4, 1), (5, 1), (5, 2), (5, 3), (6, 3), (7, 3), (7, 4), (7, 5), (8, 5), (9, 5), (9, 6), (9, 7), (8, 7), (7, 7), (7, 8), (7, 9), (7, 10), (7, 11), (6, 11), (5, 11), (4, 11), (3, 11)]\n",
      "Path under consideration: [(1, 1), (2, 1), (3, 1), (4, 1), (5, 1), (5, 2), (5, 3), (6, 3), (7, 3), (7, 4), (7, 5), (8, 5), (9, 5), (9, 6), (9, 7), (8, 7), (7, 7), (7, 8), (7, 9), (7, 10), (7, 11), (6, 11), (5, 11), (4, 11), (3, 11), (3, 10)]\n",
      "Path under consideration: [(1, 1), (2, 1), (3, 1), (4, 1), (5, 1), (5, 2), (5, 3), (6, 3), (7, 3), (7, 4), (7, 5), (8, 5), (9, 5), (9, 6), (9, 7), (8, 7), (7, 7), (7, 8), (7, 9), (7, 10), (7, 11), (6, 11), (5, 11), (4, 11), (3, 11), (3, 10), (3, 9)]\n",
      "Path under consideration: [(1, 1), (2, 1), (3, 1), (4, 1), (5, 1), (5, 2), (5, 3), (6, 3), (7, 3), (7, 4), (7, 5), (8, 5), (9, 5), (9, 6), (9, 7), (8, 7), (7, 7), (7, 8), (7, 9), (7, 10), (7, 11), (6, 11), (5, 11), (4, 11), (3, 11), (3, 10), (3, 9), (2, 9)]\n",
      "Path under consideration: [(1, 1), (2, 1), (3, 1), (4, 1), (5, 1), (5, 2), (5, 3), (6, 3), (7, 3), (7, 4), (7, 5), (8, 5), (9, 5), (9, 6), (9, 7), (8, 7), (7, 7), (7, 8), (7, 9), (7, 10), (7, 11), (6, 11), (5, 11), (4, 11), (3, 11), (3, 10), (3, 9), (2, 9), (1, 9)]\n",
      "Path under consideration: [(1, 1), (2, 1), (3, 1), (4, 1), (5, 1), (5, 2), (5, 3), (6, 3), (7, 3), (7, 4), (7, 5), (8, 5), (9, 5), (9, 6), (9, 7), (8, 7), (7, 7), (7, 8), (7, 9), (7, 10), (7, 11), (6, 11), (5, 11), (4, 11), (3, 11), (3, 10), (3, 9), (2, 9), (1, 9), (1, 8)]\n",
      "Path under consideration: [(1, 1), (2, 1), (3, 1), (4, 1), (5, 1), (5, 2), (5, 3), (6, 3), (7, 3), (7, 4), (7, 5), (8, 5), (9, 5), (9, 6), (9, 7), (8, 7), (7, 7), (7, 8), (7, 9), (7, 10), (7, 11), (6, 11), (5, 11), (4, 11), (3, 11), (3, 10), (3, 9), (2, 9), (1, 9), (1, 8), (1, 7)]\n",
      "Path under consideration: [(1, 1), (2, 1), (3, 1), (4, 1), (5, 1), (5, 2), (5, 3), (6, 3), (7, 3), (7, 4), (7, 5), (8, 5), (9, 5), (9, 6), (9, 7), (8, 7), (7, 7), (7, 8), (7, 9), (7, 10), (7, 11), (6, 11), (5, 11), (4, 11), (3, 11), (3, 10), (3, 9), (2, 9), (1, 9), (1, 8), (1, 7), (1, 6)]\n",
      "Path under consideration: [(1, 1), (2, 1), (3, 1), (4, 1), (5, 1), (5, 2), (5, 3), (6, 3), (7, 3), (7, 4), (7, 5), (8, 5), (9, 5), (9, 6), (9, 7), (8, 7), (7, 7), (7, 8), (7, 9), (7, 10), (7, 11), (6, 11), (5, 11), (4, 11), (3, 11), (3, 10), (3, 9), (2, 9), (1, 9), (1, 8), (1, 7), (1, 6), (1, 5)]\n",
      "Path under consideration: [(1, 1), (2, 1), (3, 1), (4, 1), (5, 1), (5, 2), (5, 3), (6, 3), (7, 3), (7, 4), (7, 5), (8, 5), (9, 5), (9, 6), (9, 7), (8, 7), (7, 7), (7, 8), (7, 9), (7, 10), (7, 11), (6, 11), (5, 11), (4, 11), (3, 11), (3, 10), (3, 9), (2, 9), (1, 9), (1, 8), (1, 7), (2, 7)]\n",
      "Path under consideration: [(1, 1), (2, 1), (3, 1), (4, 1), (5, 1), (5, 2), (5, 3), (6, 3), (7, 3), (7, 4), (7, 5), (8, 5), (9, 5), (9, 6), (9, 7), (8, 7), (7, 7), (7, 8), (7, 9), (7, 10), (7, 11), (6, 11), (5, 11), (4, 11), (3, 11), (3, 10), (3, 9), (2, 9), (1, 9), (1, 8), (1, 7), (2, 7), (3, 7)]\n",
      "Path under consideration: [(1, 1), (2, 1), (3, 1), (4, 1), (5, 1), (5, 2), (5, 3), (6, 3), (7, 3), (7, 4), (7, 5), (8, 5), (9, 5), (9, 6), (9, 7), (8, 7), (7, 7), (7, 8), (7, 9), (7, 10), (7, 11), (6, 11), (5, 11), (5, 10)]\n",
      "Path under consideration: [(1, 1), (2, 1), (3, 1), (4, 1), (5, 1), (5, 2), (5, 3), (6, 3), (7, 3), (7, 4), (7, 5), (8, 5), (9, 5), (9, 6), (9, 7), (8, 7), (7, 7), (7, 8), (7, 9), (7, 10), (7, 11), (6, 11), (5, 11), (5, 10), (5, 9)]\n",
      "Path under consideration: [(1, 1), (2, 1), (3, 1), (4, 1), (5, 1), (5, 2), (5, 3), (6, 3), (7, 3), (7, 4), (7, 5), (8, 5), (9, 5), (9, 6), (9, 7), (8, 7), (7, 7), (7, 8), (7, 9), (7, 10), (7, 11), (7, 12)]\n",
      "Path under consideration: [(1, 1), (2, 1), (3, 1), (4, 1), (5, 1), (5, 2), (5, 3), (6, 3), (7, 3), (7, 4), (7, 5), (8, 5), (9, 5), (9, 6), (9, 7), (8, 7), (7, 7), (7, 8), (7, 9), (7, 10), (7, 11), (7, 12), (7, 13)]\n",
      "Path under consideration: [(1, 1), (2, 1), (3, 1), (4, 1), (5, 1), (5, 2), (5, 3), (6, 3), (7, 3), (7, 4), (7, 5), (8, 5), (9, 5), (9, 6), (9, 7), (8, 7), (7, 7), (7, 8), (7, 9), (7, 10), (7, 11), (7, 12), (7, 13), (6, 13)]\n",
      "Path under consideration: [(1, 1), (2, 1), (3, 1), (4, 1), (5, 1), (5, 2), (5, 3), (6, 3), (7, 3), (7, 4), (7, 5), (8, 5), (9, 5), (9, 6), (9, 7), (8, 7), (7, 7), (7, 8), (7, 9), (7, 10), (7, 11), (7, 12), (7, 13), (6, 13), (5, 13)]\n",
      "Path under consideration: [(1, 1), (2, 1), (3, 1), (4, 1), (5, 1), (5, 2), (5, 3), (6, 3), (7, 3), (7, 4), (7, 5), (8, 5), (9, 5), (9, 6), (9, 7), (8, 7), (7, 7), (7, 8), (7, 9), (7, 10), (7, 11), (7, 12), (7, 13), (6, 13), (5, 13), (4, 13)]\n",
      "Path under consideration: [(1, 1), (2, 1), (3, 1), (4, 1), (5, 1), (5, 2), (5, 3), (6, 3), (7, 3), (7, 4), (7, 5), (8, 5), (9, 5), (9, 6), (9, 7), (8, 7), (7, 7), (7, 8), (7, 9), (7, 10), (7, 11), (7, 12), (7, 13), (6, 13), (5, 13), (4, 13), (3, 13)]\n",
      "Path under consideration: [(1, 1), (2, 1), (3, 1), (4, 1), (5, 1), (5, 2), (5, 3), (6, 3), (7, 3), (7, 4), (7, 5), (8, 5), (9, 5), (9, 6), (9, 7), (8, 7), (7, 7), (7, 8), (7, 9), (7, 10), (7, 11), (7, 12), (7, 13), (6, 13), (5, 13), (4, 13), (3, 13), (2, 13)]\n",
      "Path under consideration: [(1, 1), (2, 1), (3, 1), (4, 1), (5, 1), (5, 2), (5, 3), (6, 3), (7, 3), (7, 4), (7, 5), (8, 5), (9, 5), (9, 6), (9, 7), (8, 7), (7, 7), (7, 8), (7, 9), (7, 10), (7, 11), (7, 12), (7, 13), (6, 13), (5, 13), (4, 13), (3, 13), (2, 13), (1, 13)]\n",
      "Path under consideration: [(1, 1), (2, 1), (3, 1), (4, 1), (5, 1), (5, 2), (5, 3), (6, 3), (7, 3), (7, 4), (7, 5), (8, 5), (9, 5), (9, 6), (9, 7), (8, 7), (7, 7), (7, 8), (7, 9), (7, 10), (7, 11), (7, 12), (7, 13), (6, 13), (5, 13), (4, 13), (3, 13), (2, 13), (1, 13), (1, 12)]\n",
      "Path under consideration: [(1, 1), (2, 1), (3, 1), (4, 1), (5, 1), (5, 2), (5, 3), (6, 3), (7, 3), (7, 4), (7, 5), (8, 5), (9, 5), (9, 6), (9, 7), (8, 7), (7, 7), (7, 8), (7, 9), (7, 10), (7, 11), (7, 12), (7, 13), (6, 13), (5, 13), (4, 13), (3, 13), (2, 13), (1, 13), (1, 12), (1, 11)]\n",
      "Path under consideration: [(1, 1), (2, 1), (3, 1), (4, 1), (5, 1), (5, 2), (5, 3), (6, 3), (7, 3), (7, 4), (7, 5), (8, 5), (9, 5), (9, 6), (9, 7), (8, 7), (7, 7), (7, 8), (7, 9), (7, 10), (7, 11), (7, 12), (7, 13), (8, 13)]\n",
      "Path under consideration: [(1, 1), (2, 1), (3, 1), (4, 1), (5, 1), (5, 2), (5, 3), (6, 3), (7, 3), (7, 4), (7, 5), (8, 5), (9, 5), (9, 6), (9, 7), (8, 7), (7, 7), (7, 8), (7, 9), (7, 10), (7, 11), (7, 12), (7, 13), (8, 13), (9, 13)]\n",
      "Path under consideration: [(1, 1), (2, 1), (3, 1), (4, 1), (5, 1), (5, 2), (5, 3), (6, 3), (7, 3), (7, 4), (7, 5), (8, 5), (9, 5), (9, 6), (9, 7), (8, 7), (7, 7), (7, 8), (7, 9), (7, 10), (7, 11), (7, 12), (7, 13), (8, 13), (9, 13), (9, 12)]\n",
      "Path under consideration: [(1, 1), (2, 1), (3, 1), (4, 1), (5, 1), (5, 2), (5, 3), (6, 3), (7, 3), (7, 4), (7, 5), (8, 5), (9, 5), (9, 6), (9, 7), (8, 7), (7, 7), (7, 8), (7, 9), (7, 10), (7, 11), (7, 12), (7, 13), (8, 13), (9, 13), (9, 12), (9, 11)]\n",
      "Path under consideration: [(1, 1), (2, 1), (3, 1), (4, 1), (5, 1), (5, 2), (5, 3), (6, 3), (7, 3), (7, 4), (7, 5), (8, 5), (9, 5), (9, 6), (9, 7), (8, 7), (7, 7), (7, 8), (7, 9), (7, 10), (7, 11), (7, 12), (7, 13), (8, 13), (9, 13), (9, 12), (9, 11), (9, 10)]\n",
      "Path under consideration: [(1, 1), (2, 1), (3, 1), (4, 1), (5, 1), (5, 2), (5, 3), (6, 3), (7, 3), (7, 4), (7, 5), (8, 5), (9, 5), (9, 6), (9, 7), (8, 7), (7, 7), (7, 8), (7, 9), (7, 10), (7, 11), (7, 12), (7, 13), (8, 13), (9, 13), (9, 12), (9, 11), (9, 10), (9, 9)]\n",
      "Path under consideration: [(1, 1), (2, 1), (3, 1), (4, 1), (5, 1), (5, 2), (5, 3), (6, 3), (7, 3), (7, 4), (7, 5), (8, 5), (9, 5), (9, 6), (9, 7), (8, 7), (7, 7), (7, 8), (7, 9), (7, 10), (7, 11), (7, 12), (7, 13), (8, 13), (9, 13), (10, 13)]\n",
      "Path under consideration: [(1, 1), (2, 1), (3, 1), (4, 1), (5, 1), (5, 2), (5, 3), (6, 3), (7, 3), (7, 4), (7, 5), (8, 5), (9, 5), (9, 6), (9, 7), (8, 7), (7, 7), (7, 8), (7, 9), (7, 10), (7, 11), (7, 12), (7, 13), (8, 13), (9, 13), (10, 13), (11, 13)]\n",
      "Path under consideration: [(1, 1), (2, 1), (3, 1), (4, 1), (5, 1), (5, 2), (5, 3), (6, 3), (7, 3), (7, 4), (7, 5), (8, 5), (9, 5), (9, 6), (9, 7), (8, 7), (7, 7), (7, 8), (7, 9), (7, 10), (7, 11), (7, 12), (7, 13), (8, 13), (9, 13), (10, 13), (11, 13), (11, 12)]\n",
      "Path under consideration: [(1, 1), (2, 1), (3, 1), (4, 1), (5, 1), (5, 2), (5, 3), (6, 3), (7, 3), (7, 4), (7, 5), (8, 5), (9, 5), (9, 6), (9, 7), (8, 7), (7, 7), (7, 8), (7, 9), (7, 10), (7, 11), (7, 12), (7, 13), (8, 13), (9, 13), (10, 13), (11, 13), (11, 12), (11, 11)]\n",
      "Path under consideration: [(1, 1), (2, 1), (3, 1), (4, 1), (5, 1), (5, 2), (5, 3), (6, 3), (7, 3), (7, 4), (7, 5), (8, 5), (9, 5), (9, 6), (9, 7), (8, 7), (7, 7), (7, 8), (7, 9), (7, 10), (7, 11), (7, 12), (7, 13), (8, 13), (9, 13), (10, 13), (11, 13), (11, 12), (11, 11), (11, 10)]\n",
      "Path under consideration: [(1, 1), (2, 1), (3, 1), (4, 1), (5, 1), (5, 2), (5, 3), (6, 3), (7, 3), (7, 4), (7, 5), (8, 5), (9, 5), (9, 6), (9, 7), (8, 7), (7, 7), (7, 8), (7, 9), (7, 10), (7, 11), (7, 12), (7, 13), (8, 13), (9, 13), (10, 13), (11, 13), (11, 12), (11, 11), (11, 10), (11, 9)]\n",
      "Path under consideration: [(1, 1), (2, 1), (3, 1), (4, 1), (5, 1), (5, 2), (5, 3), (6, 3), (7, 3), (7, 4), (7, 5), (8, 5), (9, 5), (9, 6), (9, 7), (8, 7), (7, 7), (7, 8), (7, 9), (7, 10), (7, 11), (7, 12), (7, 13), (8, 13), (9, 13), (10, 13), (11, 13), (11, 12), (11, 11), (12, 11)]\n",
      "Path under consideration: [(1, 1), (2, 1), (3, 1), (4, 1), (5, 1), (5, 2), (5, 3), (6, 3), (7, 3), (7, 4), (7, 5), (8, 5), (9, 5), (9, 6), (9, 7), (8, 7), (7, 7), (7, 8), (7, 9), (7, 10), (7, 11), (7, 12), (7, 13), (8, 13), (9, 13), (10, 13), (11, 13), (11, 12), (11, 11), (12, 11), (13, 11)]\n",
      "Path under consideration: [(1, 1), (2, 1), (3, 1), (4, 1), (5, 1), (5, 2), (5, 3), (6, 3), (7, 3), (7, 4), (7, 5), (8, 5), (9, 5), (9, 6), (9, 7), (8, 7), (7, 7), (7, 8), (7, 9), (7, 10), (7, 11), (7, 12), (7, 13), (8, 13), (9, 13), (10, 13), (11, 13), (11, 12), (11, 11), (12, 11), (13, 11), (13, 10)]\n",
      "Path under consideration: [(1, 1), (2, 1), (3, 1), (4, 1), (5, 1), (5, 2), (5, 3), (6, 3), (7, 3), (7, 4), (7, 5), (8, 5), (9, 5), (9, 6), (9, 7), (8, 7), (7, 7), (7, 8), (7, 9), (7, 10), (7, 11), (7, 12), (7, 13), (8, 13), (9, 13), (10, 13), (11, 13), (11, 12), (11, 11), (12, 11), (13, 11), (13, 10), (13, 9)]\n",
      "Path under consideration: [(1, 1), (2, 1), (3, 1), (4, 1), (5, 1), (5, 2), (5, 3), (6, 3), (7, 3), (7, 4), (7, 5), (8, 5), (9, 5), (9, 6), (9, 7), (8, 7), (7, 7), (7, 8), (7, 9), (7, 10), (7, 11), (7, 12), (7, 13), (8, 13), (9, 13), (10, 13), (11, 13), (12, 13)]\n",
      "Path under consideration: [(1, 1), (2, 1), (3, 1), (4, 1), (5, 1), (5, 2), (5, 3), (6, 3), (7, 3), (7, 4), (7, 5), (8, 5), (9, 5), (9, 6), (9, 7), (8, 7), (7, 7), (7, 8), (7, 9), (7, 10), (7, 11), (7, 12), (7, 13), (8, 13), (9, 13), (10, 13), (11, 13), (12, 13), (13, 13)]\n"
     ]
    },
    {
     "data": {
      "image/png": "[encoded data removed]",
      "text/plain": [
       "<IPython.core.display.Image object>"
      ]
     },
     "execution_count": 5,
     "metadata": {},
     "output_type": "execute_result"
    }
   ],
   "source": [
    "import maze\n",
    "import solvemaze\n",
    "import sys\n",
    "\n",
    "if len(sys.argv) > 1:\n",
    "    n = int(sys.argv[1])\n",
    "    if n % 2 != 1: \n",
    "        print(\"Integer n must be odd.\")\n",
    "        exit()\n",
    "else:\n",
    "    print(\"No command line argument detected. Defaulting to 11.\")\n",
    "    n = 11\n",
    "\n",
    "M = maze.PrimRandomMaze(n,n)\n",
    "path = solvemaze.solvemaze(M)\n",
    "\n",
    "M.save_svg(\"prob2.svg\",highlight=path)\n",
    "M.save_png(\"prob2.png\",scale=30,highlight=path)\n",
    "\n",
    "# Code below displays an image in a notebook cell.\n",
    "# Uncomment if you want to see the image in the notebook itself\n",
    "#from IPython.display import Image\n",
    "#Image(filename='prob2.png') "
   ]
  },
  {
   "cell_type": "markdown",
   "metadata": {},
   "source": [
    "### 3. Solution history\n",
    "\n",
    "Add a new function `solvemaze_history()` to `solvemaze.py` that works similarly to `solvemaze()` but which returns a list of every path considered (rather than just a single path that is a solution).  Thus the last item in the returned list will be a solution, if a solution exists.\n",
    "\n",
    "Then, write a script that uses `solvemaze_history` to do the following:\n",
    "* Take a command line argument, an odd integer `n`\n",
    "* Generate a random `n` by `n` maze\n",
    "* Solve the maze, keeping track of the history of paths considered\n",
    "* Save a sequence of output image files with names like `dfs001.png`, `dfs002.png`, etc., that highlight the paths considered by the solver\n",
    "\n",
    "Run this on a maze of moderate size (e.g. 9x9) and flip through the resulting images in your platform's image viewer to make a crude animation of the recursive process."
   ]
  },
  {
   "cell_type": "markdown",
   "metadata": {},
   "source": [
    "# Solution:\n",
    "\n",
    "### In `maze.py`:\n",
    "\n",
    "The code below is a modified version of `solvemaze()` and has relatively few changes. To directly view the changes between the original and modified versions, see the following link: **https://www.diffchecker.com/LbrKWcSL**"
   ]
  },
  {
   "cell_type": "code",
   "execution_count": null,
   "metadata": {},
   "outputs": [],
   "source": [
    "def solvemaze_history(M,path_list=None, solved=False):\n",
    "    \"\"\"\n",
    "    Functions similarly to `solvemaze`, but returns a list of all paths\n",
    "    considered throughout solving process. Uses additional arg `solved`\n",
    "    to track whether solution has been found.\n",
    "    \"\"\"\n",
    "    if path_list==None:\n",
    "        # no path specified, so start\n",
    "        # at M.start\n",
    "        path_list = [[M.start]] # Use a list of lists for path_list - one list for each path.\n",
    "    else:\n",
    "        print(\"Called with path={}\".format(path_list[-1]))\n",
    "    path = path_list[-1]\n",
    "    if path[-1]==M.goal:\n",
    "        # We've found a solution\n",
    "        print(\"SOLVED!\")\n",
    "        return path_list, True # Set the \"solved\" variable to True\n",
    "    # next steps to consider\n",
    "    # (may include retracing our steps)\n",
    "    steps = M.free_neighbors(*path[-1])\n",
    "    for s in steps:\n",
    "        if len(path)>=2 and s == path[-2]:\n",
    "            print(\"Not considering {}, as it would retrace our steps\".format(s))\n",
    "            continue\n",
    "        # Consider whether next step `s` leads to a solution\n",
    "        print(\"Considering next step {}\".format(s))\n",
    "        next_path = path + [s]\n",
    "        path_list.append(next_path)\n",
    "        soln, solved = solvemaze_history(M,path_list)\n",
    "        if solved:\n",
    "            # Some recursive call yielded a solution!\n",
    "            print(\"Hooray, considering {} worked!\".format(s))\n",
    "            return soln, True # # Set the \"solved\" variable to True\n",
    "        # if we reach this line, step `s` only led to dead ends\n",
    "    # if we reach this line, then no continuation of `path`\n",
    "    # leads to a solution, only dead ends.\n",
    "    # Still need to return path_list so we can visualize it later\n",
    "    print(\"Path {} leads only to dead ends\".format(path))\n",
    "    return path_list, False # Keep the \"solved\" variable as False."
   ]
  },
  {
   "cell_type": "markdown",
   "metadata": {},
   "source": [
    "### Calling the script:"
   ]
  },
  {
   "cell_type": "code",
   "execution_count": null,
   "metadata": {},
   "outputs": [],
   "source": [
    "import maze\n",
    "import solvemaze\n",
    "import sys\n",
    "\n",
    "if len(sys.argv) > 1:\n",
    "    n = int(sys.argv[1])\n",
    "    if n % 2 != 1: \n",
    "        print(\"Integer n must be odd.\")\n",
    "        exit()\n",
    "else:\n",
    "    print(\"No command line argument detected. Defaulting to 11.\")\n",
    "    n = 11\n",
    "\n",
    "M = maze.PrimRandomMaze(n,n)\n",
    "\n",
    "path_list, _ = solvemaze.solvemaze_history(M) # `_` represents a boolean variable we don't need anymore\n",
    "\n",
    "\n",
    "\n",
    "for i,p in enumerate(path_list):\n",
    "    M.save_png(\"dfs{:03d}.png\".format(i),scale=30,highlight=p) "
   ]
  },
  {
   "cell_type": "markdown",
   "metadata": {},
   "source": [
    "### Example output:\n",
    "\n",
    "The individual images were stitched together into a single animated gif using a third-party website so it would fit nicely here. For the worksheet problem itself, having the individual images is sufficent.\n",
    "\n",
    "![worksheet7q3animated](images/worksheet7q3animated.gif)"
   ]
  },
  {
   "cell_type": "markdown",
   "metadata": {
    "scrolled": true
   },
   "source": [
    "### 4. Simple custom mazes\n",
    "\n",
    "Instead of using the `PrimRandomMaze` class to generate a maze, write your own subclass of `Maze` that creates a maze in which `start` and `goal` are set, the border is fully blocked, and so that it is possible to get from `start` to `goal`.  The constructor should create some obstacles between the start and goal, to make the maze more interesting.\n",
    "\n",
    "For example, you might make a class that simply places a large rectangle of blocked squares in the middle of the maze, so that a solution must either go along the top and right, or bottom and left.  Or you might make some walls coming out of the sides, so that a solution needs to turn back and forth several times.\n",
    "\n",
    "The key characteristics you are looking for are:\n",
    "\n",
    "* Ability to generate a maze of a given size (specified as arguments to the constructor)\n",
    "* Certainty that the maze always has a solution\n",
    "\n",
    "It's OK for the constructor to decide a size is too small or is otherwise unacceptable, and raise an exception.  But to keep things interesting, it *should* allow arbitrarily large mazes.\n",
    "\n",
    "Write a script that instantiates your class and then uses `solvemaze` to find a solution.  Save the solved maze to a SVG file."
   ]
  },
  {
   "cell_type": "markdown",
   "metadata": {},
   "source": [
    "# Solution:\n",
    "\n",
    "### In `maze.py`:"
   ]
  },
  {
   "cell_type": "code",
   "execution_count": null,
   "metadata": {},
   "outputs": [],
   "source": [
    "class BlockMaze(Maze): # Create a new class that subclasses maze.maze\n",
    "    \"\"\"Maze that blocks out the center and border, so the solution is going around the perimeter.\"\"\"\n",
    "    def __init__(self, n=5):\n",
    "        \"\"\"Creates an nxn maze with the border and center blocked out, and start/goal in opposite corners.\"\"\"\n",
    "        if n<5:\n",
    "            raise ValueError(\"The maze must have size 5 at a minimum\")\n",
    "        super().__init__(n,n,start=(1,1),goal=(n-2,n-2))\n",
    "        \n",
    "        # block out the border using apply_border. No need to call super, since we don't override the base class function\n",
    "        self.apply_border()\n",
    "        \n",
    "        # block out the center square using set_blocked\n",
    "        for x in range(2,n-2):\n",
    "            for y in range(2,n-2):\n",
    "                self.set_blocked(x,y)\n",
    "                \n",
    "class CustomMaze(Maze): # Create a new class that subclasses maze.maze\n",
    "    \"\"\"Maze with obstacles specifically defined by user.\"\"\"\n",
    "    def __init__(self, n=5, obstacles = []):\n",
    "        \"\"\"\n",
    "        Takes arg `obstacles` as list of 2-tuples of the form (x,y) for integers `x` and `y`\n",
    "        Each entry (x,y) of `obstacles` specifies an obstacle at coordinates (x,y)\n",
    "        \"\"\"\n",
    "        if n<5:\n",
    "            raise ValueError(\"The maze must have size 5 at a minimum\")\n",
    "        super().__init__(n,n,start=(1,1),goal=(n-2,n-2))\n",
    "        self.obstacles = obstacles\n",
    "\n",
    "        # block out the border using apply_border. No need to call super, since we don't override the base class function\n",
    "        self.apply_border()\n",
    "        \n",
    "        # Block out any obstacles\n",
    "        for x in range(2,n-2):\n",
    "            for y in range(2,n-2):\n",
    "                if (x,y) in self.obstacles:\n",
    "                    self.set_blocked(x,y)"
   ]
  },
  {
   "cell_type": "markdown",
   "metadata": {},
   "source": [
    "### An example custom maze:"
   ]
  },
  {
   "cell_type": "code",
   "execution_count": null,
   "metadata": {},
   "outputs": [],
   "source": [
    "import maze\n",
    "import solvemaze\n",
    "\n",
    "M = maze.CustomMaze(n, obstacles=[ (3,2), (3,3), (3,4), (3,5), (3,6), (3,7), (3,8), (3,9), (3,10),\n",
    "                                                        (4,5),\n",
    "                                   (5,2), (5,3), (5,4), (5,5), (5,6), (5,7), (5,8), (5,9), (5,10),\n",
    "                                   (7,2),        (7,4), (7,5), (7,6), (7,7), (7,8), (7,9), (7,10)])\n",
    "\n",
    "M.save_png(\"worksheet7q5.png\")"
   ]
  },
  {
   "cell_type": "markdown",
   "metadata": {},
   "source": [
    "![worksheet7q5](images/worksheet7q5.png)"
   ]
  },
  {
   "cell_type": "markdown",
   "metadata": {},
   "source": [
    "## II. Sorting"
   ]
  },
  {
   "cell_type": "markdown",
   "metadata": {},
   "source": [
    "### 5. Merge sorted stacks\n",
    "\n",
    "Recall that a *stack* is a data structure that mimics a physical stack of items, where the only available operations are to remove the top item (`pop`) or add a new item to the top (`push`).\n",
    "\n",
    "In Python, you can simulate a stack using a list by limiting yourself to only calling the methods\n",
    "* `.pop()` for the stack pop operation, and\n",
    "* `.append(x)` for the stack push operation\n",
    "In this way, the end of the list becomes the top of the stack.\n",
    "\n",
    "In mergesort, the main step was to create a function that can merge two sorted lists.  We made a version of this that uses indexing by integers.  However, the algorithm for merging two sorted lists only ever needs to look at the \"next\" item from each of the lists, meaning it can also be implemented using stacks.\n",
    "\n",
    "Make a function `merge_sorted_stacks(A,B,S)` that takes two stacks `A` and `B` whose elements are in sorted order, with the top of each stack being the smallest element, and an initially empty stack `S`.  The function should merge the two stacks into a single reverse-sorted stack `S`.  It can destroy `A` and `B` as it does so."
   ]
  },
  {
   "cell_type": "markdown",
   "metadata": {},
   "source": [
    "# Solution"
   ]
  },
  {
   "cell_type": "code",
   "execution_count": 31,
   "metadata": {},
   "outputs": [],
   "source": [
    "def merge_sorted_stacks(A,B,S=[]):\n",
    "    '''Takes two sorted stacks A & B. Returns merged sorted stack'''\n",
    "    A_next = A.pop() # Get first item from each list\n",
    "    B_next = B.pop()\n",
    "    \n",
    "    # Take items from A and B until one list is empty\n",
    "    while True:\n",
    "        \n",
    "        if A_next <= B_next:\n",
    "            S.append(A_next)\n",
    "            try:\n",
    "                A_next = A.pop()\n",
    "            except IndexError: # Occurs if A is empty and nothing can be popped\n",
    "                S.append(B_next)\n",
    "                S.extend(B) # We are finished with A, so put the rest of B into S\n",
    "                break\n",
    "                \n",
    "        else:\n",
    "            S.append(B_next)\n",
    "            try:\n",
    "                B_next = B.pop()\n",
    "            except IndexError: # Occurs if B is empty and nothing can be popped\n",
    "                S.append(A_next)\n",
    "                S.extend(A) # We are finished with B, so put the rest of A into S\n",
    "                break\n",
    "    return S"
   ]
  },
  {
   "cell_type": "code",
   "execution_count": 32,
   "metadata": {},
   "outputs": [
    {
     "data": {
      "text/plain": [
       "[0, 1, 2, 3, 3, 4, 5, 6]"
      ]
     },
     "execution_count": 32,
     "metadata": {},
     "output_type": "execute_result"
    }
   ],
   "source": [
    "# Example with numbers\n",
    "# A list of numbers is a sorted stack if it is in descending order\n",
    "# meaning the top of stack (last element of the list) is the smallest.\n",
    "A = [5,3,1]\n",
    "B = [6,4,3,2,0]\n",
    "S = []\n",
    "merge_sorted_stacks(A,B,S)\n",
    "S  # will be a reverse sorted stack: top will be largest element"
   ]
  },
  {
   "cell_type": "code",
   "execution_count": 33,
   "metadata": {},
   "outputs": [
    {
     "data": {
      "text/plain": [
       "['aardvark', 'asp', 'kangaroo', 'newt', 'zebra']"
      ]
     },
     "execution_count": 33,
     "metadata": {},
     "output_type": "execute_result"
    }
   ],
   "source": [
    "# Example with strings\n",
    "# A list of strings is a sorted stack if it is in reverse alphabetical order\n",
    "# meaning the top of stack (last element of the list) is the earliest in \n",
    "# the Python string order\n",
    "S = []\n",
    "merge_sorted_stacks(\n",
    "    [\"zebra\",\"kangaroo\",\"aardvark\"],\n",
    "    [\"newt\",\"asp\"],\n",
    "    S)\n",
    "S"
   ]
  },
  {
   "cell_type": "markdown",
   "metadata": {},
   "source": [
    "### 6. Mergesort and quicksort timing comparison\n",
    "\n",
    "Which of the sorthing algorithms we implemented in lecture (contained in [mergesort.py](https://github.com/emilydumas/mcs275spring2021/blob/master/samplecode/recursion/mergesort.py) and [quicksort.py](https://github.com/emilydumas/mcs275spring2021/blob/master/samplecode/recursion/quicksort.py)) is faster for long lists of integers?  What about short lists?\n",
    "\n",
    "To investigate this, make a program that does the following things for N = 10, 100, 1_000, 10_000, 100_000, and 1_000_000:\n",
    "\n",
    "* Make a list `L` of N random integers between `1` and `10*N`\n",
    "* Make a copy of that list, e.g. with `L2 = [ x for x in L ]`.  Note that `L2 = L` will **not** work, because that would simply make `L` and `L2` two names that refer to the same list.\n",
    "* Sort `L` with quicksort, making note of how long it takes\n",
    "* Sort `L2` with mergesort, making note of how long it takes\n",
    "* Check that `L` and `L2` are now equal, raising an exception if they are not.  (This isn't strictly necessary, but it adds a consistency check that would probably detect if either sorting algorithm was broken.)\n",
    "\n",
    "Then, display the results as a table.  You can use whatever formatting you think would be most helpful, e.g.\n",
    "```\n",
    "N=1000  t_merge=0.1219s t_quick=0.4158s\n",
    "```\n",
    "\n",
    "What does this show?  Is one clearly faster?  By what ratio?  Does the ratio change very much with N?"
   ]
  },
  {
   "cell_type": "markdown",
   "metadata": {},
   "source": [
    "# Solution"
   ]
  },
  {
   "cell_type": "code",
   "execution_count": 1,
   "metadata": {},
   "outputs": [
    {
     "name": "stdout",
     "output_type": "stream",
     "text": [
      "N = 10\n",
      "Quicksort time: 0.0 seconds\n",
      "Mergesort time: 0.0 seconds\n",
      "\n",
      "N = 100\n",
      "Quicksort time: 0.0 seconds\n",
      "Mergesort time: 0.0 seconds\n",
      "\n",
      "N = 1000\n",
      "Quicksort time: 0.00995016098022461 seconds\n",
      "Mergesort time: 0.005982398986816406 seconds\n",
      "\n",
      "N = 10000\n",
      "Quicksort time: 0.057843685150146484 seconds\n",
      "Mergesort time: 0.05086350440979004 seconds\n",
      "\n",
      "N = 100000\n",
      "Quicksort time: 0.9025774002075195 seconds\n",
      "Mergesort time: 1.3035147190093994 seconds\n",
      "\n"
     ]
    }
   ],
   "source": [
    "import random\n",
    "import time\n",
    "import sorts\n",
    "\n",
    "for N in [10, 100, 1_000, 10_000, 100_000]: # 1_000_000 omitted for stability\n",
    "    L = [random.randint(0,10*N) for i in range(N)]\n",
    "    L2 = [x for x in L] # Make a copy of L\n",
    "    \n",
    "    quicksort_start = time.time()\n",
    "    sorts.quicksort(L)\n",
    "    quicksort_end = time.time()\n",
    "    \n",
    "    mergesort_start = time.time()\n",
    "    L2 = sorts.mergesort(L2)\n",
    "    mergesort_end = time.time()\n",
    "    \n",
    "    print(\"N = {}\".format(N))\n",
    "    print(\"Quicksort time: {} seconds\".format(quicksort_end - quicksort_start))\n",
    "    print(\"Mergesort time: {} seconds\".format(mergesort_end - mergesort_start))\n",
    "    print(\"\")\n",
    "    \n",
    "    assert L == L2"
   ]
  },
  {
   "cell_type": "markdown",
   "metadata": {},
   "source": [
    "### 7. Quicksort with middle element pivot\n",
    "\n",
    "The quicksort implementation we discussed in lecture uses the last element of the list as a pivot.  However, by swapping some other element of the list to the end just before calling `partition`, it is possible to use the same `partition` function while selecting a different element as the pivot.\n",
    "\n",
    "Make a new version of `quicksort` that uses the element closest to the middle of the list as possible as the pivot.  (Of course, it is operating on a slice of the list between `start` and `end`, so it will need to look at the middle of that *part*.)\n",
    "\n",
    "Test your modified version of quicksort to confirm that it works properly.\n",
    "\n",
    "Compare the running time of your modified quicksort versus the one from lecture for a list that is already sorted.  Is one of them noticeably faster?"
   ]
  },
  {
   "cell_type": "code",
   "execution_count": null,
   "metadata": {},
   "outputs": [],
   "source": [
    "def quicksort(L,start=0,end=None):\n",
    "    \"\"\"Reorder elements of L so that L[start:end] is sorted.\"\"\"\n",
    "    if end == None:\n",
    "        end = len(L)\n",
    "\n",
    "    if end-start <= 1:\n",
    "        # zero or one-element lists are always sorted\n",
    "        return\n",
    "\n",
    "    # Arrange it so that L[m] is a pivot:\n",
    "    # Everything less than the pivot is in\n",
    "    # L[start:m], and everything greater than\n",
    "    # or equal to the pivot is in L[m+1:end]\n",
    "    m = partition(L,start,end)\n",
    "    \n",
    "    # Recursive calls to quicksort will sort\n",
    "    # the sublists to either side of the pivot.\n",
    "    quicksort(L,start,m)\n",
    "    quicksort(L,m+1,end)\n",
    "\n",
    "def partition(L,start=0,end=None):\n",
    "    \"\"\"Look at L[start:end].  Take the middle element as a pivot.\n",
    "    Move elements around so that any value less than the pivot \n",
    "    appears before it, and any element greater than or equal to\n",
    "    the pivot appears after it.  L is modified in place.  The\n",
    "    final location of the pivot is returned.\"\"\"\n",
    "\n",
    "    if end == None:\n",
    "        end = len(L)\n",
    "    \n",
    "    # Move the middle element of L to the end by swapping it with the last element.\n",
    "    # Then the rest of the logic will use the \"original\" middle element as the pivot, and return its index.\n",
    "    middle = (start + end)//2\n",
    "    L[end-1],L[middle] = L[middle],L[end-1]\n",
    "\n",
    "    pivot = L[end-1]\n",
    "    dst = start\n",
    "    for src in range(start,end):\n",
    "        if L[src] < pivot:\n",
    "            L[src], L[dst] = L[dst], L[src]\n",
    "            dst += 1\n",
    "\n",
    "    L[end-1], L[dst] = L[dst], L[end-1]\n",
    "    return dst"
   ]
  }
 ],
 "metadata": {
  "kernelspec": {
   "display_name": "Python 3 (ipykernel)",
   "language": "python",
   "name": "python3"
  },
  "language_info": {
   "codemirror_mode": {
    "name": "ipython",
    "version": 3
   },
   "file_extension": ".py",
   "mimetype": "text/x-python",
   "name": "python",
   "nbconvert_exporter": "python",
   "pygments_lexer": "ipython3",
   "version": "3.9.6"
  }
 },
 "nbformat": 4,
 "nbformat_minor": 4
}
