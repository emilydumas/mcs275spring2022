{
 "cells": [
  {
   "cell_type": "markdown",
   "id": "0902e8a8",
   "metadata": {},
   "source": [
    "# In-lecture examples from Lecture 22 (Wed 2 Mar)\n",
    "\n",
    "These are not cleaned or edited.  The lecture slides and example programs (if any) contain more polished code."
   ]
  },
  {
   "cell_type": "markdown",
   "id": "3f169caf",
   "metadata": {},
   "source": [
    "## Set"
   ]
  },
  {
   "cell_type": "code",
   "execution_count": 2,
   "id": "a66670f4",
   "metadata": {},
   "outputs": [
    {
     "data": {
      "text/plain": [
       "[3, 'epsilon', True, 8.19, 3, 3]"
      ]
     },
     "execution_count": 2,
     "metadata": {},
     "output_type": "execute_result"
    }
   ],
   "source": [
    "[3, \"epsilon\", True, 8.19, 3, 3]  # I'm a list LITERAL"
   ]
  },
  {
   "cell_type": "code",
   "execution_count": 4,
   "id": "cd1e666f",
   "metadata": {},
   "outputs": [],
   "source": [
    "grab_bag = {3, \"epsilon\", True, 8.19, 3, 3} # Set literal"
   ]
  },
  {
   "cell_type": "code",
   "execution_count": 5,
   "id": "9b397552",
   "metadata": {},
   "outputs": [
    {
     "data": {
      "text/plain": [
       "True"
      ]
     },
     "execution_count": 5,
     "metadata": {},
     "output_type": "execute_result"
    }
   ],
   "source": [
    "\"epsilon\" in grab_bag"
   ]
  },
  {
   "cell_type": "code",
   "execution_count": 7,
   "id": "5a571ee0",
   "metadata": {},
   "outputs": [
    {
     "data": {
      "text/plain": [
       "False"
      ]
     },
     "execution_count": 7,
     "metadata": {},
     "output_type": "execute_result"
    }
   ],
   "source": [
    "\"solution to climate change\" in grab_bag"
   ]
  },
  {
   "cell_type": "code",
   "execution_count": 6,
   "id": "d6311ad3",
   "metadata": {},
   "outputs": [
    {
     "data": {
      "text/plain": [
       "4"
      ]
     },
     "execution_count": 6,
     "metadata": {},
     "output_type": "execute_result"
    }
   ],
   "source": [
    "len(grab_bag)"
   ]
  },
  {
   "cell_type": "code",
   "execution_count": 9,
   "id": "314c8d2b",
   "metadata": {},
   "outputs": [
    {
     "name": "stdout",
     "output_type": "stream",
     "text": [
      "8.19\n",
      "True\n",
      "3\n",
      "epsilon\n"
     ]
    }
   ],
   "source": [
    "for thing in grab_bag: # visit each item in a set once\n",
    "    print(thing)\n",
    "    # DON'T MODIFY A SET IN A LOOP THAT IS\n",
    "    # ITERATING OVER IT"
   ]
  },
  {
   "cell_type": "code",
   "execution_count": 10,
   "id": "7a3bcad8",
   "metadata": {},
   "outputs": [],
   "source": [
    "grab_bag.add(\"6oz of coffee\")  # sets are mutable!"
   ]
  },
  {
   "cell_type": "code",
   "execution_count": 11,
   "id": "438e6db5",
   "metadata": {},
   "outputs": [
    {
     "data": {
      "text/plain": [
       "{3, '6oz of coffee', 8.19, True, 'epsilon'}"
      ]
     },
     "execution_count": 11,
     "metadata": {},
     "output_type": "execute_result"
    }
   ],
   "source": [
    "grab_bag"
   ]
  },
  {
   "cell_type": "code",
   "execution_count": 12,
   "id": "0be96de5",
   "metadata": {},
   "outputs": [],
   "source": [
    "grab_bag.discard(\"epsilon\")\n",
    "grab_bag.discard(19)"
   ]
  },
  {
   "cell_type": "code",
   "execution_count": 13,
   "id": "35ab6321",
   "metadata": {},
   "outputs": [
    {
     "data": {
      "text/plain": [
       "{3, '6oz of coffee', 8.19, True}"
      ]
     },
     "execution_count": 13,
     "metadata": {},
     "output_type": "execute_result"
    }
   ],
   "source": [
    "grab_bag"
   ]
  },
  {
   "cell_type": "code",
   "execution_count": 14,
   "id": "feeb66c5",
   "metadata": {},
   "outputs": [
    {
     "ename": "KeyError",
     "evalue": "728",
     "output_type": "error",
     "traceback": [
      "\u001b[1;31m---------------------------------------------------------------------------\u001b[0m",
      "\u001b[1;31mKeyError\u001b[0m                                  Traceback (most recent call last)",
      "Input \u001b[1;32mIn [14]\u001b[0m, in \u001b[0;36m<module>\u001b[1;34m\u001b[0m\n\u001b[0;32m      1\u001b[0m grab_bag\u001b[38;5;241m.\u001b[39mremove(\u001b[38;5;28;01mTrue\u001b[39;00m)\n\u001b[1;32m----> 2\u001b[0m \u001b[43mgrab_bag\u001b[49m\u001b[38;5;241;43m.\u001b[39;49m\u001b[43mremove\u001b[49m\u001b[43m(\u001b[49m\u001b[38;5;241;43m728\u001b[39;49m\u001b[43m)\u001b[49m\n",
      "\u001b[1;31mKeyError\u001b[0m: 728"
     ]
    }
   ],
   "source": [
    "grab_bag.remove(True)\n",
    "grab_bag.remove(728)"
   ]
  },
  {
   "cell_type": "code",
   "execution_count": 15,
   "id": "c54d3bbf",
   "metadata": {},
   "outputs": [
    {
     "data": {
      "text/plain": [
       "{3, '6oz of coffee', 8.19}"
      ]
     },
     "execution_count": 15,
     "metadata": {},
     "output_type": "execute_result"
    }
   ],
   "source": [
    "grab_bag"
   ]
  },
  {
   "cell_type": "code",
   "execution_count": 16,
   "id": "25666edb",
   "metadata": {},
   "outputs": [
    {
     "data": {
      "text/plain": [
       "3"
      ]
     },
     "execution_count": 16,
     "metadata": {},
     "output_type": "execute_result"
    }
   ],
   "source": [
    "grab_bag.pop()"
   ]
  },
  {
   "cell_type": "code",
   "execution_count": 17,
   "id": "fa2ec2d8",
   "metadata": {},
   "outputs": [
    {
     "data": {
      "text/plain": [
       "{'6oz of coffee', 8.19}"
      ]
     },
     "execution_count": 17,
     "metadata": {},
     "output_type": "execute_result"
    }
   ],
   "source": [
    "grab_bag"
   ]
  },
  {
   "cell_type": "code",
   "execution_count": 18,
   "id": "fa79dc23",
   "metadata": {},
   "outputs": [],
   "source": [
    "# Making a copy of a set\n",
    "S = { 2, 3, 5, 7, 11, 13 }\n",
    "T = set(S) # make me a new set, populate with items from S"
   ]
  },
  {
   "cell_type": "code",
   "execution_count": 19,
   "id": "de1e65d8",
   "metadata": {},
   "outputs": [
    {
     "data": {
      "text/plain": [
       "{2, 3, 5, 7, 11, 13}"
      ]
     },
     "execution_count": 19,
     "metadata": {},
     "output_type": "execute_result"
    }
   ],
   "source": [
    "S"
   ]
  },
  {
   "cell_type": "code",
   "execution_count": 20,
   "id": "57f7219e",
   "metadata": {},
   "outputs": [
    {
     "data": {
      "text/plain": [
       "{2, 3, 5, 7, 11, 13}"
      ]
     },
     "execution_count": 20,
     "metadata": {},
     "output_type": "execute_result"
    }
   ],
   "source": [
    "T"
   ]
  },
  {
   "cell_type": "code",
   "execution_count": 21,
   "id": "478ed331",
   "metadata": {},
   "outputs": [
    {
     "name": "stdout",
     "output_type": "stream",
     "text": [
      "S = {2, 3, 5, 7, 11, 13}\n",
      "T = {3, 5, 7, 11, 13}\n"
     ]
    }
   ],
   "source": [
    "T.pop()\n",
    "print(\"S =\",S)\n",
    "print(\"T =\",T)"
   ]
  },
  {
   "cell_type": "code",
   "execution_count": 22,
   "id": "c10dde1f",
   "metadata": {},
   "outputs": [
    {
     "data": {
      "text/plain": [
       "{2, 3, 5, 7, 11, 13}"
      ]
     },
     "execution_count": 22,
     "metadata": {},
     "output_type": "execute_result"
    }
   ],
   "source": [
    "{ x for x in S }  # Set comprehension that makes a copy of S"
   ]
  },
  {
   "cell_type": "code",
   "execution_count": 23,
   "id": "f7e85eb7",
   "metadata": {},
   "outputs": [
    {
     "data": {
      "text/plain": [
       "{4, 9, 25, 49, 121, 169}"
      ]
     },
     "execution_count": 23,
     "metadata": {},
     "output_type": "execute_result"
    }
   ],
   "source": [
    "{ x**2 for x in S }"
   ]
  },
  {
   "cell_type": "code",
   "execution_count": 25,
   "id": "d0ebb2c3",
   "metadata": {},
   "outputs": [],
   "source": [
    "mult3=set( [ 3*x for x in range(20)] )"
   ]
  },
  {
   "cell_type": "code",
   "execution_count": 26,
   "id": "e8a96d77",
   "metadata": {},
   "outputs": [],
   "source": [
    "mult5=set( [ 5*x for x in range(12)])"
   ]
  },
  {
   "cell_type": "code",
   "execution_count": 27,
   "id": "f1422498",
   "metadata": {},
   "outputs": [
    {
     "data": {
      "text/plain": [
       "{0, 3, 6, 9, 12, 15, 18, 21, 24, 27, 30, 33, 36, 39, 42, 45, 48, 51, 54, 57}"
      ]
     },
     "execution_count": 27,
     "metadata": {},
     "output_type": "execute_result"
    }
   ],
   "source": [
    "mult3"
   ]
  },
  {
   "cell_type": "code",
   "execution_count": 28,
   "id": "ea243cc8",
   "metadata": {},
   "outputs": [
    {
     "data": {
      "text/plain": [
       "{0, 5, 10, 15, 20, 25, 30, 35, 40, 45, 50, 55}"
      ]
     },
     "execution_count": 28,
     "metadata": {},
     "output_type": "execute_result"
    }
   ],
   "source": [
    "mult5"
   ]
  },
  {
   "cell_type": "code",
   "execution_count": 29,
   "id": "e4635fea",
   "metadata": {},
   "outputs": [
    {
     "data": {
      "text/plain": [
       "{0,\n",
       " 3,\n",
       " 5,\n",
       " 6,\n",
       " 9,\n",
       " 10,\n",
       " 12,\n",
       " 15,\n",
       " 18,\n",
       " 20,\n",
       " 21,\n",
       " 24,\n",
       " 25,\n",
       " 27,\n",
       " 30,\n",
       " 33,\n",
       " 35,\n",
       " 36,\n",
       " 39,\n",
       " 40,\n",
       " 42,\n",
       " 45,\n",
       " 48,\n",
       " 50,\n",
       " 51,\n",
       " 54,\n",
       " 55,\n",
       " 57}"
      ]
     },
     "execution_count": 29,
     "metadata": {},
     "output_type": "execute_result"
    }
   ],
   "source": [
    "mult3 | mult5"
   ]
  },
  {
   "cell_type": "code",
   "execution_count": 30,
   "id": "96850ab1",
   "metadata": {},
   "outputs": [
    {
     "data": {
      "text/plain": [
       "{0, 15, 30, 45}"
      ]
     },
     "execution_count": 30,
     "metadata": {},
     "output_type": "execute_result"
    }
   ],
   "source": [
    "mult3 & mult5"
   ]
  },
  {
   "cell_type": "code",
   "execution_count": 31,
   "id": "0a2b2c55",
   "metadata": {},
   "outputs": [
    {
     "data": {
      "text/plain": [
       "{0, 15, 30, 45}"
      ]
     },
     "execution_count": 31,
     "metadata": {},
     "output_type": "execute_result"
    }
   ],
   "source": [
    "mult3.intersection(mult5)"
   ]
  },
  {
   "cell_type": "code",
   "execution_count": 32,
   "id": "94a8b062",
   "metadata": {},
   "outputs": [
    {
     "data": {
      "text/plain": [
       "{0, 3, 6, 9, 12, 15, 18, 21, 24, 27, 30, 33, 36, 39, 42, 45, 48, 51, 54, 57}"
      ]
     },
     "execution_count": 32,
     "metadata": {},
     "output_type": "execute_result"
    }
   ],
   "source": [
    "mult3"
   ]
  },
  {
   "cell_type": "code",
   "execution_count": 33,
   "id": "3c912f83",
   "metadata": {},
   "outputs": [],
   "source": [
    "S = { x for x in mult3}"
   ]
  },
  {
   "cell_type": "code",
   "execution_count": 34,
   "id": "3a8586b7",
   "metadata": {},
   "outputs": [
    {
     "data": {
      "text/plain": [
       "{0, 3, 6, 9, 12, 15, 18, 21, 24, 27, 30, 33, 36, 39, 42, 45, 48, 51, 54, 57}"
      ]
     },
     "execution_count": 34,
     "metadata": {},
     "output_type": "execute_result"
    }
   ],
   "source": [
    "S"
   ]
  },
  {
   "cell_type": "code",
   "execution_count": 35,
   "id": "04b3d114",
   "metadata": {},
   "outputs": [],
   "source": [
    "S.update( [1,2,3,4,5,891000] )"
   ]
  },
  {
   "cell_type": "code",
   "execution_count": 36,
   "id": "fc2c57fc",
   "metadata": {},
   "outputs": [
    {
     "data": {
      "text/plain": [
       "{0,\n",
       " 1,\n",
       " 2,\n",
       " 3,\n",
       " 4,\n",
       " 5,\n",
       " 6,\n",
       " 9,\n",
       " 12,\n",
       " 15,\n",
       " 18,\n",
       " 21,\n",
       " 24,\n",
       " 27,\n",
       " 30,\n",
       " 33,\n",
       " 36,\n",
       " 39,\n",
       " 42,\n",
       " 45,\n",
       " 48,\n",
       " 51,\n",
       " 54,\n",
       " 57,\n",
       " 891000}"
      ]
     },
     "execution_count": 36,
     "metadata": {},
     "output_type": "execute_result"
    }
   ],
   "source": [
    "S"
   ]
  },
  {
   "cell_type": "markdown",
   "id": "7f3a23bc",
   "metadata": {},
   "source": [
    "MCS 260 Fall 2021 example of a program to count words in a text file and print statistics:\n",
    "\n",
    "[https://github.com/emilydumas/mcs260fall2021/blob/main/samplecode/wordstats3file.py](https://github.com/emilydumas/mcs260fall2021/blob/main/samplecode/wordstats3file.py)"
   ]
  },
  {
   "cell_type": "code",
   "execution_count": null,
   "id": "631a7e20",
   "metadata": {},
   "outputs": [],
   "source": []
  },
  {
   "cell_type": "markdown",
   "id": "7b296cfe",
   "metadata": {},
   "source": [
    "## Defaultdict"
   ]
  },
  {
   "cell_type": "code",
   "execution_count": 39,
   "id": "93151c6d",
   "metadata": {},
   "outputs": [],
   "source": [
    "s = \"I don't see the difference between this and the other solution\"\n",
    "\n",
    "hist = dict()\n",
    "for c in s:\n",
    "    if c in hist:\n",
    "        # we have seen it\n",
    "        # increment the count by 1\n",
    "        hist[c] += 1\n",
    "    else:\n",
    "        # we haven't seen it\n",
    "        # so this is the first time (set to 1)\n",
    "        hist[c] = 1\n"
   ]
  },
  {
   "cell_type": "code",
   "execution_count": 41,
   "id": "c2ee24d5",
   "metadata": {},
   "outputs": [
    {
     "data": {
      "text/plain": [
       "{'I': 1,\n",
       " ' ': 10,\n",
       " 'd': 3,\n",
       " 'o': 4,\n",
       " 'n': 5,\n",
       " \"'\": 1,\n",
       " 't': 7,\n",
       " 's': 3,\n",
       " 'e': 11,\n",
       " 'h': 4,\n",
       " 'i': 3,\n",
       " 'f': 2,\n",
       " 'r': 2,\n",
       " 'c': 1,\n",
       " 'b': 1,\n",
       " 'w': 1,\n",
       " 'a': 1,\n",
       " 'l': 1,\n",
       " 'u': 1}"
      ]
     },
     "execution_count": 41,
     "metadata": {},
     "output_type": "execute_result"
    }
   ],
   "source": [
    "hist"
   ]
  },
  {
   "cell_type": "code",
   "execution_count": 42,
   "id": "fa1c3331",
   "metadata": {},
   "outputs": [
    {
     "data": {
      "text/plain": [
       "456"
      ]
     },
     "execution_count": 42,
     "metadata": {},
     "output_type": "execute_result"
    }
   ],
   "source": [
    "int(\"456\")"
   ]
  },
  {
   "cell_type": "code",
   "execution_count": 43,
   "id": "ca7fce04",
   "metadata": {},
   "outputs": [
    {
     "data": {
      "text/plain": [
       "1"
      ]
     },
     "execution_count": 43,
     "metadata": {},
     "output_type": "execute_result"
    }
   ],
   "source": [
    "int(1.25)"
   ]
  },
  {
   "cell_type": "code",
   "execution_count": 44,
   "id": "d2cb93fa",
   "metadata": {},
   "outputs": [
    {
     "data": {
      "text/plain": [
       "0"
      ]
     },
     "execution_count": 44,
     "metadata": {},
     "output_type": "execute_result"
    }
   ],
   "source": [
    "int()"
   ]
  },
  {
   "cell_type": "code",
   "execution_count": 45,
   "id": "d8797c94",
   "metadata": {},
   "outputs": [],
   "source": [
    "from collections import defaultdict\n",
    "\n",
    "hist = defaultdict(int)  # If we need a value for a key that's missing, call int()\n",
    "for c in s:\n",
    "    hist[c] += 1"
   ]
  },
  {
   "cell_type": "code",
   "execution_count": 46,
   "id": "86fc106c",
   "metadata": {},
   "outputs": [
    {
     "data": {
      "text/plain": [
       "defaultdict(int,\n",
       "            {'I': 1,\n",
       "             ' ': 10,\n",
       "             'd': 3,\n",
       "             'o': 4,\n",
       "             'n': 5,\n",
       "             \"'\": 1,\n",
       "             't': 7,\n",
       "             's': 3,\n",
       "             'e': 11,\n",
       "             'h': 4,\n",
       "             'i': 3,\n",
       "             'f': 2,\n",
       "             'r': 2,\n",
       "             'c': 1,\n",
       "             'b': 1,\n",
       "             'w': 1,\n",
       "             'a': 1,\n",
       "             'l': 1,\n",
       "             'u': 1})"
      ]
     },
     "execution_count": 46,
     "metadata": {},
     "output_type": "execute_result"
    }
   ],
   "source": [
    "hist"
   ]
  },
  {
   "cell_type": "code",
   "execution_count": 47,
   "id": "cdb99e2a",
   "metadata": {},
   "outputs": [],
   "source": [
    "animals = defaultdict(list)"
   ]
  },
  {
   "cell_type": "code",
   "execution_count": 48,
   "id": "f019d06a",
   "metadata": {},
   "outputs": [
    {
     "data": {
      "text/plain": [
       "defaultdict(list, {})"
      ]
     },
     "execution_count": 48,
     "metadata": {},
     "output_type": "execute_result"
    }
   ],
   "source": [
    "animals"
   ]
  },
  {
   "cell_type": "code",
   "execution_count": 49,
   "id": "8b8eec62",
   "metadata": {},
   "outputs": [
    {
     "data": {
      "text/plain": [
       "[]"
      ]
     },
     "execution_count": 49,
     "metadata": {},
     "output_type": "execute_result"
    }
   ],
   "source": [
    "animals[\"mammals\"]"
   ]
  },
  {
   "cell_type": "code",
   "execution_count": 50,
   "id": "fb1746fb",
   "metadata": {},
   "outputs": [
    {
     "data": {
      "text/plain": [
       "defaultdict(list, {'mammals': []})"
      ]
     },
     "execution_count": 50,
     "metadata": {},
     "output_type": "execute_result"
    }
   ],
   "source": [
    "animals"
   ]
  },
  {
   "cell_type": "code",
   "execution_count": 51,
   "id": "dd4a2a5f",
   "metadata": {},
   "outputs": [],
   "source": [
    "animals[\"mammals\"].append(\"whale\")"
   ]
  },
  {
   "cell_type": "code",
   "execution_count": 52,
   "id": "9e9c8eb6",
   "metadata": {},
   "outputs": [
    {
     "data": {
      "text/plain": [
       "defaultdict(list, {'mammals': ['whale']})"
      ]
     },
     "execution_count": 52,
     "metadata": {},
     "output_type": "execute_result"
    }
   ],
   "source": [
    "animals"
   ]
  },
  {
   "cell_type": "code",
   "execution_count": 53,
   "id": "5d1b79ba",
   "metadata": {},
   "outputs": [],
   "source": [
    "animals[\"reptiles\"].append(\"crocodile\")"
   ]
  },
  {
   "cell_type": "code",
   "execution_count": 54,
   "id": "0b9bb228",
   "metadata": {},
   "outputs": [
    {
     "data": {
      "text/plain": [
       "defaultdict(list, {'mammals': ['whale'], 'reptiles': ['crocodile']})"
      ]
     },
     "execution_count": 54,
     "metadata": {},
     "output_type": "execute_result"
    }
   ],
   "source": [
    "animals"
   ]
  },
  {
   "cell_type": "code",
   "execution_count": null,
   "id": "5bd91649",
   "metadata": {},
   "outputs": [],
   "source": []
  }
 ],
 "metadata": {
  "kernelspec": {
   "display_name": "Python 3 (ipykernel)",
   "language": "python",
   "name": "python3"
  },
  "language_info": {
   "codemirror_mode": {
    "name": "ipython",
    "version": 3
   },
   "file_extension": ".py",
   "mimetype": "text/x-python",
   "name": "python",
   "nbconvert_exporter": "python",
   "pygments_lexer": "ipython3",
   "version": "3.9.10"
  }
 },
 "nbformat": 4,
 "nbformat_minor": 5
}
