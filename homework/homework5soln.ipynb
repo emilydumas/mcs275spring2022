{
 "cells": [
  {
   "cell_type": "markdown",
   "metadata": {},
   "source": [
    "# MCS 275 Spring 2022 Homework 5 Solutions\n",
    "\n",
    "* Course Instructor: Emily Dumas\n",
    "* Solutions prepared by: Johnny Joyce"
   ]
  },
  {
   "cell_type": "markdown",
   "metadata": {},
   "source": [
    "## Instructions:\n",
    "\n",
    "* Complete the problems below, which ask you to write Python scripts.\n",
    "* Upload your python code directly to gradescope, i.e. upload the `.py` files containing your work.  (If you upload a screenshot or other file format, you won't get credit.)\n",
    "\n",
    "### Deadline\n",
    "\n",
    "This homework assignment must be submitted in Gradescope by **Noon central time on Tuesday 15 February 2022**.\n",
    "\n",
    "### Collaboration\n",
    "\n",
    "**Collaboration is prohibited**, and you may only access resources (books, online, etc.) listed below.\n",
    "\n",
    "### Resources you may consult\n",
    "\n",
    "The course materials you may refer to for this homework are:\n",
    "\n",
    "* [Worksheet 5 Solutions](https://www.dumas.io/teaching/2022/spring/mcs275/nbview/worksheets/worksheet5soln.html)\n",
    "* [Lecture 9 - More on decorators; context managers](https://www.dumas.io/teaching/2022/spring/mcs275/slides/lecture9.html)\n",
    "* [Lecture 10 - Errors and debugging](https://www.dumas.io/teaching/2022/spring/mcs275/slides/lecture10.html)\n",
    "* [Lecture 11 - pdb](https://www.dumas.io/teaching/2022/spring/mcs275/slides/lecture11.html)\n",
    "* [MCS 275 Python Tour](https://www.dumas.io/teaching/2022/spring/mcs275/nbview/samplecode/python_tour.html)\n",
    "* [Downey's book](https://greenteapress.com/thinkpython2/html/)\n",
    "* MCS 260 course materials from Fall 2021:\n",
    "    * [Slides, homework, worksheets, and projects](https://www.dumas.io/teaching/2021/fall/mcs260/)\n",
    "    * [Sample programs](https://github.com/emilydumas/mcs260fall2021/tree/main/samplecode)\n",
    "\n",
    "### Point distribution\n",
    "\n",
    "This homework assignment has two problems, numbered 2 and 3.  The grading breakdown is:\n",
    "\n",
    "| Points | Item |\n",
    "| --- | --- |\n",
    "| 2 | Autograder |\n",
    "| 4 | Problem 2 |\n",
    "| 4 | Problem 3 |\n",
    "| **10** | Total |\n",
    "\n",
    "The part marked \"autograder\" reflects points assigned to your submission based on some simple automated checks for Python syntax, etc..  The result of these checks is shown immediately after you submit.\n",
    "\n",
    "### What to do if you're stuck\n",
    "\n",
    "Ask your instructor or TA a question by email, in office hours, or on discord."
   ]
  },
  {
   "cell_type": "markdown",
   "metadata": {},
   "source": [
    "## Problem 1 doesn't exist\n",
    "\n",
    "In Gradescope, the score assigned to your homework submission by the autograder (checking for syntax and docstrings) will be recorded as \"Problem 1\".  Therefore, the numbering of the actual problems begins with 2."
   ]
  },
  {
   "cell_type": "markdown",
   "metadata": {},
   "source": [
    "## Problem 2: WorkingHours context manager\n",
    "\n",
    "In Python, you can check the current day and time by importing the `datetime` module and then calling `datetime.datetime.now()`.  The return value is an object with attributes and methods to tell you things like the year, month, day, hour, minute, second, and day of week.  For example, this script will print the current hour and weekday:"
   ]
  },
  {
   "cell_type": "code",
   "execution_count": 189,
   "metadata": {
    "scrolled": true
   },
   "outputs": [
    {
     "name": "stdout",
     "output_type": "stream",
     "text": [
      "Right now, the hour (in 24-hour time) is:  15\n",
      "And the day of week is Thursday, which is day number 3 in Python's numbering system.\n"
     ]
    }
   ],
   "source": [
    "import datetime\n",
    "\n",
    "dt = datetime.datetime.now()\n",
    "\n",
    "print(\"Right now, the hour (in 24-hour time) is: \",dt.hour)\n",
    "day_number = dt.weekday() # 0 for Monday, 1 for Tuesday, etc.\n",
    "\n",
    "day_names = [\"Monday\", \"Tuesday\", \"Wednesday\", \"Thursday\", \"Friday\", \"Saturday\", \"Sunday\"]\n",
    "print(\"And the day of week is {}, which is day number {} in Python's numbering system.\".format(\n",
    "    day_names[day_number],\n",
    "    day_number\n",
    "))"
   ]
  },
  {
   "cell_type": "markdown",
   "metadata": {},
   "source": [
    "Write a context manager `WorkingHours()` that makes sure a block of code starts running between 9am and 5pm on a Monday, Tuesday, Wednesday, Thursday, or Friday.  For the purposes of this question, we'll call those \"working hours\".  So the desired behavior of this context manager is:\n",
    "* If `__enter__` is called during working hours, it should return immediately\n",
    "* If `__enter__` is called at any other time, it should pause for 60 seconds, check again, etc., not returning until it is during working hours.\n",
    "\n",
    "This context manager doesn't need to do any cleanup at the end of the `with` block, but it still needs to have a method called `__exit__` in order for Python to recognize it as a context manager.\n",
    "\n",
    "Put your context manager class in a file called `hwk5prob2.py` and upload it to gradescope."
   ]
  },
  {
   "cell_type": "markdown",
   "metadata": {},
   "source": [
    "## Solution"
   ]
  },
  {
   "cell_type": "code",
   "execution_count": 1,
   "metadata": {},
   "outputs": [
    {
     "name": "stdout",
     "output_type": "stream",
     "text": [
      "Hello! We are currently in working hours.\n"
     ]
    }
   ],
   "source": [
    "import datetime\n",
    "import time\n",
    "\n",
    "class WorkingHours():\n",
    "    '''Context manager to wait until working hours (9AM-5PM on Mon/Tue/Wed/Thu/Fri)'''\n",
    "    \n",
    "    def __enter__(self):\n",
    "        '''Upon entering context manager, keep trying to check if time is in working hours'''\n",
    "        while True: # Use an infinite loop to keep checking time\n",
    "            \n",
    "            dt = datetime.datetime.now()\n",
    "            if dt.weekday() in [0,1,2,3,4] and 9 <= dt.hour < 17: # 0=Mon, 1=Tue, 2=Wed, etc.\n",
    "                return\n",
    "            else:\n",
    "                # print(\"Sleeping for 60 seconds. Zzz...\")  # optional, for verbose output\n",
    "                time.sleep(60)\n",
    "    \n",
    "        \n",
    "    def __exit__(self, *args, **kwargs): # Extra args are given to represent if any errors occur\n",
    "        '''No cleanup necessary'''\n",
    "        pass # or we could omit this line entirely, as a docstring alone is OK\n",
    "    \n",
    "with WorkingHours():\n",
    "    print(\"Hello! We are currently in working hours.\")"
   ]
  },
  {
   "cell_type": "markdown",
   "metadata": {},
   "source": [
    "## Problem 3: Tangled web of function calls\n",
    "\n",
    "Consider the three functions below.  They call one another in a rather complicated way!"
   ]
  },
  {
   "cell_type": "code",
   "execution_count": 186,
   "metadata": {},
   "outputs": [],
   "source": [
    "def alpha(x):\n",
    "    if x<0:\n",
    "        return 0                         # a\n",
    "    elif x%7 < 3:\n",
    "        return beta(x-1)                 # b\n",
    "    else:\n",
    "        return gamma(x-1) + beta(x//3)   # c\n",
    "    \n",
    "def beta(x):\n",
    "    if x%9 < 5:\n",
    "        return alpha(x-2)                # d\n",
    "    else:\n",
    "        return gamma(x-1) + alpha(2*x-4) # e\n",
    "    \n",
    "def gamma(x):\n",
    "    if x%275 > 10:\n",
    "        return x**abs(x) % 13            # f\n",
    "    else:\n",
    "        return alpha((9*x)//10)          # g"
   ]
  },
  {
   "cell_type": "markdown",
   "metadata": {},
   "source": [
    "Use any debugging techniques you like (`pdb`, `print`, etc.) to answer the following questions.  Type your answers in a file called `hwk5prob3.txt` that you create using Visual Studio Code, and then upload that file to gradescope.  **Note that you're not uploading any Python code for this question, you're just typing answers into a file and uploading that file.**"
   ]
  },
  {
   "cell_type": "markdown",
   "metadata": {},
   "source": [
    "# Solutions"
   ]
  },
  {
   "cell_type": "markdown",
   "metadata": {},
   "source": [
    "***\n",
    "\n",
    "### 3A.\n",
    "Calling `alpha(24)` returns 14, as you can check. In doing so, how many many times is each function `alpha`, `beta`, and `gamma` called?  (Give a separate total for each one.)\n",
    "\n",
    "### Solution:\n",
    "\n",
    "`alpha` is called **11** times\n",
    "\n",
    "`beta` is called **7** times\n",
    "\n",
    "`gamma` is called **6** times\n",
    "\n",
    "\n",
    "***\n",
    "\n",
    "### 3B.\n",
    "In computing `alpha(24)`, what is the largest value of `x` that is passed to any of the functions?\n",
    "\n",
    "### Solution:\n",
    "\n",
    "If we count the initial call to `alpha`, then the largest value is **24**. Otherwise, it is **23**, which is passed to `gamma`.\n",
    "\n",
    "***\n",
    "\n",
    "### 3C.\n",
    "Some of the lines of code contain comments labeling them with the letters a-g.  In computing `alpha(24)`, does each labeled line of code run at least once?  If not, which of them never run?\n",
    "\n",
    "### Solution:\n",
    "\n",
    "**All** of the labeled lines run at least once.\n",
    "\n",
    "***\n",
    "\n",
    "### 3D.\n",
    "Are there any other values of `x` between 0 and 100 so that `alpha(x)` returns 14?  (Some values of `x` will cause a `RecursionError` exception to be raised, so you'll need to account for that in automating a search.)\n",
    "\n",
    "### Solution:"
   ]
  },
  {
   "cell_type": "code",
   "execution_count": 3,
   "metadata": {},
   "outputs": [
    {
     "name": "stdout",
     "output_type": "stream",
     "text": [
      "alpha(15) returns 14\n",
      "alpha(24) returns 14\n"
     ]
    }
   ],
   "source": [
    "import sys\n",
    "sys.setrecursionlimit(1000)\n",
    "# Set the maximum recursion depth to 1000 so it doesn't take too long.\n",
    "# For many (but not all) setups, 1000 is the default anyway\n",
    "\n",
    "\n",
    "for x in range(100):\n",
    "    try:\n",
    "        if alpha(x) == 14:\n",
    "            print(\"alpha({}) returns 14\".format(x))\n",
    "    except RecursionError: # If we get a RecursionError, just ignore it and go to the next value\n",
    "        continue"
   ]
  }
 ],
 "metadata": {
  "kernelspec": {
   "display_name": "Python 3",
   "language": "python",
   "name": "python3"
  },
  "language_info": {
   "codemirror_mode": {
    "name": "ipython",
    "version": 3
   },
   "file_extension": ".py",
   "mimetype": "text/x-python",
   "name": "python",
   "nbconvert_exporter": "python",
   "pygments_lexer": "ipython3",
   "version": "3.8.10"
  }
 },
 "nbformat": 4,
 "nbformat_minor": 4
}
