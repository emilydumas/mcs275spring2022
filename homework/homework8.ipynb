{
 "cells": [
  {
   "cell_type": "markdown",
   "metadata": {},
   "source": [
    "# MCS 275 Spring 2022 Homework 8\n",
    "\n",
    "* Course Instructor: Emily Dumas"
   ]
  },
  {
   "cell_type": "markdown",
   "metadata": {},
   "source": [
    "## Instructions:\n",
    "\n",
    "* Complete the problems below, which ask you to write Python scripts.\n",
    "* Upload your python code directly to gradescope, i.e. upload the `.py` files containing your work.  (If you upload a screenshot or other file format, you won't get credit.)\n",
    "\n",
    "### Deadline\n",
    "\n",
    "This homework assignment must be submitted in Gradescope by **Noon central time on Tuesday 8 March 2022**.\n",
    "\n",
    "### Collaboration\n",
    "\n",
    "**Collaboration is prohibited**, and you may only access resources (books, online, etc.) listed below.\n",
    "\n",
    "### Resources you may consult\n",
    "\n",
    "The course materials you may refer to for this homework are:\n",
    "\n",
    "* [Worksheet 8 Solutions](https://www.dumas.io/teaching/2022/spring/mcs275/nbview/worksheets/worksheet8soln.html)\n",
    "* [Lecture 19 - Trees](http://dumas.io/teaching/2022/spring/mcs275/slides/lecture19.html)\n",
    "* [Lecture 20 - BST](http://dumas.io/teaching/2022/spring/mcs275/slides/lecture20.html)\n",
    "* [Lecture 21 - Traversals](http://dumas.io/teaching/2022/spring/mcs275/slides/lecture21.html)\n",
    "* Any of the course [sample programs](https://github.com/emilydumas/mcs275spring2022/tree/main/samplecode); the ones in the `trees` subdirectory are of particular note.\n",
    "* [Downey's book](https://greenteapress.com/thinkpython2/html/)\n",
    "* MCS 260 course materials from Fall 2021:\n",
    "    * [Slides, homework, worksheets, and projects](https://www.dumas.io/teaching/2021/fall/mcs260/)\n",
    "    * [Sample programs](https://github.com/emilydumas/mcs260fall2021/tree/main/samplecode)\n",
    "\n",
    "### Point distribution\n",
    "\n",
    "This homework assignment has two problems, numbered 2 and 3.  The grading breakdown is:\n",
    "\n",
    "| Points | Item |\n",
    "| --- | --- |\n",
    "| 2 | Autograder |\n",
    "| 4 | Problem 2 |\n",
    "| 4 | Problem 3 |\n",
    "| **10** | Total |\n",
    "\n",
    "The part marked \"autograder\" reflects points assigned to your submission based on some simple automated checks for Python syntax, etc..  The result of these checks is shown immediately after you submit.\n",
    "\n",
    "### What to do if you're stuck\n",
    "\n",
    "Ask your instructor or TA a question by email, in office hours, or on discord."
   ]
  },
  {
   "cell_type": "markdown",
   "metadata": {},
   "source": [
    "## Problem 1 doesn't exist\n",
    "\n",
    "In Gradescope, the score assigned to your homework submission by the autograder (checking for syntax and docstrings) will be recorded as \"Problem 1\".  Therefore, the numbering of the actual problems begins with 2."
   ]
  },
  {
   "cell_type": "markdown",
   "metadata": {},
   "source": [
    "## Prepare\n",
    "\n",
    "Download [`trees.py`](https://raw.githubusercontent.com/emilydumas/mcs275spring2022/main/samplecode/trees/trees.py) from the course sample code repository and copy it to a new file `hwk8.py`.  (It's also OK to take the modified version of `trees.py` you worked on in lab this week and copy it.) Both questions on this assignment ask you to make changes to this file."
   ]
  },
  {
   "cell_type": "markdown",
   "metadata": {},
   "source": [
    "## Problem 2: Leaf list\n",
    "\n",
    "A node of a tree is called a **leaf** if it has no children.\n",
    "\n",
    "Add a method `leaves` to class `Node` in `hwk8.py` that, when called on the root of a tree, will find all leaf nodes in that tree and return a list of them.  (So the return value should be a list of `Node` objects.)"
   ]
  },
  {
   "cell_type": "markdown",
   "metadata": {},
   "source": [
    "## Problem 3: Positive elements of BST\n",
    "\n",
    "Add a method `positive_keys` to class `BST` in `hwk8.py` that, when called on the root of a binary search tree containing floats or integers, will return a list of all the positive keys that appear in the binary search tree.\n",
    "\n",
    "### Special grading note\n",
    "\n",
    "* A correct solution that always visits every node in the tree will be worth 2 points, because visiting every node is often quite inefficient.\n",
    "* For full credit, a solution must ignore parts of the tree that can't possibly contain positive keys.  For example, in this binary tree:\n",
    "![Binary search tree example](images/tree-pos-neg.png)\n",
    "there is no need to explore the left subtree of the node with key 0, because all keys in that subtree are guaranteed to be less than or equal to 0 (i.e. NOT positive)."
   ]
  }
 ],
 "metadata": {
  "kernelspec": {
   "display_name": "Python 3",
   "language": "python",
   "name": "python3"
  },
  "language_info": {
   "codemirror_mode": {
    "name": "ipython",
    "version": 3
   },
   "file_extension": ".py",
   "mimetype": "text/x-python",
   "name": "python",
   "nbconvert_exporter": "python",
   "pygments_lexer": "ipython3",
   "version": "3.8.10"
  }
 },
 "nbformat": 4,
 "nbformat_minor": 4
}
