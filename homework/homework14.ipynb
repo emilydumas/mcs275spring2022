{
 "cells": [
  {
   "cell_type": "markdown",
   "metadata": {},
   "source": [
    "# MCS 275 Spring 2022 Homework 14\n",
    "\n",
    "* Course Instructor: Emily Dumas"
   ]
  },
  {
   "cell_type": "markdown",
   "metadata": {},
   "source": [
    "## Instructions:\n",
    "\n",
    "* Complete the problems below, which ask you to write Python scripts.\n",
    "* Upload your python code directly to gradescope, i.e. upload the `.py` files containing your work.  (If you upload a screenshot or other file format, you won't get credit.)\n",
    "\n",
    "### Deadline\n",
    "\n",
    "This homework assignment must be submitted in Gradescope by **Noon central time on Tuesday 26 April 2022**.\n",
    "\n",
    "### Special note\n",
    "\n",
    "This is the last homework assignment.  Congratulations on making it this far!\n",
    "\n",
    "### Collaboration\n",
    "\n",
    "**Collaboration is prohibited**, and you may only access resources (books, online, etc.) listed below.\n",
    "\n",
    "### Resources you may consult\n",
    "\n",
    "These things might be helpful while working on the problems.  Remember that for worksheets,  we don't strictly limit what resources you can consult, so these are only suggestions.\n",
    "\n",
    "\n",
    "* [Worksheet 14](https://www.dumas.io/teaching/2022/spring/mcs275/nbview/worksheets/worksheet14.html)\n",
    "* [Worksheet 14 Solutions](https://www.dumas.io/teaching/2022/spring/mcs275/nbview/worksheets/worksheet14soln.html), if/when available.  (These will not be prepared while the TA strike is going on.)\n",
    "* The [Worksheet 14 Solutions from MCS 275 in 2021](https://www.dumas.io/teaching/2021/spring/mcs275/nbview/worksheets/worksheet14_soln.html), which may be helpful if solutions to this year's worksheet are not available.\n",
    "* [Lecture 35 - Flask](http://dumas.io/teaching/2022/spring/mcs275/slides/lecture35.html)\n",
    "* [Lecture 36 - Using flask](http://dumas.io/teaching/2022/spring/mcs275/slides/lecture36.html)\n",
    "* [Lecture 37 - Forms](http://dumas.io/teaching/2022/spring/mcs275/slides/lecture37.html)\n",
    "* [Lecture 38 - Web app wrap-up](http://dumas.io/teaching/2022/spring/mcs275/slides/lecture38.html)\n",
    "* [w3schools HTML tutorial](https://www.w3schools.com/html/)\n",
    "* [w3schools CSS tutorial](https://www.w3schools.com/css/)\n",
    "* [Flask tutorial](https://flask.palletsprojects.com/en/1.1.x/tutorial/)\n",
    "* [JSFiddle](https://jsfiddle.net/) - place to quickly test HTML+CSS without leaving your browser\n",
    "* Course sample code:\n",
    "    * [html examples](https://github.com/emilydumas/mcs275spring2022/tree/main/samplecode/html)\n",
    "    * [flask examples](https://github.com/emilydumas/mcs275spring2022/tree/main/samplecode/flask-apps)\n",
    "* Any other lecture slide presentation from this course.\n",
    "\n",
    "### Point distribution\n",
    "\n",
    "This homework assignment has one problems.  The grading breakdown is:\n",
    "\n",
    "| Points | Item |\n",
    "| --- | --- |\n",
    "| 2 | Autograder |\n",
    "| 4 | Problem 2 |\n",
    "| **6** | Total |\n",
    "\n",
    "The part marked \"autograder\" reflects points assigned to your submission based on some simple automated checks for Python syntax, etc..  The result of these checks is shown immediately after you submit.\n",
    "\n",
    "### What to do if you're stuck\n",
    "\n",
    "Ask your instructor a question by email, in office hours, or on discord."
   ]
  },
  {
   "cell_type": "markdown",
   "metadata": {},
   "source": [
    "## ( No problem 1 as usual )"
   ]
  },
  {
   "cell_type": "markdown",
   "metadata": {},
   "source": [
    "## Problem 2 - Show that you can run a Flask + SQLite application on your computer\n",
    "\n",
    "MCS 275 labs were cancelled this week, so while Worksheet 14 was available and I recommended everyone work on it, I realize you had fewer opportunities than usual to practice the latest material and ask course staff for assistance.\n",
    "\n",
    "In recognition of this, I've scaled back the homework this time.  **You don't need to write any new code or solve any new problems.**  I just want to see that you are able to run a Flask application that involves a SQL database on your own computer (or whatever computer you use for MCS 275 assignments and/or labs).\n",
    "\n",
    "Specifically, please do the following:\n",
    "* Run a Flask application that uses a SQLite database on your computer.  See the list below for some examples.\n",
    "* Open a browser and load a page from the flask application\n",
    "* Make sure the terminal window where Flask is running and the browser window where you loaded the application are both visible in their entirety on your screen.\n",
    "* Upload the following things to gradescope:\n",
    "    - A screenshot from your computer showing both the terminal and browser windows, in PNG, BMP, JPG, TIFF, or HEIC format (PNG preferred).\n",
    "    - The Python source code of the application that's running in your screenshot (not necessarily code that you wrote; I just want a copy that exactly matches what you show in the screenshot)\n",
    "    \n",
    "\n",
    "### What Flask application?\n",
    "\n",
    "It could be:\n",
    "* The starter version of Speaker Slate given as part of Worksheet 14\n",
    "* The finished version of Speaker Slate from your work on Worksheet 14\n",
    "* The example program WorkSnap developed in lecture\n",
    "* Your partial Project 4 work, if it is at the point where it runs and uses both Flask and SQLite\n",
    "* Any other open-source Flask+SQLite application written in Python that runs on Python 3.8 and which requires no external modules other than `flask`, `sqlite3`, and other modules specifically taught in MCS 275.\n",
    "\n",
    "\n",
    "### Grading checklist\n",
    "\n",
    "Full credit is given if:\n",
    "* There is a screenshot\n",
    "* The screenshot appears to have been captured by you as part of your work on this assignment\n",
    "* It shows a terminal with a Flask application running\n",
    "* It also shows a browser window in which a page of that same Flask application is open\n",
    "* The Python source of the Flask application you showed in the screenshot has been uploaded to Gradescope as part of your submission.\n",
    "* The Flask application you uploaded and which is shown in the screenshot uses a SQLite database.\n",
    "\n",
    "### How do I take a screenshot\n",
    "\n",
    "See these instructions:\n",
    "[https://www.take-a-screenshot.org/](https://www.take-a-screenshot.org/)"
   ]
  }
 ],
 "metadata": {
  "kernelspec": {
   "display_name": "Python 3",
   "language": "python",
   "name": "python3"
  },
  "language_info": {
   "codemirror_mode": {
    "name": "ipython",
    "version": 3
   },
   "file_extension": ".py",
   "mimetype": "text/x-python",
   "name": "python",
   "nbconvert_exporter": "python",
   "pygments_lexer": "ipython3",
   "version": "3.8.10"
  }
 },
 "nbformat": 4,
 "nbformat_minor": 4
}
