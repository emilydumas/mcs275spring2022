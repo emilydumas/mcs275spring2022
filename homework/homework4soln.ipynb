{
 "cells": [
  {
   "cell_type": "markdown",
   "metadata": {},
   "source": [
    "# MCS 275 Spring 2022 Homework 4 Solutions\n",
    "\n",
    "* Course Instructor: Emily Dumas\n",
    "* Solutions prepared by: Emily Dumas, Johnny Joyce"
   ]
  },
  {
   "cell_type": "markdown",
   "metadata": {},
   "source": [
    "## Instructions:\n",
    "\n",
    "* Complete the problems below, which ask you to write Python scripts.\n",
    "* Upload your python code directly to gradescope, i.e. upload the `.py` files containing your work.  (If you upload a screenshot or other file format, you won't get credit.)\n",
    "\n",
    "### Deadline\n",
    "\n",
    "This homework assignment must be submitted in Gradescope by **Noon central time on Tuesday 8 February 2022**.\n",
    "\n",
    "### Collaboration\n",
    "\n",
    "**Collaboration is prohibited**, and you may only access resources (books, online, etc.) listed below.\n",
    "\n",
    "### Resources you may consult\n",
    "\n",
    "The course materials you may refer to for this homework are:\n",
    "* [Worksheet 4 Solutions](https://www.dumas.io/teaching/2022/spring/mcs275/nbview/worksheets/worksheet4soln.html)\n",
    "* [Lecture 7 - Notebooks](https://www.dumas.io/teaching/2022/spring/mcs275/slides/lecture7.html)\n",
    "* [Lecture 8 - Variadic functions and decorators](https://www.dumas.io/teaching/2022/spring/mcs275/slides/lecture8.html)\n",
    "* [Lecture 9 - More on decorators; context managers](https://www.dumas.io/teaching/2022/spring/mcs275/slides/lecture9.html)\n",
    "* [MCS 275 Python Tour](https://www.dumas.io/teaching/2022/spring/mcs275/nbview/samplecode/python_tour.html)\n",
    "* These other things that are allowed, but probably not needed:\n",
    "    * Any of the other MCS 275 slide presentations\n",
    "    * Slides from any lecture of the previous course, [MCS 260, Fall 2021](https://www.dumas.io/teaching/2021/fall/mcs260/).\n",
    "    * Any lecture video posted on the [course Blackboard site](https://uic.blackboard.com/ultra/courses/_210110_1/cl/outline)\n",
    "    * [Downey's book](https://greenteapress.com/thinkpython2/html/)\n",
    "    * Any other textbook listed on the course blackboard site under \"Textbooks\"\n",
    "    * Anything in the course [sample code repository](https://github.com/emilydumas/mcs275spring2022/tree/main/samplecode).\n",
    "\n",
    "### Point distribution\n",
    "\n",
    "This homework assignment has two problems, numbered 2 and 3.  The grading breakdown is:\n",
    "\n",
    "| Points | Item |\n",
    "| --- | --- |\n",
    "| 2 | Autograder |\n",
    "| 4 | Problem 2 |\n",
    "| 4 | Problem 3 |\n",
    "| **10** | Total |\n",
    "\n",
    "The part marked \"autograder\" reflects points assigned to your submission based on some simple automated checks for Python syntax, etc..  The result of these checks is shown immediately after you submit.\n",
    "\n",
    "### What to do if you're stuck\n",
    "\n",
    "Ask your instructor or TA a question by email, in office hours, or on discord."
   ]
  },
  {
   "cell_type": "markdown",
   "metadata": {},
   "source": [
    "## Problem 1 doesn't exist\n",
    "\n",
    "In Gradescope, the score assigned to your homework submission by the autograder (checking for syntax and docstrings) will be recorded as \"Problem 1\".  Therefore, the numbering of the actual problems begins with 2."
   ]
  },
  {
   "cell_type": "markdown",
   "metadata": {},
   "source": [
    "## Problem 2: 2-argument to n-argument\n",
    "\n",
    "Here is a function that takes two strings `s` and `t` and returns a string that contains all the letters that appear in both `s` and `t`.  The order in which the characters appear in the return value isn't important, but the function is written in such a way that it will return them in the order they appear in `s`."
   ]
  },
  {
   "cell_type": "code",
   "execution_count": 3,
   "metadata": {},
   "outputs": [],
   "source": [
    "def common_letters2(s,t):\n",
    "    \"Return a string with distinct characters, consisting of the characters that appear in both s and t\"\n",
    "    common = []\n",
    "    for c in s:\n",
    "        if c in common:\n",
    "            continue\n",
    "        if c in t:\n",
    "            common.append(c)\n",
    "    return \"\".join(common)\n",
    "\n",
    "# This isn't the only way, nor the most efficient or natural way to accomplish this in Python\n",
    "# We'll return to this function later and learn another way to do it!"
   ]
  },
  {
   "cell_type": "markdown",
   "metadata": {},
   "source": [
    "Here is an example of its use:"
   ]
  },
  {
   "cell_type": "code",
   "execution_count": 11,
   "metadata": {},
   "outputs": [
    {
     "data": {
      "text/plain": [
       "'eoin sa'"
      ]
     },
     "execution_count": 11,
     "metadata": {},
     "output_type": "execute_result"
    }
   ],
   "source": [
    "common_letters2(\"evolving situation\",\"inferior sandwich\")"
   ]
  },
  {
   "cell_type": "code",
   "execution_count": 17,
   "metadata": {},
   "outputs": [
    {
     "data": {
      "text/plain": [
       "'abf'"
      ]
     },
     "execution_count": 17,
     "metadata": {},
     "output_type": "execute_result"
    }
   ],
   "source": [
    "common_letters2(\"aabbccddeeff\",\"global foxtrot aaaaa\")"
   ]
  },
  {
   "cell_type": "markdown",
   "metadata": {},
   "source": [
    "Use this function to write another function `common_letters` that accepts **any number of strings as arguments**, and which returns a string that contains the letters that appear in *every* string that was given as an argument.  Put your function in a file `hwk4prob2.py`.\n",
    "\n",
    "Note: Your solution must make essential use of `common_letters2`."
   ]
  },
  {
   "cell_type": "markdown",
   "metadata": {},
   "source": [
    "Sample usage of `common_letters`:"
   ]
  },
  {
   "cell_type": "code",
   "execution_count": 12,
   "metadata": {},
   "outputs": [
    {
     "data": {
      "text/plain": [
       "'a'"
      ]
     },
     "execution_count": 12,
     "metadata": {},
     "output_type": "execute_result"
    }
   ],
   "source": [
    "common_letters(\"abacus\",\"diagonal\",\"ocean madness\")"
   ]
  },
  {
   "cell_type": "code",
   "execution_count": 10,
   "metadata": {},
   "outputs": [
    {
     "data": {
      "text/plain": [
       "'ton er'"
      ]
     },
     "execution_count": 10,
     "metadata": {},
     "output_type": "execute_result"
    }
   ],
   "source": [
    "common_letters(\"Python expert\",\"noisome ruminant\",\"tenured onion\")"
   ]
  },
  {
   "cell_type": "code",
   "execution_count": 11,
   "metadata": {},
   "outputs": [
    {
     "data": {
      "text/plain": [
       "'cd'"
      ]
     },
     "execution_count": 11,
     "metadata": {},
     "output_type": "execute_result"
    }
   ],
   "source": [
    "common_letters(\"a-b-c-d\",\"b^c^d^e\",\"c_d_e_f\")"
   ]
  },
  {
   "cell_type": "markdown",
   "metadata": {},
   "source": [
    "# Solution"
   ]
  },
  {
   "cell_type": "code",
   "execution_count": 9,
   "metadata": {},
   "outputs": [],
   "source": [
    "def common_letters(*args):\n",
    "    '''Given any number of strings as args, returns single\n",
    "    string containing letters appearing in every string'''\n",
    "    \n",
    "    # Handle special cases where there are only 0 or 1 argument(s)\n",
    "    if len(args)==0:\n",
    "        return \"\"\n",
    "    if len(args)==1:\n",
    "        return args[0]\n",
    "    \n",
    "    common = args[0] # Start with every letter from the first arg\n",
    "    for arg in args[1:]: # Iterate over each subsequent arg\n",
    "        common = common_letters2(common, arg) # Update common to only have letters in the current arg\n",
    "    return common"
   ]
  },
  {
   "cell_type": "markdown",
   "metadata": {},
   "source": [
    "## Problem 3: Do nothing if file is missing"
   ]
  },
  {
   "cell_type": "markdown",
   "metadata": {},
   "source": [
    "If a function attempts to open a file that doesn't exist, a `FileNotFoundError` exception will be raised.\n",
    "\n",
    "Write a decorator `ignore_missing` that, if attached to such a function, will just ignore the `FileNotFoundError`.  Thus, with the decorator applied, the function will return as soon as it fails to open a file, with no exception.  Put your decorator in a file `hwk4prob3.py`.\n",
    "\n",
    "For example, the following code raises an exception if \"asdf.txt\" does not exist:"
   ]
  },
  {
   "cell_type": "code",
   "execution_count": 29,
   "metadata": {},
   "outputs": [
    {
     "ename": "FileNotFoundError",
     "evalue": "[Errno 2] No such file or directory: 'asdf.txt'",
     "output_type": "error",
     "traceback": [
      "\u001b[0;31m---------------------------------------------------------------------------\u001b[0m",
      "\u001b[0;31mFileNotFoundError\u001b[0m                         Traceback (most recent call last)",
      "\u001b[0;32m<ipython-input-29-f06792d5c7b9>\u001b[0m in \u001b[0;36m<module>\u001b[0;34m\u001b[0m\n\u001b[1;32m      3\u001b[0m         \u001b[0;32mreturn\u001b[0m \u001b[0;34m\"Success!\"\u001b[0m\u001b[0;34m\u001b[0m\u001b[0;34m\u001b[0m\u001b[0m\n\u001b[1;32m      4\u001b[0m \u001b[0;34m\u001b[0m\u001b[0m\n\u001b[0;32m----> 5\u001b[0;31m \u001b[0mopenit\u001b[0m\u001b[0;34m(\u001b[0m\u001b[0;34m)\u001b[0m  \u001b[0;31m# Exception because \"asdf.txt\" does not exist\u001b[0m\u001b[0;34m\u001b[0m\u001b[0;34m\u001b[0m\u001b[0m\n\u001b[0m\u001b[1;32m      6\u001b[0m \u001b[0mprint\u001b[0m\u001b[0;34m(\u001b[0m\u001b[0;34m\"Hey look, this line never runs\"\u001b[0m\u001b[0;34m)\u001b[0m\u001b[0;34m\u001b[0m\u001b[0;34m\u001b[0m\u001b[0m\n",
      "\u001b[0;32m<ipython-input-29-f06792d5c7b9>\u001b[0m in \u001b[0;36mopenit\u001b[0;34m()\u001b[0m\n\u001b[1;32m      1\u001b[0m \u001b[0;32mdef\u001b[0m \u001b[0mopenit\u001b[0m\u001b[0;34m(\u001b[0m\u001b[0;34m)\u001b[0m\u001b[0;34m:\u001b[0m\u001b[0;34m\u001b[0m\u001b[0;34m\u001b[0m\u001b[0m\n\u001b[0;32m----> 2\u001b[0;31m     \u001b[0;32mwith\u001b[0m \u001b[0mopen\u001b[0m\u001b[0;34m(\u001b[0m\u001b[0;34m\"asdf.txt\"\u001b[0m\u001b[0;34m,\u001b[0m\u001b[0;34m\"r\"\u001b[0m\u001b[0;34m)\u001b[0m \u001b[0;32mas\u001b[0m \u001b[0mfobj\u001b[0m\u001b[0;34m:\u001b[0m\u001b[0;34m\u001b[0m\u001b[0;34m\u001b[0m\u001b[0m\n\u001b[0m\u001b[1;32m      3\u001b[0m         \u001b[0;32mreturn\u001b[0m \u001b[0;34m\"Success!\"\u001b[0m\u001b[0;34m\u001b[0m\u001b[0;34m\u001b[0m\u001b[0m\n\u001b[1;32m      4\u001b[0m \u001b[0;34m\u001b[0m\u001b[0m\n\u001b[1;32m      5\u001b[0m \u001b[0mopenit\u001b[0m\u001b[0;34m(\u001b[0m\u001b[0;34m)\u001b[0m  \u001b[0;31m# Exception because \"asdf.txt\" does not exist\u001b[0m\u001b[0;34m\u001b[0m\u001b[0;34m\u001b[0m\u001b[0m\n",
      "\u001b[0;31mFileNotFoundError\u001b[0m: [Errno 2] No such file or directory: 'asdf.txt'"
     ]
    }
   ],
   "source": [
    "def openit():\n",
    "    \"Open 'asdf.txt' for reading\"\n",
    "    with open(\"asdf.txt\",\"r\") as fobj:\n",
    "        return \"Success!\"\n",
    "    \n",
    "openit()  # Exception because \"asdf.txt\" does not exist\n",
    "print(\"Hey look, this line never runs\")"
   ]
  },
  {
   "cell_type": "markdown",
   "metadata": {},
   "source": [
    "But if you apply the decorator, it should no longer do so:"
   ]
  },
  {
   "cell_type": "code",
   "execution_count": 35,
   "metadata": {},
   "outputs": [
    {
     "name": "stdout",
     "output_type": "stream",
     "text": [
      "Hey look, it ignored the missing file.\n"
     ]
    }
   ],
   "source": [
    "@ignore_missing\n",
    "def openit():\n",
    "    \"Open 'asdf.txt' for reading\"\n",
    "    with open(\"asdf.txt\",\"r\") as fobj:\n",
    "        return \"Success!\"\n",
    "    \n",
    "openit()  # Will do nothing because the `FileNotFound` is caught\n",
    "print(\"Hey look, it ignored the missing file.\")"
   ]
  },
  {
   "cell_type": "markdown",
   "metadata": {},
   "source": [
    "# Solution"
   ]
  },
  {
   "cell_type": "code",
   "execution_count": 14,
   "metadata": {},
   "outputs": [],
   "source": [
    "def ignore_missing(f):\n",
    "    '''Decorator for ignoring any FileNotFoundErrors'''\n",
    "    \n",
    "    def inner(*args, **kwargs):\n",
    "        '''Inner function to be returned by ignore_missing'''\n",
    "        try:\n",
    "            return f(*args, **kwargs) # Run the decorated function as normal\n",
    "        except FileNotFoundError:\n",
    "            pass # <- Do absolutely nothing!\n",
    "            \n",
    "    return inner # Note the lack of parentheses after inner. Function is being returned, but not being run."
   ]
  },
  {
   "cell_type": "markdown",
   "metadata": {},
   "source": [
    "And to test the decorator..."
   ]
  },
  {
   "cell_type": "code",
   "execution_count": 15,
   "metadata": {},
   "outputs": [
    {
     "name": "stdout",
     "output_type": "stream",
     "text": [
      "Hey look, it ignored the missing file.\n"
     ]
    }
   ],
   "source": [
    "@ignore_missing\n",
    "def openit():\n",
    "    \"Open 'asdf.txt' for reading\"\n",
    "    with open(\"asdf.txt\",\"r\") as fobj:\n",
    "        return \"Success!\"\n",
    "    \n",
    "openit()  # Will do nothing because the `FileNotFound` is caught\n",
    "print(\"Hey look, it ignored the missing file.\")"
   ]
  }
 ],
 "metadata": {
  "kernelspec": {
   "display_name": "Python 3 (ipykernel)",
   "language": "python",
   "name": "python3"
  },
  "language_info": {
   "codemirror_mode": {
    "name": "ipython",
    "version": 3
   },
   "file_extension": ".py",
   "mimetype": "text/x-python",
   "name": "python",
   "nbconvert_exporter": "python",
   "pygments_lexer": "ipython3",
   "version": "3.9.6"
  }
 },
 "nbformat": 4,
 "nbformat_minor": 4
}
