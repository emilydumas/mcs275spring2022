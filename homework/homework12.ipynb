{
 "cells": [
  {
   "cell_type": "markdown",
   "metadata": {},
   "source": [
    "# MCS 275 Spring 2022 Homework 12\n",
    "\n",
    "* Course Instructor: Emily Dumas"
   ]
  },
  {
   "cell_type": "markdown",
   "metadata": {},
   "source": [
    "## Instructions:\n",
    "\n",
    "* Complete the problems below, which ask you to write Python scripts.\n",
    "* Upload your python code directly to gradescope, i.e. upload the `.py` files containing your work.  (If you upload a screenshot or other file format, you won't get credit.)\n",
    "\n",
    "### Deadline\n",
    "\n",
    "This homework assignment must be submitted in Gradescope by **Noon central time on Tuesday 12 April 2022**.\n",
    "\n",
    "### Collaboration\n",
    "\n",
    "**Collaboration is prohibited**, and you may only access resources (books, online, etc.) listed below.\n",
    "\n",
    "### Resources you may consult\n",
    "\n",
    "These things might be helpful while working on the problems.  Remember that for worksheets,  we don't strictly limit what resources you can consult, so these are only suggestions.\n",
    "\n",
    "* [Worksheet 12 Solutions](https://www.dumas.io/teaching/2022/spring/mcs275/nbview/worksheets/worksheet12soln.html)\n",
    "* [Lecture 30](https://www.dumas.io/teaching/2022/spring/mcs275/slides/lecture30.html)\n",
    "* [Lecture 31](https://www.dumas.io/teaching/2022/spring/mcs275/slides/lecture31.html)\n",
    "* [Lecture 32](https://www.dumas.io/teaching/2022/spring/mcs275/slides/lecture32.html)\n",
    "* [SQLite Tutorial (sqlitetutorial.net)](https://www.sqlitetutorial.net/)\n",
    "* [SQLite language documentation](https://www.sqlite.org/lang.html)\n",
    "\n",
    "### Point distribution\n",
    "\n",
    "This homework assignment has two problems.  The grading breakdown is:\n",
    "\n",
    "| Points | Item |\n",
    "| --- | --- |\n",
    "| 2 | Autograder |\n",
    "| 4 | Problem 2 |\n",
    "| 4 | Problem 3 |\n",
    "| **10** | Total |\n",
    "\n",
    "The part marked \"autograder\" reflects points assigned to your submission based on some simple automated checks for Python syntax, etc..  The result of these checks is shown immediately after you submit.\n",
    "\n",
    "### What to do if you're stuck\n",
    "\n",
    "Ask your instructor or TA a question by email, in office hours, or on discord."
   ]
  },
  {
   "cell_type": "markdown",
   "metadata": {},
   "source": [
    "## ( No problem 1 as usual )"
   ]
  },
  {
   "cell_type": "markdown",
   "metadata": {},
   "source": [
    "## Problem 2\n",
    "\n",
    "### Tutorial: How to list files and get modification time\n",
    "\n",
    "For use in the rest of this problem, here's a demonstration of how to list all the files in the current directory, and to get the time (in seconds in Jan 1 1970) when the file was most recently changed.  You can find more about `os.listdir` and `os.getmtime` in the [documentation of the `os` module](https://docs.python.org/3/library/os.html)."
   ]
  },
  {
   "cell_type": "code",
   "execution_count": 10,
   "metadata": {},
   "outputs": [
    {
     "name": "stdout",
     "output_type": "stream",
     "text": [
      "Filename=homework11soln.ipynb\n",
      "LastModified=1649258369\n",
      "\n",
      "Filename=homework12.ipynb\n",
      "LastModified=1649357087\n",
      "\n",
      "Filename=homework10.ipynb\n",
      "LastModified=1647552323\n",
      "\n",
      "Filename=homework11.ipynb\n",
      "LastModified=1647381255\n",
      "\n",
      "Filename=homework10soln.ipynb\n",
      "LastModified=1648583672\n",
      "\n"
     ]
    }
   ],
   "source": [
    "import os\n",
    "\n",
    "for fn in os.listdir():\n",
    "    print(\"Filename={}\\nLastModified={}\\n\".format(fn,int(os.path.getmtime(fn))))"
   ]
  },
  {
   "cell_type": "markdown",
   "metadata": {},
   "source": [
    "### The actual task\n",
    "\n",
    "Now, using the code above as a starting point, write a new program called `hwk12prob2.py` that examines files in the current directory and stores info about their last modified times and how often they've changed in a database.\n",
    "\n",
    "Specifically, the program must do the following:\n",
    "* Open a SQLite database file called `lastmod.db`\n",
    "* Create a table called `files` as follows **if it doesn't already exist**:\n",
    "    * Column `name` of type TEXT (i.e. a Python string)\n",
    "    * Column `lastmod` of type INTEGER\n",
    "    * Column `revcount` of type INTEGER\n",
    "* Look at every file in the current directory, and do the following for each one:\n",
    "    * If the filename is `lastmod.db`, just continue to the next iteration of the loop (skipping everything below for this file)\n",
    "    * If there is **already a row** in the table `files` that has the same `name` as this file, then:\n",
    "        * Check whether the `lastmod` value for that row is equal to the last modified time of this file.\n",
    "            * If they are the same: Do nothing\n",
    "            * If they are different: Update the `lastmod` value for that row to the last modified time of this file, and also increase the value of `revcount` in that row by 1\n",
    "    * Otherwise (i.e. if there is **no row** in the table `files` that has the same `name` as this file):\n",
    "        * Create a new row in table `files` using this file's name as `name`, using its last modified time as `lastmod`, and setting `revcount` to 1\n",
    "\n",
    "This means that if you run `hwk12prob2.py` in a given directory on a regular basis (say, every hour or every few minutes), it will notice every time a file has changed and keep a count of how many different versions it has seen thus far.  The database will also track the most recent modification time of every file, including any that have since been deleted.\n",
    "\n",
    "Test your program by running it in the directory where you're working on your assignment.  Make a modification to a file in that directory, and run `hwk12prob2.py` again.  Now if you open `lastmod.db` in the SQLite command line shell and run `SELECT * FROM files;` it should show all the files, most of which will have `revcount` equal to 1, but the file you modified should have `revcount` equal to 2."
   ]
  },
  {
   "cell_type": "markdown",
   "metadata": {},
   "source": [
    "## Problem 3\n",
    "\n",
    "### Show that you've read the feedback on Project 3\n",
    "\n",
    "By now you've received and read your graded Project 3 submission (the PDF shared with you on google drive, for which I also emailed you a link on 3 April). Hopefully, you have also read through the solution I posted.\n",
    "\n",
    "As a way to give you some credit for reading the feedback on Project 3, please answer this question:\n",
    "\n",
    "*At the bottom of the last or second to last page of the PDF of your Project 3 feedback, I included a small drawing labeled \"This is just a drawing, not a comment on your work\".  Please describe that drawing briefly.*\n",
    "\n",
    "*(You don't need to be very detailed, e.g. \"three green triangles\" or \"an orange cube\" would be enough detail.)*\n",
    "\n",
    "Put your answer in a text file called `hwk12prob3.txt` and upload it to Gradescope.\n",
    "\n",
    "### Optional: Ask questions\n",
    "\n",
    "If you have questions about your project 3 feedback, the solution, or anything else, feel free to include them in `hwk12prob3.txt`."
   ]
  }
 ],
 "metadata": {
  "kernelspec": {
   "display_name": "Python 3",
   "language": "python",
   "name": "python3"
  },
  "language_info": {
   "codemirror_mode": {
    "name": "ipython",
    "version": 3
   },
   "file_extension": ".py",
   "mimetype": "text/x-python",
   "name": "python",
   "nbconvert_exporter": "python",
   "pygments_lexer": "ipython3",
   "version": "3.8.10"
  }
 },
 "nbformat": 4,
 "nbformat_minor": 4
}
