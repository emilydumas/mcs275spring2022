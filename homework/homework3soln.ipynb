{
 "cells": [
  {
   "cell_type": "markdown",
   "metadata": {},
   "source": [
    "# MCS 275 Spring 2022 Homework 3 Solutions\n",
    "\n",
    "* Course Instructor: Emily Dumas\n",
    "* Solutions prepared by: Johnny Joyce and Emily Dumas"
   ]
  },
  {
   "cell_type": "markdown",
   "metadata": {},
   "source": [
    "## Instructions:\n",
    "\n",
    "* Complete the problems below, which ask you to write Python scripts.\n",
    "* Upload your python code directly to gradescope, i.e. upload the `.py` files containing your work.  (If you upload a screenshot or other file format, you won't get credit.)\n",
    "\n",
    "### Deadline\n",
    "This homework assignment must be submitted in Gradescope by **Noon central time on Tuesday 1 February 2022**.\n",
    "\n",
    "### Collaboration\n",
    "\n",
    "**Collaboration is prohibited**, and you may only access resources (books, online, etc.) listed below.\n",
    "\n",
    "### Resources you may consult\n",
    "\n",
    "The course materials you may refer to for this homework are:\n",
    "* [Worksheet 3 Solutions](https://www.dumas.io/teaching/2022/spring/mcs275/nbview/worksheets/worksheet3soln.html)\n",
    "\n",
    "* [Lecture 4 - Operator Overloading](https://www.dumas.io/teaching/2022/spring/mcs275/slides/lecture4.html)\n",
    "* [Lecture 5 - Inheritance](https://www.dumas.io/teaching/2022/spring/mcs275/slides/lecture5.html)\n",
    "* [Lecture 6 - Inheritance part 2](https://www.dumas.io/teaching/2022/spring/mcs275/slides/lecture6.html)\n",
    "* [MCS 275 Python Tour](https://www.dumas.io/teaching/2022/spring/mcs275/nbview/samplecode/python_tour.html)\n",
    "* [Downey's book](https://greenteapress.com/thinkpython2/html/)\n",
    "* These other things that are allowed, but probably not needed:\n",
    "    * Any of the other MCS 275 slide presentations\n",
    "    * Slides from any lecture of the previous course, [MCS 260, Fall 2021](https://www.dumas.io/teaching/2021/fall/mcs260/).\n",
    "    * Any lecture video posted on the [course Blackboard site](https://uic.blackboard.com/ultra/courses/_210110_1/cl/outline)\n",
    "    * [Downey's book](https://greenteapress.com/thinkpython2/html/)\n",
    "    * Any other textbook listed on the course blackboard site under \"Textbooks\"\n",
    "    * Anything in the course [sample code repository](https://github.com/emilydumas/mcs275spring2022/tree/main/samplecode).\n",
    "\n",
    "### Point distribution\n",
    "\n",
    "*This homework is a bit lighter than usual, because I know you're busy with Project 1.*\n",
    "\n",
    "This homework assignment has a single problem, number 2.  The grading breakdown is:\n",
    "\n",
    "| Points | Item |\n",
    "| --- | --- |\n",
    "| 2 | Autograder |\n",
    "| 4 | Problem 2 |\n",
    "| **6** | Total |\n",
    "\n",
    "The part marked \"autograder\" reflects points assigned to your submission based on some simple automated checks for Python syntax, etc..  The result of these checks is shown immediately after you submit.\n",
    "\n",
    "### What to do if you're stuck\n",
    "\n",
    "Ask your instructor or TA a question by email, in office hours, or on discord."
   ]
  },
  {
   "cell_type": "markdown",
   "metadata": {},
   "source": [
    "## Problem 1 doesn't exist\n",
    "\n",
    "In Gradescope, the score assigned to your homework submission by the autograder (checking for syntax and docstrings) will be recorded as \"Problem 1\".  Therefore, the numbering of the actual problems begins with 2."
   ]
  },
  {
   "cell_type": "markdown",
   "metadata": {},
   "source": [
    "## Problem 2: Debugging a write-once dictionary\n",
    "\n",
    "Below you'll find code that defines a class `WriteOnceDict` that is a subclass of `dict` which doesn't allow values associated to existing keys to be changed, nor even for an attempt to be made.  That is, if an instance `d` of `WriteOnceDict` already contains a key `k`, then\n",
    "```python\n",
    "d[k] = value\n",
    "```\n",
    "will raise an exception."
   ]
  },
  {
   "cell_type": "code",
   "execution_count": 3,
   "metadata": {},
   "outputs": [],
   "source": [
    "class WriteOnceDict(dict):\n",
    "    \"\"\"\n",
    "    Dictionary where an existing value cannot be changed.\n",
    "    \"\"\"\n",
    "    def __setitem__(self,k,v):\n",
    "        \"Create new key `k` with value `v`; if `k` is already a key, raise ValueError\"\n",
    "        if k in self:\n",
    "            raise ValueError(\"Attempt to change value associated to existing key {}.  This is not allowed by {}.\".format(\n",
    "                k,\n",
    "                self.__class__.__name__ # name of this class, as a string\n",
    "            ))\n",
    "        else:\n",
    "            super().__setitem__(k,v) # Call `dict` class setitem method\n",
    "                                     # Note: can't just say self[k]=v since that will call this method!\n",
    "                                     # Also, super() doesn't allow item assignment, e.g. super()[k]=v fails.\n"
   ]
  },
  {
   "cell_type": "markdown",
   "metadata": {},
   "source": [
    "Here's an example of how `WriteOnceDict` works:"
   ]
  },
  {
   "cell_type": "code",
   "execution_count": 4,
   "metadata": {},
   "outputs": [],
   "source": [
    "d = WriteOnceDict() # new empty WriteOnceDict container\n",
    "d[\"a\"] = \"Hello!\"   # create key\n",
    "d[15] = True        # create key"
   ]
  },
  {
   "cell_type": "code",
   "execution_count": 5,
   "metadata": {},
   "outputs": [
    {
     "ename": "ValueError",
     "evalue": "Attempt to change value associated to existing key a.  This is not allowed by WriteOnceDict.",
     "output_type": "error",
     "traceback": [
      "\u001b[0;31m---------------------------------------------------------------------------\u001b[0m",
      "\u001b[0;31mValueError\u001b[0m                                Traceback (most recent call last)",
      "\u001b[0;32m<ipython-input-5-9d6a17f7a530>\u001b[0m in \u001b[0;36m<module>\u001b[0;34m\u001b[0m\n\u001b[0;32m----> 1\u001b[0;31m \u001b[0md\u001b[0m\u001b[0;34m[\u001b[0m\u001b[0;34m\"a\"\u001b[0m\u001b[0;34m]\u001b[0m \u001b[0;34m=\u001b[0m \u001b[0;34m\"This will not work!\"\u001b[0m \u001b[0;31m# Attempt to change value of existing key\u001b[0m\u001b[0;34m\u001b[0m\u001b[0;34m\u001b[0m\u001b[0m\n\u001b[0m",
      "\u001b[0;32m<ipython-input-3-054cc750dc74>\u001b[0m in \u001b[0;36m__setitem__\u001b[0;34m(self, k, v)\u001b[0m\n\u001b[1;32m      6\u001b[0m         \u001b[0;34m\"Create new key `k` with value `v`; if `k` is already a key, raise ValueError\"\u001b[0m\u001b[0;34m\u001b[0m\u001b[0;34m\u001b[0m\u001b[0m\n\u001b[1;32m      7\u001b[0m         \u001b[0;32mif\u001b[0m \u001b[0mk\u001b[0m \u001b[0;32min\u001b[0m \u001b[0mself\u001b[0m\u001b[0;34m:\u001b[0m\u001b[0;34m\u001b[0m\u001b[0;34m\u001b[0m\u001b[0m\n\u001b[0;32m----> 8\u001b[0;31m             raise ValueError(\"Attempt to change value associated to existing key {}.  This is not allowed by {}.\".format(\n\u001b[0m\u001b[1;32m      9\u001b[0m                 \u001b[0mk\u001b[0m\u001b[0;34m,\u001b[0m\u001b[0;34m\u001b[0m\u001b[0;34m\u001b[0m\u001b[0m\n\u001b[1;32m     10\u001b[0m                 \u001b[0mself\u001b[0m\u001b[0;34m.\u001b[0m\u001b[0m__class__\u001b[0m\u001b[0;34m.\u001b[0m\u001b[0m__name__\u001b[0m \u001b[0;31m# name of this class, as a string\u001b[0m\u001b[0;34m\u001b[0m\u001b[0;34m\u001b[0m\u001b[0m\n",
      "\u001b[0;31mValueError\u001b[0m: Attempt to change value associated to existing key a.  This is not allowed by WriteOnceDict."
     ]
    }
   ],
   "source": [
    "d[\"a\"] = \"This will not work!\" # Attempt to change value of existing key"
   ]
  },
  {
   "cell_type": "markdown",
   "metadata": {},
   "source": [
    "### Can't change?  Challenge accepted.\n",
    "Unfortunately, the `WriteOnceDict` class doesn't *quite* work as promised.  The `dict` class has another method called `update` that can also change values associated to keys.  Specifically, if you call `d.update(e)`, where `e` is another dictionary, then every key-value pair from `e` will be copied into `d`, overwriting existing values if necessary.  And in the implementation of `WriteOnceDict` above, the inherited `update` method can still be used to make changes.  Here's an example:"
   ]
  },
  {
   "cell_type": "code",
   "execution_count": 6,
   "metadata": {},
   "outputs": [],
   "source": [
    "d = WriteOnceDict() # new empty WriteOnceDict container\n",
    "d[\"asdf\"] = \"I should not change\"\n",
    "d.update( {\"asdf\":\"And yet, here we are.\"} ) # No error!  It makes changes despite \"write once\" claim"
   ]
  },
  {
   "cell_type": "code",
   "execution_count": 7,
   "metadata": {},
   "outputs": [
    {
     "data": {
      "text/plain": [
       "'And yet, here we are.'"
      ]
     },
     "execution_count": 7,
     "metadata": {},
     "output_type": "execute_result"
    }
   ],
   "source": [
    "# Let's check that the value associated to \"asdf\" has actually changed\n",
    "d[\"asdf\"]"
   ]
  },
  {
   "cell_type": "markdown",
   "metadata": {},
   "source": [
    "### Fix `WriteOnceDict` so you can't change values with `.update(...)` either\n",
    "\n",
    "Take the code for `WriteOnceDict` above, copy it into a file `hwk3prob2.py` and fix the issue described above by adding an `update` method.  This method should expect a single dictionary as its argument, and should copy the key-value pairs into `self`, but refuse to modify any existing keys while doing so.  Below you'll find code showing the expected behavior of your revised `WriteOnceDict` class."
   ]
  },
  {
   "cell_type": "code",
   "execution_count": null,
   "metadata": {},
   "outputs": [],
   "source": [
    "# Demo of the desired behavior after your changes\n",
    "d = WriteOnceDict()\n",
    "d[\"asdf\"] = \"I should not change\"\n",
    "d.update( {\"asdf\":\"And yet, here we are.\"} ) # Now, this line will raise ValueError!"
   ]
  },
  {
   "cell_type": "markdown",
   "metadata": {},
   "source": [
    "```\n",
    "---------------------------------------------------------------------------\n",
    "ValueError                                Traceback (most recent call last)\n",
    "<ipython-input-57-454d90a0c660> in <module>\n",
    "      2 d = WriteOnceDict()\n",
    "      3 d[\"asdf\"] = \"I should not change\"\n",
    "----> 4 d.update( {\"asdf\":\"And yet, here we are.\"} ) # Now, this line will raise ValueError!\n",
    "\n",
    "[ ... part of output redacted because it shows the solution ... ]\n",
    "\n",
    "ValueError: Attempt to change value associated to existing key asdf.  This is not allowed by WriteOnceDict.\n",
    "```"
   ]
  },
  {
   "cell_type": "markdown",
   "metadata": {},
   "source": [
    "# Solution"
   ]
  },
  {
   "cell_type": "markdown",
   "metadata": {},
   "source": [
    "Note the new method `update()` below."
   ]
  },
  {
   "cell_type": "code",
   "execution_count": 8,
   "metadata": {},
   "outputs": [],
   "source": [
    "class WriteOnceDict(dict):\n",
    "    \"\"\"\n",
    "    Dictionary where an existing value cannot be changed.\n",
    "    \"\"\"\n",
    "    def __setitem__(self,k,v):\n",
    "        \"Create new key `k` with value `v`; if `k` is already a key, raise ValueError\"\n",
    "        if k in self:\n",
    "            raise ValueError(\"Attempt to change value associated to existing key {}.  This is not allowed by {}.\".format(\n",
    "                k,\n",
    "                self.__class__.__name__ # name of this class, as a string\n",
    "            ))\n",
    "        else:\n",
    "            super().__setitem__(k,v) # Call `dict` class setitem method\n",
    "                                     # Note: can't just say self[k]=v since that will call this method!\n",
    "                                     # Also, super() doesn't allow item assignment, e.g. super()[k]=v fails.\n",
    "\n",
    "    def update(self, other):\n",
    "        \"\"\"Add key-value pairs from `other` to this dictionary, raising ValueError if any of those\n",
    "        keys already exist\"\"\"\n",
    "        for key in other:\n",
    "            self[key] = other  # calls our __setitem__ method above, hence won't overwrite a key"
   ]
  },
  {
   "cell_type": "markdown",
   "metadata": {},
   "source": [
    "Remarks:\n",
    "1. It is perhaps a bit surprising that `dict.update` does not call `dict.__setitem__` itself.  (If it did, then we wouldn't need to make any changes to get `WriteOnceDict` to work.)\n",
    "1. You could also add the logic to detect and report an attempt to overwrite a key to `update`, but the solution above has the advantage that the error message only appears in one place (hence is easier to change if needed)."
   ]
  },
  {
   "cell_type": "code",
   "execution_count": 9,
   "metadata": {},
   "outputs": [
    {
     "ename": "ValueError",
     "evalue": "Attempt to change value associated to existing key asdf.  This is not allowed by WriteOnceDict.",
     "output_type": "error",
     "traceback": [
      "\u001b[0;31m---------------------------------------------------------------------------\u001b[0m",
      "\u001b[0;31mValueError\u001b[0m                                Traceback (most recent call last)",
      "\u001b[0;32m<ipython-input-9-5e90f8720180>\u001b[0m in \u001b[0;36m<module>\u001b[0;34m\u001b[0m\n\u001b[1;32m      1\u001b[0m \u001b[0md\u001b[0m \u001b[0;34m=\u001b[0m \u001b[0mWriteOnceDict\u001b[0m\u001b[0;34m(\u001b[0m\u001b[0;34m)\u001b[0m \u001b[0;31m# new empty WriteOnceDict container\u001b[0m\u001b[0;34m\u001b[0m\u001b[0;34m\u001b[0m\u001b[0m\n\u001b[1;32m      2\u001b[0m \u001b[0md\u001b[0m\u001b[0;34m[\u001b[0m\u001b[0;34m\"asdf\"\u001b[0m\u001b[0;34m]\u001b[0m \u001b[0;34m=\u001b[0m \u001b[0;34m\"I should not change\"\u001b[0m\u001b[0;34m\u001b[0m\u001b[0;34m\u001b[0m\u001b[0m\n\u001b[0;32m----> 3\u001b[0;31m \u001b[0md\u001b[0m\u001b[0;34m.\u001b[0m\u001b[0mupdate\u001b[0m\u001b[0;34m(\u001b[0m \u001b[0;34m{\u001b[0m\u001b[0;34m\"asdf\"\u001b[0m\u001b[0;34m:\u001b[0m\u001b[0;34m\"This attempt to change will be in vain.\"\u001b[0m\u001b[0;34m}\u001b[0m \u001b[0;34m)\u001b[0m \u001b[0;31m# This line should now give us an error (which we want!)\u001b[0m\u001b[0;34m\u001b[0m\u001b[0;34m\u001b[0m\u001b[0m\n\u001b[0m",
      "\u001b[0;32m<ipython-input-8-a72cebf96b8b>\u001b[0m in \u001b[0;36mupdate\u001b[0;34m(self, other)\u001b[0m\n\u001b[1;32m     19\u001b[0m         keys already exist\"\"\"\n\u001b[1;32m     20\u001b[0m         \u001b[0;32mfor\u001b[0m \u001b[0mkey\u001b[0m \u001b[0;32min\u001b[0m \u001b[0mother\u001b[0m\u001b[0;34m:\u001b[0m\u001b[0;34m\u001b[0m\u001b[0;34m\u001b[0m\u001b[0m\n\u001b[0;32m---> 21\u001b[0;31m             \u001b[0mself\u001b[0m\u001b[0;34m[\u001b[0m\u001b[0mkey\u001b[0m\u001b[0;34m]\u001b[0m \u001b[0;34m=\u001b[0m \u001b[0mother\u001b[0m  \u001b[0;31m# calls our __setitem__ method above, hence won't overwrite a key\u001b[0m\u001b[0;34m\u001b[0m\u001b[0;34m\u001b[0m\u001b[0m\n\u001b[0m",
      "\u001b[0;32m<ipython-input-8-a72cebf96b8b>\u001b[0m in \u001b[0;36m__setitem__\u001b[0;34m(self, k, v)\u001b[0m\n\u001b[1;32m      6\u001b[0m         \u001b[0;34m\"Create new key `k` with value `v`; if `k` is already a key, raise ValueError\"\u001b[0m\u001b[0;34m\u001b[0m\u001b[0;34m\u001b[0m\u001b[0m\n\u001b[1;32m      7\u001b[0m         \u001b[0;32mif\u001b[0m \u001b[0mk\u001b[0m \u001b[0;32min\u001b[0m \u001b[0mself\u001b[0m\u001b[0;34m:\u001b[0m\u001b[0;34m\u001b[0m\u001b[0;34m\u001b[0m\u001b[0m\n\u001b[0;32m----> 8\u001b[0;31m             raise ValueError(\"Attempt to change value associated to existing key {}.  This is not allowed by {}.\".format(\n\u001b[0m\u001b[1;32m      9\u001b[0m                 \u001b[0mk\u001b[0m\u001b[0;34m,\u001b[0m\u001b[0;34m\u001b[0m\u001b[0;34m\u001b[0m\u001b[0m\n\u001b[1;32m     10\u001b[0m                 \u001b[0mself\u001b[0m\u001b[0;34m.\u001b[0m\u001b[0m__class__\u001b[0m\u001b[0;34m.\u001b[0m\u001b[0m__name__\u001b[0m \u001b[0;31m# name of this class, as a string\u001b[0m\u001b[0;34m\u001b[0m\u001b[0;34m\u001b[0m\u001b[0m\n",
      "\u001b[0;31mValueError\u001b[0m: Attempt to change value associated to existing key asdf.  This is not allowed by WriteOnceDict."
     ]
    }
   ],
   "source": [
    "d = WriteOnceDict() # new empty WriteOnceDict container\n",
    "d[\"asdf\"] = \"I should not change\"\n",
    "d.update( {\"asdf\":\"This attempt to change will be in vain.\"} ) # This line should now give us an error (which we want!)"
   ]
  },
  {
   "cell_type": "markdown",
   "metadata": {},
   "source": [
    "### Revision history\n",
    "\n",
    "* 2022-02-03 Initial publication of solutions"
   ]
  }
 ],
 "metadata": {
  "kernelspec": {
   "display_name": "Python 3",
   "language": "python",
   "name": "python3"
  },
  "language_info": {
   "codemirror_mode": {
    "name": "ipython",
    "version": 3
   },
   "file_extension": ".py",
   "mimetype": "text/x-python",
   "name": "python",
   "nbconvert_exporter": "python",
   "pygments_lexer": "ipython3",
   "version": "3.8.10"
  }
 },
 "nbformat": 4,
 "nbformat_minor": 4
}
