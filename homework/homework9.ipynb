{
 "cells": [
  {
   "cell_type": "markdown",
   "metadata": {},
   "source": [
    "# MCS 275 Spring 2022 Homework 9\n",
    "\n",
    "* Course Instructor: Emily Dumas"
   ]
  },
  {
   "cell_type": "markdown",
   "metadata": {},
   "source": [
    "## Instructions:\n",
    "\n",
    "* Complete the problems below, which ask you to write Python scripts.\n",
    "* Upload your python code directly to gradescope, i.e. upload the `.py` files containing your work.  (If you upload a screenshot or other file format, you won't get credit.)\n",
    "\n",
    "### Deadline\n",
    "\n",
    "This homework assignment must be submitted in Gradescope by **Noon central time on Tuesday 15 March 2022**.\n",
    "\n",
    "### Collaboration\n",
    "\n",
    "**Collaboration is prohibited**, and you may only access resources (books, online, etc.) listed below.\n",
    "\n",
    "### Resources you may consult\n",
    "\n",
    "The course materials you may refer to for this homework are:\n",
    "\n",
    "* [Worksheet 9 Solutions](https://www.dumas.io/teaching/2022/spring/mcs275/nbview/worksheets/worksheet9soln.html)\n",
    "* [Lecture 21 - Traversals](http://dumas.io/teaching/2022/spring/mcs275/slides/lecture21.html)\n",
    "* [Lecture 22 - set and defaultdict](http://dumas.io/teaching/2022/spring/mcs275/slides/lecture22.html)\n",
    "* [Lecture 23 - CSV and JSON](http://dumas.io/teaching/2022/spring/mcs275/slides/lecture23.html)\n",
    "* [Chapter 7 of Miller and Ranum](https://runestone.academy/runestone/books/published/pythonds/Trees/toctree.html)\n",
    "* [Downey's book](https://greenteapress.com/thinkpython2/html/)\n",
    "\n",
    "### Point distribution\n",
    "\n",
    "This homework assignment has a single problem, called *Problem 2*.  The grading breakdown is:\n",
    "\n",
    "| Points | Item |\n",
    "| --- | --- |\n",
    "| 2 | Autograder |\n",
    "| 4 | Problem 2 |\n",
    "| **6** | Total |\n",
    "\n",
    "The part marked \"autograder\" reflects points assigned to your submission based on some simple automated checks for Python syntax, etc..  The result of these checks is shown immediately after you submit.\n",
    "\n",
    "### What to do if you're stuck\n",
    "\n",
    "Ask your instructor or TA a question by email, in office hours, or on discord."
   ]
  },
  {
   "cell_type": "markdown",
   "metadata": {},
   "source": [
    "## No problem 1 as usual"
   ]
  },
  {
   "cell_type": "markdown",
   "metadata": {},
   "source": [
    "## Problem 2: JSON key list\n",
    "\n",
    "Make a program `hwk9.py` that reads a JSON file specified as the first command line argument, and which prints a list of all the keys that appear in any of the nested objects in that file.  You can assume that JSON contains only numbers, strings, `null` (the JSON value that becomes Python's `None`), and objects (which Python converts to dictionaries); it will not contain any lists.\n",
    "\n",
    "For example, if the JSON file contains\n",
    "```json\n",
    "{\n",
    "    \"slinky\": {\n",
    "        \"green\": 11,\n",
    "        \"friend\": {\n",
    "            \"slinky\": 2,\n",
    "            \"graft\": 12.5\n",
    "        },\n",
    "        \"plus\": \"grand\"\n",
    "    },\n",
    "    \"present\": {\n",
    "        \"saucer\": \"orange\",\n",
    "        \"brand\": 97.5\n",
    "    },\n",
    "    \"nonce\": null\n",
    "}\n",
    "```\n",
    "then the output might be:\n",
    "```\n",
    "slinky\n",
    "green\n",
    "friend\n",
    "graft\n",
    "plus\n",
    "present\n",
    "saucer\n",
    "brand\n",
    "nonce\n",
    "```\n",
    "It would be acceptable for the same list of keys to be printed in a different order.\n",
    "\n",
    "Notice that even if a key is used in several places, it only appears once in the output list.  Since you only want to keep track of distinct keys, **make proper use of Python `set` object to keep track of the keys that have been seen.**\n",
    "\n",
    "Since you'll need to traverse the nested objects within the JSON file looking for keys, this problem is a natural candidate for recursion.  Keep in mind that if any value is a `dict`, then further recursion is needed to expore its keys.  If the value is not `dict`, then there is no need to search further."
   ]
  },
  {
   "cell_type": "markdown",
   "metadata": {},
   "source": [
    "### Reminder\n",
    "\n",
    "If you ever find yourself writing\n",
    "```\n",
    "for k in d.keys():\n",
    "```\n",
    "where `d` is a dict, you can *and should* replace it with the equivalent but simpler\n",
    "```\n",
    "for k in d:\n",
    "```\n",
    "In fact, **whenever you treat a `dict` as an iterable, the items you iterate over are the keys!**  This usually means that calling `.keys()` is unnecessary."
   ]
  }
 ],
 "metadata": {
  "kernelspec": {
   "display_name": "Python 3",
   "language": "python",
   "name": "python3"
  },
  "language_info": {
   "codemirror_mode": {
    "name": "ipython",
    "version": 3
   },
   "file_extension": ".py",
   "mimetype": "text/x-python",
   "name": "python",
   "nbconvert_exporter": "python",
   "pygments_lexer": "ipython3",
   "version": "3.8.10"
  }
 },
 "nbformat": 4,
 "nbformat_minor": 4
}
