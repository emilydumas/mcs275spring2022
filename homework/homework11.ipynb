{
 "cells": [
  {
   "cell_type": "markdown",
   "metadata": {},
   "source": [
    "# MCS 275 Spring 2022 Homework 11\n",
    "\n",
    "* Course Instructor: Emily Dumas"
   ]
  },
  {
   "cell_type": "markdown",
   "metadata": {},
   "source": [
    "## Instructions:\n",
    "\n",
    "* Complete the problems below, which ask you to write Python scripts.\n",
    "* Upload your python code directly to gradescope, i.e. upload the `.py` files containing your work.  (If you upload a screenshot or other file format, you won't get credit.)\n",
    "\n",
    "### Deadline\n",
    "\n",
    "This homework assignment must be submitted in Gradescope by **Noon central time on Tuesday 5 April 2022**.\n",
    "\n",
    "### Collaboration\n",
    "\n",
    "**Collaboration is prohibited**, and you may only access resources (books, online, etc.) listed below.\n",
    "\n",
    "### Resources you may consult\n",
    "\n",
    "These things might be helpful while working on the problems.  Remember that for worksheets,  we don't strictly limit what resources you can consult, so these are only suggestions.\n",
    "\n",
    "* [Worksheet 11 Solutions](https://www.dumas.io/teaching/2022/spring/mcs275/nbview/worksheets/worksheet11soln.html)\n",
    "* [Lecture 27](http://dumas.io/teaching/2022/spring/mcs275/slides/lecture27.html)\n",
    "* [Lecture 28](http://dumas.io/teaching/2022/spring/mcs275/slides/lecture28.html)\n",
    "* [Lecture 29](http://dumas.io/teaching/2022/spring/mcs275/slides/lecture29.html)\n",
    "* [VanderPlas](https://jakevdp.github.io/PythonDataScienceHandbook/) -- A textbook, likely the most useful for these problems!\n",
    "* [Matplotlib documentation](https://matplotlib.org/)\n",
    "* The following code notebooks created in Lecture:\n",
    "    * [Julia set notebook 1](https://www.dumas.io/teaching/2022/spring/mcs275/nbview/samplecode/numpy/julia.html)\n",
    "    * [Julia set notebook 2 (comparing various methods)](https://www.dumas.io/teaching/2022/spring/mcs275/nbview/samplecode/numpy/julia2.html)\n",
    "    * [Matplotlib intro notebook](https://www.dumas.io/teaching/2022/spring/mcs275/nbview/samplecode/matplotlib/mpl-intro.html)\n",
    "* [Downey's book](https://greenteapress.com/thinkpython2/html/)\n",
    "\n",
    "### Point distribution\n",
    "\n",
    "This homework assignment has one problem.  The grading breakdown is:\n",
    "\n",
    "| Points | Item |\n",
    "| --- | --- |\n",
    "| 2 | Autograder |\n",
    "| 4 | Problem 2 |\n",
    "| **6** | Total |\n",
    "\n",
    "The part marked \"autograder\" reflects points assigned to your submission based on some simple automated checks for Python syntax, etc..  The result of these checks is shown immediately after you submit.\n",
    "\n",
    "### What to do if you're stuck\n",
    "\n",
    "Ask your instructor or TA a question by email, in office hours, or on discord."
   ]
  },
  {
   "cell_type": "markdown",
   "metadata": {},
   "source": [
    "## No problem 1 as usual"
   ]
  },
  {
   "cell_type": "markdown",
   "metadata": {},
   "source": [
    "## Problem 2: Computer room cooling capacity\n",
    "\n",
    "This problem is about the temperature in a room full of computers used for scientific calculations.  The room is cooled by an air conditioning (A/C) unit.  Imagine you suspect the A/C has insufficient capacity for the room, but only when the computers have sustained high utilization and the outside air temperature is very high (e.g. mid-summer).  In general, computers emit more heat when the CPU utilization is high.\n",
    "\n",
    "Use matplotlib to make a visualization of the computer room air temperature and the outside air temperature on the same set of axes.  This is the sort of graph you might use to investigate your suspicions about cooling capacity.\n",
    "\n",
    "The data you need for this is available in two files:\n",
    "\n",
    "* [roomtemp.csv](https://www.dumas.io/teaching/2022/spring/mcs275/data/roomtemp.csv)\n",
    "    - It has two columns: `timestamp` (the time in seconds since midnight on 1 January 1970 GMT) and `temp` which holds the room temperature in Fahrenheit.  This file is large, because measurements are taken every minute.\n",
    "\n",
    "* [weather.csv](https://www.dumas.io/teaching/2022/spring/mcs275/data/weather.csv)\n",
    "    - It has two columns: `timestamp` (as above) and `temp` which holds the outside air temperature.  This file is small, because the air temperature is only recorded once per hour.\n",
    "\n",
    "Your script should be called `hwk11.py`, and should make a plot with the following characteristics:\n",
    "* The data from both CSV files is shown, one line for each file\n",
    "* A blue line shows the computer room temperature\n",
    "* A red line shows the outside air temperature\n",
    "* The x axis has no label, and remains in units of seconds since 1 Jan 1970  GMT\n",
    "* The y axis is labeled \"temp (F)\"\n",
    "* The plot is titled \"Computer room and outside air temps\"\n",
    "* The plot has a legend which refers to the lines as \"room\" and \"outside\".\n",
    "\n",
    "Here's a hand sketch showing the overall design of the intended plot.  It doesn't show the actual data.\n",
    "\n",
    "![Sketch of the plot design](images/temp-plot-schematic.png)\n",
    "\n",
    "\n",
    "**Then, once you've seen the actual plot, answer these questions in comments in your file:**\n",
    "* Do you see any sign that the room temperature sensor might be malfunctioning?  If so, where?\n",
    "* Do you think this plot can be used to draw a conclusion about the original question---whether the room has enough A/C capacity?  If not, what more information would you want?\n",
    "\n",
    "### Hints\n",
    "\n",
    "1. You don't need to do anything special to make two plots appear on the same axes.  If you simply call `plt.plot()` twice, that's what will happen.\n",
    "2. The regularl oscillations in outside tempearture seen in the plot are days!  (The x axis units might obscure this fact, but the plot shows about two weeks of data.)"
   ]
  }
 ],
 "metadata": {
  "kernelspec": {
   "display_name": "Python 3",
   "language": "python",
   "name": "python3"
  },
  "language_info": {
   "codemirror_mode": {
    "name": "ipython",
    "version": 3
   },
   "file_extension": ".py",
   "mimetype": "text/x-python",
   "name": "python",
   "nbconvert_exporter": "python",
   "pygments_lexer": "ipython3",
   "version": "3.8.10"
  }
 },
 "nbformat": 4,
 "nbformat_minor": 4
}
