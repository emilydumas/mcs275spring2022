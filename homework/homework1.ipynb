{
 "cells": [
  {
   "cell_type": "markdown",
   "metadata": {},
   "source": [
    "# MCS 275 Spring 2022 Homework 1\n",
    "\n",
    "* Course Instructor: Emily Dumas"
   ]
  },
  {
   "cell_type": "markdown",
   "metadata": {},
   "source": [
    "## Instructions:\n",
    "\n",
    "* Complete the problems below, which ask you to write Python scripts.\n",
    "* Upload your python code directly to gradescope, i.e. upload the `.py` files containing your work.  (If you upload a screenshot or other file format, you won't get credit.)\n",
    "\n",
    "### Deadline\n",
    "This homework assignment must be submitted in Gradescope by **Noon central time on Wednesday 19 January 2022**.\n",
    "\n",
    "(Note:That's a deviation from the usual schedule where homework is due on Tuesdays.)\n",
    "\n",
    "### Collaboration\n",
    "\n",
    "**Collaboration is prohibited**, and you may only access resources (books, online, etc.) listed below.\n",
    "\n",
    "### Resources you may consult\n",
    "\n",
    "The course materials you may refer to for this homework are:\n",
    "* [Worksheet 1 Solutions](https://www.dumas.io/teaching/2022/spring/mcs275/nbview/worksheets/worksheet1soln.html)\n",
    "* [Python tour](https://www.dumas.io/teaching/2022/spring/mcs275/nbview/samplecode/python_tour.html)\n",
    "* These other things that are allowed, but probably not needed:\n",
    "    * Any of the MCS 275 slide presentations\n",
    "    * Slides from any lecture of the previous course, [MCS 260, Fall 2021](https://www.dumas.io/teaching/2021/fall/mcs260/).\n",
    "    * Any lecture video posted on the [course Blackboard site](https://uic.blackboard.com/ultra/courses/_210110_1/cl/outline)\n",
    "    * [Downey's book](https://greenteapress.com/thinkpython2/html/)\n",
    "    * Any other textbook listed on the course blackboard site under \"Textbooks\"\n",
    "    * Anything in the course [sample code repository](https://github.com/emilydumas/mcs275spring2022/tree/main/samplecode).\n",
    "\n",
    "### Point distribution\n",
    "\n",
    "This homework assignment has 2 problems, numbered 2 and 3.  The grading breakdown is:\n",
    "\n",
    "| Points | Item |\n",
    "| --- | --- |\n",
    "| 2 | Autograder |\n",
    "| 4 | Problem 2 |\n",
    "| 4 | Problem 3 |\n",
    "| **10** | Total |\n",
    "\n",
    "The part marked \"autograder\" reflects points assigned to your submission based on some simple automated checks for Python syntax, etc.  The result of these checks is shown immediately after you submit.\n",
    "\n",
    "### What to do if you're stuck\n",
    "\n",
    "Ask your instructor or TA a question by email, in office hours, or on discord."
   ]
  },
  {
   "cell_type": "markdown",
   "metadata": {},
   "source": [
    "## Problem 1 doesn't exist\n",
    "\n",
    "In Gradescope, the score assigned to your homework submission by the autograder (checking for syntax and docstrings) will be recorded as \"Problem 1\".  Therefore, the numbering of the actual problems begins with 2."
   ]
  },
  {
   "cell_type": "markdown",
   "metadata": {},
   "source": [
    "## Problem 2: Filled fancy box"
   ]
  },
  {
   "cell_type": "markdown",
   "metadata": {},
   "source": [
    "In worksheet 1, you made a program to draw a box using unicode box-drawing characters.  An 9x6 box of that type looks like this:\n",
    "```\n",
    "╔═══════╗ \n",
    "║       ║\n",
    "║       ║\n",
    "║       ║\n",
    "║       ║\n",
    "╚═══════╝\n",
    "```\n",
    "Modify that program (calling the new one `hwk1prob2.py`) so that it generates a \"fancy box\" with decorative inset corners and plus signs, like this:\n",
    "```\n",
    "+╔═════╗+\n",
    "╔╝     ╚╗\n",
    "║       ║\n",
    "║       ║\n",
    "╚╗     ╔╝ \n",
    "+╚═════╝+\n",
    "```\n",
    "and so that each empty space inside the box gets filled with a copy of a specified character, e.g.\n",
    "```\n",
    "+╔══════════════╗+\n",
    "╔╝FFFFFFFFFFFFFF╚╗\n",
    "║FFFFFFFFFFFFFFFF║\n",
    "╚╗FFFFFFFFFFFFFF╔╝ \n",
    "+╚══════════════╝+\n",
    "```\n",
    "\n",
    "Specifically:\n",
    "* The output filename will be given as the first command line argument\n",
    "* The total width of the box, in characters, is the second command line argument (will be at least 5)\n",
    "* The total height of the box, in lines, is the third command line argument (will be at least 5)\n",
    "* The fill character (\"F\" in the example above) is the fourth command line argument\n",
    "\n",
    "Examples:\n",
    "* If called as\n",
    "```\n",
    "python3 hwk1prob2.py out1.txt 9 6 j\n",
    "```\n",
    "the output file `out1.txt` is created and the following is written to it:\n",
    "```\n",
    "+╔═════╗+\n",
    "╔╝jjjjj╚╗\n",
    "║jjjjjjj║\n",
    "║jjjjjjj║\n",
    "╚╗jjjjj╔╝ \n",
    "+╚═════╝+\n",
    "```\n",
    "\n",
    "* If called as\n",
    "```\n",
    "python3 hwk1prob2.py out2.txt 15 5 X\n",
    "```\n",
    "the output file `out2.txt` is created and the following is written to it:\n",
    "```\n",
    "+╔═══════════╗+\n",
    "╔╝XXXXXXXXXXX╚╗\n",
    "║XXXXXXXXXXXXX║\n",
    "╚╗XXXXXXXXXXX╔╝ \n",
    "+╚═══════════╝+\n",
    "```"
   ]
  },
  {
   "cell_type": "markdown",
   "metadata": {},
   "source": [
    "## Problem 3: Finding 260 in powers of 275\n",
    "\n",
    "The large integer shown below is $275^{50}$ (or in Python syntax, `275**50`):\n",
    "\n",
    "\n",
    " 9**260**5054467343067837474447744797179339681065959901609623272419896243561247711783591951562044641832471825182437896728515625\n",
    "\n",
    "If you look near the beginning, you'll see that the three digits 260 appear inside this number (contiguously).  Those digits are shown in bold.\n",
    "\n",
    "There are other powers of 275 that contain 260 within the decimal digits, and the one above isn't even the smallest power that works.\n",
    "\n",
    "**Write a program to find the four smallest powers of 275 that contain 260 in their decimal digits.  Have it print just the exponents (e.g. 50 in the example above), rather than the actual huge integer.**\n",
    "\n",
    "Save your program as `hwk1prob3.py` and submit it.\n",
    "\n",
    "**Note:** We're not looking for 2, 6, and 0 to appear in arbitrary places.  They must be next to one another and in the order 260.  So, for example, $275^3 = 20796875$ wouldn't count."
   ]
  },
  {
   "cell_type": "markdown",
   "metadata": {},
   "source": [
    "## Special request\n",
    "\n",
    "Add a comment at the bottom of the program you wrote in the last problem indicating how long it took you to complete this entire assignment, e.g.\n",
    "\n",
    "```\n",
    "# Completing homework 1 took me about 1 hour and 25 minutes to complete, including the time it took to read the instructions and questions.\n",
    "```"
   ]
  },
  {
   "cell_type": "markdown",
   "metadata": {},
   "source": [
    "### Revision history\n",
    "\n",
    "* 2022-01-13 Initial publication\n",
    "* 2022-01-14 Changed @ to X in second example for problem 2, because the @ character causes problems for some OS/terminal combinations.\n"
   ]
  }
 ],
 "metadata": {
  "kernelspec": {
   "display_name": "Python 3",
   "language": "python",
   "name": "python3"
  },
  "language_info": {
   "codemirror_mode": {
    "name": "ipython",
    "version": 3
   },
   "file_extension": ".py",
   "mimetype": "text/x-python",
   "name": "python",
   "nbconvert_exporter": "python",
   "pygments_lexer": "ipython3",
   "version": "3.8.10"
  }
 },
 "nbformat": 4,
 "nbformat_minor": 4
}
