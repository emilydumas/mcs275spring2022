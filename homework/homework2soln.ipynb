{
 "cells": [
  {
   "cell_type": "markdown",
   "metadata": {},
   "source": [
    "# MCS 275 Spring 2022 Homework 2 Solutions\n",
    "\n",
    "* Course Instructor: Emily Dumas\n",
    "* Solutions prepared by: Johnny Joyce"
   ]
  },
  {
   "cell_type": "markdown",
   "metadata": {},
   "source": [
    "## Instructions:\n",
    "\n",
    "* Complete the problems below, which ask you to write Python scripts.\n",
    "* Upload your python code directly to gradescope, i.e. upload the `.py` files containing your work.  (If you upload a screenshot or other file format, you won't get credit.)\n",
    "\n",
    "### Deadline\n",
    "This homework assignment must be submitted in Gradescope by **Noon central time on Tuesday 25 January 2022**.\n",
    "\n",
    "### Collaboration\n",
    "\n",
    "**Collaboration is prohibited**, and you may only access resources (books, online, etc.) listed below.\n",
    "\n",
    "### Resources you may consult\n",
    "\n",
    "The course materials you may refer to for this homework are:\n",
    "* [Worksheet 2 Solutions](https://www.dumas.io/teaching/2022/spring/mcs275/nbview/worksheets/worksheet2soln.html)\n",
    "* [Python tour](https://www.dumas.io/teaching/2022/spring/mcs275/nbview/samplecode/python_tour.html)\n",
    "* These other things that are allowed, but probably not needed:\n",
    "    * Any of the MCS 275 slide presentations\n",
    "    * Slides from any lecture of the previous course, [MCS 260, Fall 2021](https://www.dumas.io/teaching/2021/fall/mcs260/).\n",
    "    * Any lecture video posted on the [course Blackboard site](https://uic.blackboard.com/ultra/courses/_210110_1/cl/outline)\n",
    "    * [Downey's book](https://greenteapress.com/thinkpython2/html/)\n",
    "    * Any other textbook listed on the course blackboard site under \"Textbooks\"\n",
    "    * Anything in the course [sample code repository](https://github.com/emilydumas/mcs275spring2022/tree/main/samplecode).\n",
    "\n",
    "### Point distribution\n",
    "\n",
    "This homework assignment has 2 problems, numbered 2 and 3.  The grading breakdown is:\n",
    "\n",
    "| Points | Item |\n",
    "| --- | --- |\n",
    "| 2 | Autograder |\n",
    "| 4 | Problem 2 |\n",
    "| 4 | Problem 3 |\n",
    "| **10** | Total |\n",
    "\n",
    "The part marked \"autograder\" reflects points assigned to your submission based on some simple automated checks for Python syntax, etc.  The result of these checks is shown immediately after you submit.\n",
    "\n",
    "### What to do if you're stuck\n",
    "\n",
    "Ask your instructor or TA a question by email, in office hours, or on discord."
   ]
  },
  {
   "cell_type": "markdown",
   "metadata": {},
   "source": [
    "## Problem 1 doesn't exist\n",
    "\n",
    "In Gradescope, the score assigned to your homework submission by the autograder (checking for syntax and docstrings) will be recorded as \"Problem 1\".  Therefore, the numbering of the actual problems begins with 2."
   ]
  },
  {
   "cell_type": "markdown",
   "metadata": {},
   "source": [
    "## Problem 2: Local extremum count\n",
    "\n",
    "An element of a list is a *local extremum* if one of these conditions holds:\n",
    "* The element is greater than or equal to its neighboring elements (i.e. it is a local maximum)\n",
    "* The element is less than or equal to its neighboring elements (i.e. it is a local minimum)\n",
    "\n",
    "Note an element can be both a local maximum and local minimum!\n",
    "\n",
    "In a file `hwk2prob2.py`, write a function `LEC(L)` that takes a list `L` whose elements are floats or integers and returns the number of local extrema in the list.\n",
    "\n",
    "**Suggested strategy:**  Test each element of the list to see whether it satisfies one of the conditions above, keeping a running count to return at the end.\n",
    "\n",
    "Some cases to think about / test:\n",
    "* The first and last elements of a list have only one neighbor, so they are always either local minima or local maxima.\n",
    "* If all elements of the list are equal (e.g. `L = [275,275,275,275,275]`), then every element of the list is both a local maximum and a local minimum, and so the return value of `LEC` would be the length of the list.  (Don't check for this separately; it should be a consequence \n",
    "* If `L` has 0 or 1 elements, then there are no neighbors so the definition breaks down.  In these cases, just return `len(L)`.\n",
    "\n",
    "Sample return values for certain inputs are shown below."
   ]
  },
  {
   "cell_type": "markdown",
   "metadata": {},
   "source": [
    "# Solution"
   ]
  },
  {
   "cell_type": "code",
   "execution_count": 13,
   "metadata": {},
   "outputs": [],
   "source": [
    "def LEC(L):\n",
    "    '''Given a list L, returns number of local extrema in list'''\n",
    "    \n",
    "    extremum_count = 0 # Counter for number of extrema found so far\n",
    "    \n",
    "    for index, value in enumerate(L):\n",
    "    \n",
    "        if index == 0: # If we are looking at the first value\n",
    "            extremum_count += 1 # First value must be extremum (always >= or <= than its neighbor)\n",
    "                \n",
    "        elif index == len(L) - 1: # If we are looking at the last value\n",
    "            extremum_count += 1 # Last value must be extremum (always >= or <= than its neighbor)\n",
    "        \n",
    "        # If we are not looking at first or last value\n",
    "        else:\n",
    "            \n",
    "            # If value is local maximum\n",
    "            if L[index - 1] <= value and L[index + 1] <= value:\n",
    "                extremum_count += 1\n",
    "                \n",
    "            # If value is local minimum\n",
    "            elif L[index - 1] >= value and L[index + 1] >= value:\n",
    "                extremum_count += 1\n",
    "                \n",
    "    return extremum_count"
   ]
  },
  {
   "cell_type": "code",
   "execution_count": 14,
   "metadata": {},
   "outputs": [
    {
     "data": {
      "text/plain": [
       "0"
      ]
     },
     "execution_count": 14,
     "metadata": {},
     "output_type": "execute_result"
    }
   ],
   "source": [
    "LEC([])"
   ]
  },
  {
   "cell_type": "code",
   "execution_count": 15,
   "metadata": {},
   "outputs": [
    {
     "data": {
      "text/plain": [
       "1"
      ]
     },
     "execution_count": 15,
     "metadata": {},
     "output_type": "execute_result"
    }
   ],
   "source": [
    "LEC([275])"
   ]
  },
  {
   "cell_type": "code",
   "execution_count": 16,
   "metadata": {},
   "outputs": [
    {
     "data": {
      "text/plain": [
       "2"
      ]
     },
     "execution_count": 16,
     "metadata": {},
     "output_type": "execute_result"
    }
   ],
   "source": [
    "LEC([1,2,3,4])"
   ]
  },
  {
   "cell_type": "code",
   "execution_count": 17,
   "metadata": {},
   "outputs": [
    {
     "data": {
      "text/plain": [
       "2"
      ]
     },
     "execution_count": 17,
     "metadata": {},
     "output_type": "execute_result"
    }
   ],
   "source": [
    "LEC([1,2,3,4,5,6,7,8,9,10])"
   ]
  },
  {
   "cell_type": "code",
   "execution_count": 18,
   "metadata": {},
   "outputs": [
    {
     "data": {
      "text/plain": [
       "9"
      ]
     },
     "execution_count": 18,
     "metadata": {},
     "output_type": "execute_result"
    }
   ],
   "source": [
    "LEC([3,1,4,1,5,9,2,6,5,3,5,8]) # length is 12, but indices 4, 8, and 10 are not local extrema"
   ]
  },
  {
   "cell_type": "code",
   "execution_count": 19,
   "metadata": {},
   "outputs": [
    {
     "data": {
      "text/plain": [
       "7"
      ]
     },
     "execution_count": 19,
     "metadata": {},
     "output_type": "execute_result"
    }
   ],
   "source": [
    "LEC([5,5,5,5,5,5,5]) # length 7, all equal, hence all extrema"
   ]
  },
  {
   "cell_type": "code",
   "execution_count": 20,
   "metadata": {},
   "outputs": [
    {
     "data": {
      "text/plain": [
       "4"
      ]
     },
     "execution_count": 20,
     "metadata": {},
     "output_type": "execute_result"
    }
   ],
   "source": [
    "LEC([1,1,2,2]) # all are extrema: [local max and min, local min, local max, local max and min]"
   ]
  },
  {
   "cell_type": "markdown",
   "metadata": {},
   "source": [
    "## Problem 3: Roll until break even\n",
    "\n",
    "Imagine you have a standard cubical die whose six sides are labeled with these numbers:\n",
    "```\n",
    "-3, -2, -1, 1, 2,3\n",
    "```\n",
    "Using such a die you can play the following game:  You start with a score of 0 points.  Each time you roll the die, you add the number that shows up to your score.  If your score ever returns to 0 points again, you win.\n",
    "\n",
    "In a file `hwk2prob3.py`, write a program that plays this game 10 times, each time printing how many rolls it took to win.  The output should look like this:\n",
    "```\n",
    "Game ended after 219 rolls\n",
    "Game ended after 2 rolls\n",
    "Game ended after 2 rolls\n",
    "Game ended after 6 rolls\n",
    "Game ended after 4 rolls\n",
    "Game ended after 4 rolls\n",
    "Game ended after 1202 rolls\n",
    "Game ended after 2 rolls\n",
    "Game ended after 37 rolls\n",
    "Game ended after 4 rolls\n",
    "```"
   ]
  },
  {
   "cell_type": "markdown",
   "metadata": {},
   "source": [
    "# Solution"
   ]
  },
  {
   "cell_type": "code",
   "execution_count": 12,
   "metadata": {},
   "outputs": [
    {
     "name": "stdout",
     "output_type": "stream",
     "text": [
      "Game ended after 25496 rolls\n",
      "Game ended after 1598 rolls\n",
      "Game ended after 7 rolls\n",
      "Game ended after 3 rolls\n",
      "Game ended after 61 rolls\n",
      "Game ended after 53 rolls\n",
      "Game ended after 5 rolls\n",
      "Game ended after 44 rolls\n",
      "Game ended after 11 rolls\n",
      "Game ended after 2 rolls\n"
     ]
    }
   ],
   "source": [
    "import random\n",
    "\n",
    "def roll_die():\n",
    "    '''Randomly returns one of [-3, -2, -1, 1, 2, 3] with equal probability'''\n",
    "    return random.choice([-3, -2, -1, 1, 2, 3])\n",
    "\n",
    "\n",
    "def play_game():\n",
    "    '''Plays the game where we roll dice until returning to 0. Returns number of times dice were rolled'''\n",
    "    \n",
    "    score = 0\n",
    "\n",
    "    # Roll die once before starting the loop so we don't have a score of zero\n",
    "    score += roll_die()\n",
    "\n",
    "    times_rolled = 1 # Start at 1 since we just rolled the die\n",
    "\n",
    "    while score != 0: # Keep rolling until we get back to 0\n",
    "        score += roll_die()\n",
    "        times_rolled += 1\n",
    "        \n",
    "    return times_rolled\n",
    "        \n",
    "\n",
    "for i in range(10): # Play 10 games and print the results\n",
    "    result = play_game()\n",
    "    print(\"Game ended after {} rolls\".format(result))"
   ]
  },
  {
   "cell_type": "markdown",
   "metadata": {},
   "source": [
    "### Revision history\n",
    "\n",
    "* 2022-01-21 Initial publication"
   ]
  }
 ],
 "metadata": {
  "kernelspec": {
   "display_name": "Python 3 (ipykernel)",
   "language": "python",
   "name": "python3"
  },
  "language_info": {
   "codemirror_mode": {
    "name": "ipython",
    "version": 3
   },
   "file_extension": ".py",
   "mimetype": "text/x-python",
   "name": "python",
   "nbconvert_exporter": "python",
   "pygments_lexer": "ipython3",
   "version": "3.9.6"
  }
 },
 "nbformat": 4,
 "nbformat_minor": 4
}
