{
 "cells": [
  {
   "cell_type": "markdown",
   "metadata": {},
   "source": [
    "# MCS 275 Spring 2022 Homework 1 Solutions\n",
    "\n",
    "* Course Instructor: Emily Dumas\n",
    "* Solutions prepared by: Johnny Joyce"
   ]
  },
  {
   "cell_type": "markdown",
   "metadata": {},
   "source": [
    "## Instructions:\n",
    "\n",
    "* Complete the problems below, which ask you to write Python scripts.\n",
    "* Upload your python code directly to gradescope, i.e. upload the `.py` files containing your work.  (If you upload a screenshot or other file format, you won't get credit.)\n",
    "\n",
    "### Deadline\n",
    "This homework assignment must be submitted in Gradescope by **Noon central time on Wednesday 19 January 2022**.\n",
    "\n",
    "(Note:That's a deviation from the usual schedule where homework is due on Tuesdays.)\n",
    "\n",
    "### Collaboration\n",
    "\n",
    "**Collaboration is prohibited**, and you may only access resources (books, online, etc.) listed below.\n",
    "\n",
    "### Resources you may consult\n",
    "\n",
    "The course materials you may refer to for this homework are:\n",
    "* [Worksheet 1 Solutions](https://www.dumas.io/teaching/2022/spring/mcs275/nbview/worksheets/worksheet1soln.html)\n",
    "* [Python tour](https://www.dumas.io/teaching/2022/spring/mcs275/nbview/samplecode/python_tour.html)\n",
    "* These other things that are allowed, but probably not needed:\n",
    "    * Any of the MCS 275 slide presentations\n",
    "    * Slides from any lecture of the previous course, [MCS 260, Fall 2021](https://www.dumas.io/teaching/2021/fall/mcs260/).\n",
    "    * Any lecture video posted on the [course Blackboard site](https://uic.blackboard.com/ultra/courses/_210110_1/cl/outline)\n",
    "    * [Downey's book](https://greenteapress.com/thinkpython2/html/)\n",
    "    * Any other textbook listed on the course blackboard site under \"Textbooks\"\n",
    "    * Anything in the course [sample code repository](https://github.com/emilydumas/mcs275spring2022/tree/main/samplecode).\n",
    "\n",
    "### Point distribution\n",
    "\n",
    "This homework assignment has 2 problems, numbered 2 and 3.  The grading breakdown is:\n",
    "\n",
    "| Points | Item |\n",
    "| --- | --- |\n",
    "| 2 | Autograder |\n",
    "| 4 | Problem 2 |\n",
    "| 4 | Problem 3 |\n",
    "| **10** | Total |\n",
    "\n",
    "The part marked \"autograder\" reflects points assigned to your submission based on some simple automated checks for Python syntax, etc.  The result of these checks is shown immediately after you submit.\n",
    "\n",
    "### What to do if you're stuck\n",
    "\n",
    "Ask your instructor or TA a question by email, in office hours, or on discord."
   ]
  },
  {
   "cell_type": "markdown",
   "metadata": {},
   "source": [
    "## Problem 1 doesn't exist\n",
    "\n",
    "In Gradescope, the score assigned to your homework submission by the autograder (checking for syntax and docstrings) will be recorded as \"Problem 1\".  Therefore, the numbering of the actual problems begins with 2."
   ]
  },
  {
   "cell_type": "markdown",
   "metadata": {},
   "source": [
    "## Problem 2: Filled fancy box"
   ]
  },
  {
   "cell_type": "markdown",
   "metadata": {},
   "source": [
    "In worksheet 1, you made a program to draw a box using unicode box-drawing characters.  An 9x6 box of that type looks like this:\n",
    "```\n",
    "╔═══════╗ \n",
    "║       ║\n",
    "║       ║\n",
    "║       ║\n",
    "║       ║\n",
    "╚═══════╝\n",
    "```\n",
    "Modify that program (calling the new one `hwk1prob2.py`) so that it generates a \"fancy box\" with decorative inset corners and plus signs, like this:\n",
    "```\n",
    "+╔═════╗+\n",
    "╔╝     ╚╗\n",
    "║       ║\n",
    "║       ║\n",
    "╚╗     ╔╝ \n",
    "+╚═════╝+\n",
    "```\n",
    "and so that each empty space inside the box gets filled with a copy of a specified character, e.g.\n",
    "```\n",
    "+╔══════════════╗+\n",
    "╔╝FFFFFFFFFFFFFF╚╗\n",
    "║FFFFFFFFFFFFFFFF║\n",
    "╚╗FFFFFFFFFFFFFF╔╝ \n",
    "+╚══════════════╝+\n",
    "```\n",
    "\n",
    "Specifically:\n",
    "* The output filename will be given as the first command line argument\n",
    "* The total width of the box, in characters, is the second command line argument (will be at least 5)\n",
    "* The total height of the box, in lines, is the third command line argument (will be at least 5)\n",
    "* The fill character (\"F\" in the example above) is the fourth command line argument\n",
    "\n",
    "Examples:\n",
    "* If called as\n",
    "```\n",
    "python3 hwk1prob2.py out1.txt 9 6 j\n",
    "```\n",
    "the output file `out1.txt` is created and the following is written to it:\n",
    "```\n",
    "+╔═════╗+\n",
    "╔╝jjjjj╚╗\n",
    "║jjjjjjj║\n",
    "║jjjjjjj║\n",
    "╚╗jjjjj╔╝ \n",
    "+╚═════╝+\n",
    "```\n",
    "\n",
    "* If called as\n",
    "```\n",
    "python3 hwk1prob2.py out2.txt 15 5 @\n",
    "```\n",
    "the output file `out2.txt` is created and the following is written to it:\n",
    "```\n",
    "+╔═══════════╗+\n",
    "╔╝@@@@@@@@@@@╚╗\n",
    "║@@@@@@@@@@@@@║\n",
    "╚╗@@@@@@@@@@@╔╝ \n",
    "+╚═══════════╝+\n",
    "```"
   ]
  },
  {
   "cell_type": "markdown",
   "metadata": {},
   "source": [
    "# Solution:"
   ]
  },
  {
   "cell_type": "code",
   "execution_count": 14,
   "metadata": {},
   "outputs": [],
   "source": [
    "import sys\n",
    "\n",
    "outfile = sys.argv[1] # e.g. \"out.txt\"\n",
    "width = int(sys.argv[2]) # e.g. 10\n",
    "height = int(sys.argv[3]) # e.g. 20\n",
    "fill_char = sys.argv[4] # e.g. \"F\"\n",
    "\n",
    "\n",
    "def write_box_to_file(f):\n",
    "    '''Given an already-opened file f, writes the fancy box to the file'''\n",
    "    \n",
    "    # Create the top of the box\n",
    "    # We subtract 4 from the width to account for the corners\n",
    "    f.write(\"+╔\" + \"═\"*(width-4) + \"╗+\")                  # Looks like e.g.:  +╔═════════╗+\n",
    "    f.write(\"\\n\") # Move to a new line\n",
    "    f.write(\"╔╝\" + fill_char*(width-4) + \"╚╗\")            # Looks like e.g.:  ╔╝FFFFFFFFF╚╗\n",
    "    f.write(\"\\n\") # Move to a new line\n",
    "    \n",
    "    # Create the left and right sides of the box\n",
    "    # Subtract 4 from height to account for top two and bottom two lines\n",
    "    for i in range(height-4):\n",
    "        f.write(\"║\" + fill_char*(width-2) + \"║\")          # Looks like e.g.:  ║FFFFFFFFFFF║\n",
    "        f.write(\"\\n\") # Move to a new line\n",
    "    \n",
    "    \n",
    "    # Create the bottom of the box\n",
    "    f.write(\"╚╗\" + fill_char*(width-4) + \"╔╝\")             # Looks like e.g.: ╚╗FFFFFFFFF╔╝\n",
    "    f.write(\"\\n\") # Move to a new line\n",
    "    f.write(\"+╚\" + \"═\"*(width-4) + \"╝+\")                   # Looks like e.g.:  ╚═════════╝\n",
    "    f.write(\"\\n\") # Move to a new line\n",
    "    \n",
    "    \n",
    "    \n",
    "# By setting encoding to UTF-8, we can use the Unicode characters as specified\n",
    "with open(outfile, \"w\", encoding=\"UTF-8\") as f:\n",
    "    write_box_to_file(f)"
   ]
  },
  {
   "cell_type": "markdown",
   "metadata": {},
   "source": [
    "## Problem 3: Finding 260 in powers of 275\n",
    "\n",
    "The large integer shown below is $275^{50}$ (or in Python syntax, `275**50`):\n",
    "\n",
    "\n",
    " 9**260**5054467343067837474447744797179339681065959901609623272419896243561247711783591951562044641832471825182437896728515625\n",
    "\n",
    "If you look near the beginning, you'll see that the three digits 260 appear inside this number (contiguously).  Those digits are shown in bold.\n",
    "\n",
    "There are other powers of 275 that contain 260 within the decimal digits, and the one above isn't even the smallest power that works.\n",
    "\n",
    "**Write a program to find the four smallest powers of 275 that contain 260 in their decimal digits.  Have it print just the exponents (e.g. 50 in the example above), rather than the actual huge integer.**\n",
    "\n",
    "Save your program as `hwk1prob3.py` and submit it.\n",
    "\n",
    "**Note:** We're not looking for 2, 6, and 0 to appear in arbitrary places.  They must be next to one another and in the order 260.  So, for example, $275^3 = 20796875$ wouldn't count."
   ]
  },
  {
   "cell_type": "markdown",
   "metadata": {},
   "source": [
    "# Solution:"
   ]
  },
  {
   "cell_type": "markdown",
   "metadata": {},
   "source": [
    "**Note:**\n",
    "\n",
    "The solutions are:\n",
    "\n",
    "* 275 ^ 26 = 2646366800746415709389164929721<font size=3pt>**260**</font>932637960650026798248291015625\n",
    "\n",
    "* 275 ^ 29 = 550361595592731142062027893977968484584550878935<font size=3pt>**260**</font>69819927215576171875\n",
    "\n",
    "* 275 ^ 30 = 151349438788001064067057670843941333<font size=3pt>**260**</font>75149170719669200479984283447265625\n",
    "\n",
    "* 275 ^ 37 = 18001540493<font size=3pt>**260**</font>55593052190123655761154309235783327163005207438573052058927714824676513671875"
   ]
  },
  {
   "cell_type": "code",
   "execution_count": 2,
   "metadata": {},
   "outputs": [
    {
     "name": "stdout",
     "output_type": "stream",
     "text": [
      "26\n",
      "29\n",
      "30\n",
      "37\n"
     ]
    }
   ],
   "source": [
    "power = 0 # The power to which we will raise the number 275\n",
    "\n",
    "times_printed = 0 # Keep track of how many times we have printed a number\n",
    "\n",
    "while times_printed < 4:\n",
    "    \n",
    "    power += 1\n",
    "    \n",
    "    number_as_string = str(275**power) # Convert to str so we can check individual digits\n",
    "    \n",
    "    if \"260\" in number_as_string:\n",
    "        print(power)\n",
    "        times_printed += 1\n",
    "                        \n"
   ]
  },
  {
   "cell_type": "code",
   "execution_count": null,
   "metadata": {},
   "outputs": [],
   "source": []
  }
 ],
 "metadata": {
  "kernelspec": {
   "display_name": "Python 3 (ipykernel)",
   "language": "python",
   "name": "python3"
  },
  "language_info": {
   "codemirror_mode": {
    "name": "ipython",
    "version": 3
   },
   "file_extension": ".py",
   "mimetype": "text/x-python",
   "name": "python",
   "nbconvert_exporter": "python",
   "pygments_lexer": "ipython3",
   "version": "3.9.6"
  }
 },
 "nbformat": 4,
 "nbformat_minor": 4
}
