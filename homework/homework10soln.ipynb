{
 "cells": [
  {
   "cell_type": "markdown",
   "metadata": {},
   "source": [
    "# MCS 275 Spring 2022 Homework 10 Solution\n",
    "\n",
    "* Course Instructor: Emily Dumas\n",
    "* Solutions prepared by: Johnny Joyce"
   ]
  },
  {
   "cell_type": "markdown",
   "metadata": {},
   "source": [
    "## Instructions:\n",
    "\n",
    "* Complete the problems below, which ask you to write Python scripts.\n",
    "* Upload your python code directly to gradescope, i.e. upload the `.py` files containing your work.  (If you upload a screenshot or other file format, you won't get credit.)\n",
    "\n",
    "### Deadline\n",
    "\n",
    "This homework assignment must be submitted in Gradescope by **Noon central time on Tuesday 29 March 2022**.\n",
    "\n",
    "### Collaboration\n",
    "\n",
    "**Collaboration is prohibited**, and you may only access resources (books, online, etc.) listed below.\n",
    "\n",
    "### Resources you may consult\n",
    "\n",
    "These things might be helpful while working on the problems.  Remember that for worksheets,  we don't strictly limit what resources you can consult, so these are only suggestions.\n",
    "\n",
    "* [Worksheet 10 Solutions](https://www.dumas.io/teaching/2022/spring/mcs275/nbview/worksheets/worksheet10soln.html)\n",
    "* [Lecture 24](http://dumas.io/teaching/2022/spring/mcs275/slides/lecture24.html)\n",
    "* [Lecture 25](http://dumas.io/teaching/2022/spring/mcs275/slides/lecture25.html)\n",
    "* [Lecture 26](http://dumas.io/teaching/2022/spring/mcs275/slides/lecture26.html)\n",
    "* [Chapter 2 of VanderPlas](https://jakevdp.github.io/PythonDataScienceHandbook/index.html)\n",
    "* [Downey's book](https://greenteapress.com/thinkpython2/html/)\n",
    "\n",
    "### Point distribution\n",
    "\n",
    "This homework assignment has two problems.  The grading breakdown is:\n",
    "\n",
    "| Points | Item |\n",
    "| --- | --- |\n",
    "| 2 | Autograder |\n",
    "| 4 | Problem 2 |\n",
    "| 4 | Problem 3 |\n",
    "| **10** | Total |\n",
    "\n",
    "The part marked \"autograder\" reflects points assigned to your submission based on some simple automated checks for Python syntax, etc..  The result of these checks is shown immediately after you submit.\n",
    "\n",
    "### What to do if you're stuck\n",
    "\n",
    "Ask your instructor or TA a question by email, in office hours, or on discord."
   ]
  },
  {
   "cell_type": "markdown",
   "metadata": {},
   "source": [
    "## No problem 1 as usual"
   ]
  },
  {
   "cell_type": "markdown",
   "metadata": {},
   "source": [
    "## Problem 2: RGB channel separator\n",
    "\n",
    "Write a program that reads a color bitmap image (mode RGB) from a file, whose name is given as the first command line argument.  It should then create three image files, `red.png`, `green.png`, and `blue.png` of the same size as the input file.  Each of these should be a grayscale (mode L) image, with contents as follows:\n",
    "* The brightness of the pixel at (x,y) in `red.png` is equal to the red component of the pixel (x,y) in the input file\n",
    "* The brightness of the pixel at (x,y) in `green.png` is equal to the green component of the pixel (x,y) in the input file\n",
    "* The brightness of the pixel at (x,y) in `blue.png` is equal to the blue component of the pixel (x,y) in the input file\n",
    "Thus, for example, if the pixel at (20,22) in the input file has color (8,220,91), then the pixel in `red.png` at (20,22) has brightness 8, the pixel in `green.png` at (20,22) has brightness 220, and the pixel in `blue.png` at (20,22) has brightness 91.\n",
    "\n",
    "Here is a sample of what the output would look like.  If the input image is:\n",
    "![sunflower](images/sunflower.png)\n",
    "\n",
    "Then:\n",
    "* `red.png` would be:\n",
    "![sunflower](images/sunflower-red.png)\n",
    "\n",
    "* `green.png` would be:\n",
    "![sunflower](images/sunflower-green.png)\n",
    "\n",
    "* `blue.png` would be:\n",
    "![sunflower](images/sunflower-blue.png)\n",
    "\n",
    "Save your program as `hwk10prob2.py` and upload it to Gradescope."
   ]
  },
  {
   "cell_type": "markdown",
   "metadata": {},
   "source": [
    "# Solution"
   ]
  },
  {
   "cell_type": "code",
   "execution_count": 2,
   "metadata": {},
   "outputs": [],
   "source": [
    "from PIL import Image\n",
    "\n",
    "filename = \"images/sunflower.png\"\n",
    "\n",
    "\n",
    "img = Image.open(filename)\n",
    "w, h = img.size # width, height\n",
    "\n",
    "# Create new greyscale images so we can fill them in\n",
    "img_red = Image.new(\"L\", (w,h))\n",
    "img_blue = Image.new(\"L\", (w,h))\n",
    "img_green = Image.new(\"L\", (w,h))\n",
    "\n",
    "# Iterate over each pixel\n",
    "for x in range(w):\n",
    "    for y in range(h):\n",
    "        r,g,b = img.getpixel((x,y)) # Get RGB values of current pixel\n",
    "        \n",
    "        # Put each RGB value of pixel into corresponding images\n",
    "        img_red.putpixel((x,y), r)\n",
    "        img_green.putpixel((x,y), g)\n",
    "        img_blue.putpixel((x,y), b)\n",
    "\n",
    "img_red.save(\"red.png\")\n",
    "img_green.save(\"green.png\")\n",
    "img_blue.save(\"blue.png\")"
   ]
  },
  {
   "cell_type": "markdown",
   "metadata": {},
   "source": [
    "## Problem 3: Explain three lines of code\n",
    "\n",
    "For this quiz problem, you need to add explanatory comments to a given code sample.\n"
   ]
  },
  {
   "cell_type": "code",
   "execution_count": 16,
   "metadata": {},
   "outputs": [
    {
     "name": "stdout",
     "output_type": "stream",
     "text": [
      "[ 2  9 16 23 30]\n",
      "31\n"
     ]
    }
   ],
   "source": [
    "# Undocumented sample\n",
    "import numpy as np\n",
    "\n",
    "A = np.arange(35).reshape(5,7)\n",
    "print(A[:,2])\n",
    "print(A[4,3])"
   ]
  },
  {
   "cell_type": "markdown",
   "metadata": {},
   "source": [
    "Here is a documented version of the same program, where every line of code is explained by a comment above it."
   ]
  },
  {
   "cell_type": "code",
   "execution_count": 86,
   "metadata": {},
   "outputs": [
    {
     "name": "stdout",
     "output_type": "stream",
     "text": [
      "[ 14  91 266 539 910]\n",
      "401.0\n"
     ]
    }
   ],
   "source": [
    "# Documented sample\n",
    "import numpy as np\n",
    "\n",
    "# Arrange the integers 0...34 in a matrix\n",
    "# with 5 rows and 7 columns.  Square each\n",
    "# one and add 10.\n",
    "A = np.arange(35).reshape(5,7)**2 + 10\n",
    "\n",
    "# Print column 2 of the matrix\n",
    "print(A[:,2])\n",
    "\n",
    "# Print the average (arithmetic mean) of \n",
    "# all the entries of the matrix\n",
    "print(np.mean(A))"
   ]
  },
  {
   "cell_type": "markdown",
   "metadata": {},
   "source": [
    "Notice that each comment is detailed enough that if you were only given the contents of the comment, you would be able to re-create the corresponding code.  (In normal programming practice you wouldn't use this many comments, nor include this much detail, but I am showing what is expected in this problem.)\n",
    "\n",
    "**Add the same kind of explanatory comments to the following program:**"
   ]
  },
  {
   "cell_type": "code",
   "execution_count": null,
   "metadata": {},
   "outputs": [],
   "source": [
    "# document this code\n",
    "import numpy as np\n",
    "\n",
    "B = np.linspace(21,30,10).reshape(5,2).T + np.array([5,50,500,5000,-1])\n",
    "\n",
    "print(np.sum(B[:,2:-1]))\n",
    "\n",
    "print(np.sum(np.exp(-0.1*B[1])))"
   ]
  },
  {
   "cell_type": "markdown",
   "metadata": {},
   "source": [
    "Put your commented version of this in a file called `hwk10prob3.py` and upload it to gradescope."
   ]
  },
  {
   "cell_type": "markdown",
   "metadata": {},
   "source": [
    "# Solution"
   ]
  },
  {
   "cell_type": "code",
   "execution_count": null,
   "metadata": {},
   "outputs": [],
   "source": [
    "# document this code\n",
    "import numpy as np\n",
    "\n",
    "# Arrange numbers 21, 22, 23, ..., 30 into matrix with 5 rows and 2 columns.\n",
    "# Add 5 to each value in the first column, \n",
    "# add 50 to each value in the second column, 500 to third, 5000 to fourth, -1 to fifth.\n",
    "B = np.linspace(21,30,10).reshape(5,2).T + np.array([5,50,500,5000,-1])\n",
    "\n",
    "# Print the sum of all values in the third and fourth columns\n",
    "print(np.sum(B[:,2:-1]))\n",
    "\n",
    "# Take each value x from the first row and transform it \n",
    "# into e^(-0.1*x), then print the sum\n",
    "print(np.sum(np.exp(-0.1*B[1])))"
   ]
  }
 ],
 "metadata": {
  "kernelspec": {
   "display_name": "Python 3 (ipykernel)",
   "language": "python",
   "name": "python3"
  },
  "language_info": {
   "codemirror_mode": {
    "name": "ipython",
    "version": 3
   },
   "file_extension": ".py",
   "mimetype": "text/x-python",
   "name": "python",
   "nbconvert_exporter": "python",
   "pygments_lexer": "ipython3",
   "version": "3.10.2"
  }
 },
 "nbformat": 4,
 "nbformat_minor": 4
}
