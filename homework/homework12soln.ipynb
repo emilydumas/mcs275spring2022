{
 "cells": [
  {
   "cell_type": "markdown",
   "metadata": {},
   "source": [
    "# MCS 275 Spring 2022 Homework 12 Solutions\n",
    "\n",
    "* Course Instructor: Emily Dumas\n",
    "* Solutions prepared by: Johnny Joyce"
   ]
  },
  {
   "cell_type": "markdown",
   "metadata": {},
   "source": [
    "## Instructions:\n",
    "\n",
    "* Complete the problems below, which ask you to write Python scripts.\n",
    "* Upload your python code directly to gradescope, i.e. upload the `.py` files containing your work.  (If you upload a screenshot or other file format, you won't get credit.)\n",
    "\n",
    "### Deadline\n",
    "\n",
    "This homework assignment must be submitted in Gradescope by **Noon central time on Tuesday 12 April 2022**.\n",
    "\n",
    "### Collaboration\n",
    "\n",
    "**Collaboration is prohibited**, and you may only access resources (books, online, etc.) listed below.\n",
    "\n",
    "### Resources you may consult\n",
    "\n",
    "These things might be helpful while working on the problems.  Remember that for worksheets,  we don't strictly limit what resources you can consult, so these are only suggestions.\n",
    "\n",
    "* [Worksheet 12 Solutions](https://www.dumas.io/teaching/2022/spring/mcs275/nbview/worksheets/worksheet12soln.html)\n",
    "* [Lecture 30](https://www.dumas.io/teaching/2022/spring/mcs275/slides/lecture30.html)\n",
    "* [Lecture 31](https://www.dumas.io/teaching/2022/spring/mcs275/slides/lecture31.html)\n",
    "* [Lecture 32](https://www.dumas.io/teaching/2022/spring/mcs275/slides/lecture32.html)\n",
    "* [SQLite Tutorial (sqlitetutorial.net)](https://www.sqlitetutorial.net/)\n",
    "* [SQLite language documentation](https://www.sqlite.org/lang.html)\n",
    "\n",
    "### Point distribution\n",
    "\n",
    "This homework assignment has two problems.  The grading breakdown is:\n",
    "\n",
    "| Points | Item |\n",
    "| --- | --- |\n",
    "| 2 | Autograder |\n",
    "| 4 | Problem 2 |\n",
    "| 4 | Problem 3 |\n",
    "| **10** | Total |\n",
    "\n",
    "The part marked \"autograder\" reflects points assigned to your submission based on some simple automated checks for Python syntax, etc..  The result of these checks is shown immediately after you submit.\n",
    "\n",
    "### What to do if you're stuck\n",
    "\n",
    "Ask your instructor or TA a question by email, in office hours, or on discord."
   ]
  },
  {
   "cell_type": "markdown",
   "metadata": {},
   "source": [
    "## ( No problem 1 as usual )"
   ]
  },
  {
   "cell_type": "markdown",
   "metadata": {},
   "source": [
    "## Problem 2\n",
    "\n",
    "### Tutorial: How to list files and get modification time\n",
    "\n",
    "For use in the rest of this problem, here's a demonstration of how to list all the files in the current directory, and to get the time (in seconds in Jan 1 1970) when the file was most recently changed.  You can find more about `os.listdir` and `os.getmtime` in the [documentation of the `os` module](https://docs.python.org/3/library/os.html)."
   ]
  },
  {
   "cell_type": "code",
   "execution_count": 10,
   "metadata": {},
   "outputs": [
    {
     "name": "stdout",
     "output_type": "stream",
     "text": [
      "Filename=homework11soln.ipynb\n",
      "LastModified=1649258369\n",
      "\n",
      "Filename=homework12.ipynb\n",
      "LastModified=1649357087\n",
      "\n",
      "Filename=homework10.ipynb\n",
      "LastModified=1647552323\n",
      "\n",
      "Filename=homework11.ipynb\n",
      "LastModified=1647381255\n",
      "\n",
      "Filename=homework10soln.ipynb\n",
      "LastModified=1648583672\n",
      "\n"
     ]
    }
   ],
   "source": [
    "import os\n",
    "\n",
    "for fn in os.listdir():\n",
    "    print(\"Filename={}\\nLastModified={}\\n\".format(fn,int(os.path.getmtime(fn))))"
   ]
  },
  {
   "cell_type": "markdown",
   "metadata": {},
   "source": [
    "### The actual task\n",
    "\n",
    "Now, using the code above as a starting point, write a new program called `hwk12prob2.py` that examines files in the current directory and stores info about their last modified times and how often they've changed in a database.\n",
    "\n",
    "Specifically, the program must do the following:\n",
    "* Open a SQLite database file called `lastmod.db`\n",
    "* Create a table called `files` as follows **if it doesn't already exist**:\n",
    "    * Column `name` of type TEXT (i.e. a Python string)\n",
    "    * Column `lastmod` of type INTEGER\n",
    "    * Column `revcount` of type INTEGER\n",
    "* Look at every file in the current directory, and do the following for each one:\n",
    "    * If the filename is `lastmod.db`, just continue to the next iteration of the loop (skipping everything below for this file)\n",
    "    * If there is **already a row** in the table `files` that has the same `name` as this file, then:\n",
    "        * Check whether the `lastmod` value for that row is equal to the last modified time of this file.\n",
    "            * If they are the same: Do nothing\n",
    "            * If they are different: Update the `lastmod` value for that row to the last modified time of this file, and also increase the value of `revcount` in that row by 1\n",
    "    * Otherwise (i.e. if there is **no row** in the table `files` that has the same `name` as this file):\n",
    "        * Create a new row in table `files` using this file's name as `name`, using its last modified time as `lastmod`, and setting `revcount` to 1\n",
    "\n",
    "This means that if you run `hwk12prob2.py` in a given directory on a regular basis (say, every hour or every few minutes), it will notice every time a file has changed and keep a count of how many different versions it has seen thus far.  The database will also track the most recent modification time of every file, including any that have since been deleted.\n",
    "\n",
    "Test your program by running it in the directory where you're working on your assignment.  Make a modification to a file in that directory, and run `hwk12prob2.py` again.  Now if you open `lastmod.db` in the SQLite command line shell and run `SELECT * FROM files;` it should show all the files, most of which will have `revcount` equal to 1, but the file you modified should have `revcount` equal to 2."
   ]
  },
  {
   "cell_type": "markdown",
   "metadata": {},
   "source": [
    "# Solution"
   ]
  },
  {
   "cell_type": "code",
   "execution_count": 18,
   "metadata": {
    "scrolled": false
   },
   "outputs": [
    {
     "name": "stdout",
     "output_type": "stream",
     "text": [
      "Updated row for file homework12soln.ipynb. Previous lastmod: 1649364942. New lastmod: 1649364943\n"
     ]
    }
   ],
   "source": [
    "import sqlite3\n",
    "import os\n",
    "\n",
    "con = sqlite3.connect(\"lastmod.db\")\n",
    "\n",
    "con.execute(\"CREATE TABLE IF NOT EXISTS files (name TEXT, lastmod INT, revcount INT);\")\n",
    "\n",
    "for filename in os.listdir(): # Iterate over every file\n",
    "    \n",
    "    if filename == \"lastmod.db\": # Skip database file itself\n",
    "        continue\n",
    "\n",
    "    c = con.execute(\"SELECT * FROM files WHERE name = ?;\", (filename,))\n",
    "    row = c.fetchone()\n",
    "    \n",
    "    if row is not None: # If row is already in table\n",
    "        \n",
    "        lastmod_os = os.path.getmtime(filename) # Last modification according to OS\n",
    "        lastmod_db = row[1] # Last modification according to database\n",
    "        revcount = row[2]\n",
    "        \n",
    "        if int(lastmod_os) != int(lastmod_db):\n",
    "            con.execute(\"UPDATE files SET lastmod = ?, revcount = ? WHERE name = ?;\", (int(lastmod_os), revcount+1, filename))\n",
    "            # Print statement not required by question, but is helpful debugging or user experience.\n",
    "            print(\"Updated row for file {}. Previous lastmod: {}. New lastmod: {}\".format(filename, int(lastmod_db), int(lastmod_os)))\n",
    "    \n",
    "    else: # If row is not in table\n",
    "        \n",
    "        lastmod_os = os.path.getmtime(filename) # last modification according to OS\n",
    "        con.execute(\"INSERT INTO files VALUES (?, ?, ?);\", (filename, int(lastmod_os), 1))\n",
    "\n",
    "con.commit()\n",
    "con.close()"
   ]
  },
  {
   "cell_type": "markdown",
   "metadata": {},
   "source": [
    "### Code snippet to check contents of database:\n",
    "\n",
    "***Note from Johnny:*** This was run in a folder where I put a bunch of my MCS 275 stuff 🙂 Notice that `homework12soln.ipynb` (i.e. this file you're currently reading) has `revcount` higher than 1 because I intentionally saved and re-ran it many times."
   ]
  },
  {
   "cell_type": "code",
   "execution_count": 19,
   "metadata": {},
   "outputs": [
    {
     "name": "stdout",
     "output_type": "stream",
     "text": [
      "('.ipynb_checkpoints', 1649362433, 1)\n",
      "('h.json', 1647452077, 1)\n",
      "('homework10soln.ipynb', 1648415738, 1)\n",
      "('homework11soln.ipynb', 1648791499, 1)\n",
      "('homework11work.ipynb', 1648790666, 1)\n",
      "('homework12.ipynb', 1649362286, 1)\n",
      "('homework12soln.ipynb', 1649364943, 13)\n",
      "('homework4soln.ipynb', 1643942709, 1)\n",
      "('homework5soln.ipynb', 1644975097, 1)\n",
      "('homework6soln.ipynb', 1645587381, 1)\n",
      "('homework7soln.ipynb', 1646156755, 1)\n",
      "('homework7work.ipynb', 1645816077, 1)\n",
      "('homework8soln.ipynb', 1646708033, 1)\n",
      "('homework9soln.ipynb', 1647360818, 1)\n",
      "('images', 1648416695, 1)\n",
      "('intsplit.py', 1645136763, 1)\n",
      "('mcs 572.txt', 1647289717, 1)\n",
      "('mcs275revealjs.zip', 1646625164, 1)\n",
      "('mcs275_ml_lecture.txt', 1647224242, 1)\n",
      "('neural-network.ipynb', 1648665662, 1)\n",
      "('neural-network2.ipynb', 1648659861, 1)\n",
      "('project2ans.py', 1644987505, 1)\n",
      "('project2ans1.py', 1645467873, 1)\n",
      "('project3.ipynb', 1646343786, 1)\n",
      "('roomtemp.csv', 1648789159, 1)\n",
      "('sample.txt', 1644202965, 1)\n",
      "('slides', 1648097817, 1)\n",
      "('slides-lec31', 1648671057, 1)\n",
      "('spacewasps.csv', 1648416015, 1)\n",
      "('test.py', 1647453015, 1)\n",
      "('weather.csv', 1648789162, 1)\n",
      "('worksheet10', 1648414895, 1)\n",
      "('worksheet11.ipynb', 1648756146, 1)\n",
      "('worksheet11soln.ipynb', 1648756298, 1)\n",
      "('worksheet12', 1649362608, 1)\n",
      "('worksheet4soln.ipynb', 1643514866, 1)\n",
      "('worksheet5work.ipynb', 1644203057, 1)\n",
      "('worksheet6soln.ipynb', 1644983949, 1)\n",
      "('worksheet7', 1645741769, 1)\n",
      "('worksheet8', 1646946770, 1)\n",
      "('worksheet8.ipynb', 1646334192, 1)\n",
      "('worksheet8soln.ipynb', 1646172005, 1)\n",
      "('worksheet9.ipynb', 1646942776, 1)\n",
      "('worksheet9soln.ipynb', 1646778935, 1)\n",
      "('__pycache__', 1645321263, 1)\n"
     ]
    }
   ],
   "source": [
    "import sqlite3\n",
    "\n",
    "con = sqlite3.connect(\"lastmod.db\")\n",
    "\n",
    "c = con.execute(\"SELECT * FROM files;\")\n",
    "\n",
    "for row in c:\n",
    "    print(row)\n",
    "    \n",
    "con.close()"
   ]
  },
  {
   "cell_type": "markdown",
   "metadata": {},
   "source": [
    "## Problem 3\n",
    "\n",
    "### Show that you've read the feedback on Project 3\n",
    "\n",
    "By now you've received and read your graded Project 3 submission (the PDF shared with you on google drive, for which I also emailed you a link on 3 April). Hopefully, you have also read through the solution I posted.\n",
    "\n",
    "As a way to give you some credit for reading the feedback on Project 3, please answer this question:\n",
    "\n",
    "*At the bottom of the last or second to last page of the PDF of your Project 3 feedback, I included a small drawing labeled \"This is just a drawing, not a comment on your work\".  Please describe that drawing briefly.*\n",
    "\n",
    "*(You don't need to be very detailed, e.g. \"three green triangles\" or \"an orange cube\" would be enough detail.)*\n",
    "\n",
    "Put your answer in a text file called `hwk12prob3.txt` and upload it to Gradescope.\n",
    "\n",
    "### Optional: Ask questions\n",
    "\n",
    "If you have questions about your project 3 feedback, the solution, or anything else, feel free to include them in `hwk12prob3.txt`."
   ]
  }
 ],
 "metadata": {
  "kernelspec": {
   "display_name": "Python 3 (ipykernel)",
   "language": "python",
   "name": "python3"
  },
  "language_info": {
   "codemirror_mode": {
    "name": "ipython",
    "version": 3
   },
   "file_extension": ".py",
   "mimetype": "text/x-python",
   "name": "python",
   "nbconvert_exporter": "python",
   "pygments_lexer": "ipython3",
   "version": "3.8.12"
  }
 },
 "nbformat": 4,
 "nbformat_minor": 4
}
